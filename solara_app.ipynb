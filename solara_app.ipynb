{
 "cells": [
  {
   "cell_type": "code",
   "execution_count": null,
   "metadata": {},
   "outputs": [],
   "source": [
    "import asyncio\n",
    "import solara\n",
    "import bleak\n",
    "from device_model import DeviceModel\n",
    "\n",
    "connected_device = solara.reactive(None)\n",
    "device_model = solara.reactive(None)\n",
    "acceleration = solara.reactive((0.0, 0.0, 0.0))\n",
    "devices = solara.reactive([])\n",
    "selected_device = solara.reactive(None)\n",
    "\n",
    "# Data update callback\n",
    "def update_data(device):\n",
    "    acc_x = device.get(\"AccX\")\n",
    "    acc_y = device.get(\"AccY\")\n",
    "    acc_z = device.get(\"AccZ\")\n",
    "    acceleration.set((acc_x, acc_y, acc_z))\n",
    "\n",
    "async def scan_devices():\n",
    "    try:\n",
    "        found = await bleak.BleakScanner.discover(timeout=10.0)\n",
    "        wt_devices = [d for d in found if d.name and \"WT\" in d.name]\n",
    "        devices.set(wt_devices)\n",
    "    except Exception as e:\n",
    "        print(\"Error during scanning:\", e)\n",
    "\n",
    "async def connect():\n",
    "    print(\"Attempting to connect...\")\n",
    "    if selected_device.value is not None:\n",
    "        dev_model = DeviceModel(\"MyBle5.0\", selected_device.value, update_data)\n",
    "        await dev_model.openDevice()\n",
    "        device_model.set(dev_model)\n",
    "        connected_device.set(True)\n",
    "\n",
    "async def calibrate_acceleration():\n",
    "    if device_model.value is not None:\n",
    "        await device_model.value.sendData([0xFF, 0xAA, 0x01, 0x01])\n",
    "\n",
    "@solara.component\n",
    "def Page():\n",
    "    solara.Title(\"WT901BLE5.0 Accelerometer App\")\n",
    "\n",
    "    with solara.Column():\n",
    "        solara.Markdown(\"## Bluetooth Devices\")\n",
    "        solara.Button(\"Scan Devices\", on_click=lambda: asyncio.create_task(scan_devices()))\n",
    "\n",
    "        if devices.value:\n",
    "            options = {f\"{d.name} ({d.address})\": d for d in devices.value}\n",
    "            selected_label = list(options.keys())[0] if options else None\n",
    "\n",
    "            def on_select(label):\n",
    "                selected_device.set(options[label])\n",
    "\n",
    "            solara.Select(label=\"Select Device\", values=list(options.keys()), on_value=on_select)\n",
    "\n",
    "        if selected_device.value and not connected_device.value:\n",
    "            solara.Button(\"Connect\", on_click=lambda: asyncio.create_task(connect()))\n",
    "\n",
    "        if connected_device.value:\n",
    "            solara.Markdown(\"## Acceleration (X, Y, Z)\")\n",
    "            solara.Text(f\"{acceleration.value[0]:.2f}, {acceleration.value[1]:.2f}, {acceleration.value[2]:.2f}\")\n",
    "            solara.Button(\"Calibrate Accelerometer\", on_click=lambda: asyncio.create_task(calibrate_acceleration()))\n"
   ]
  },
  {
   "cell_type": "code",
   "execution_count": 4,
   "metadata": {},
   "outputs": [
    {
     "data": {
      "application/vnd.jupyter.widget-view+json": {
       "model_id": "f74c19e7c1454390a7551fdbbb7d2e03",
       "version_major": 2,
       "version_minor": 0
      },
      "text/html": [
       "Cannot show widget. You probably want to rerun the code cell above (<i>Click in the code cell, and press Shift+Enter <kbd>⇧</kbd>+<kbd>↩</kbd></i>)."
      ],
      "text/plain": [
       "Cannot show ipywidgets in text"
      ]
     },
     "metadata": {},
     "output_type": "display_data"
    }
   ],
   "source": [
    "Page()"
   ]
  },
  {
   "cell_type": "code",
   "execution_count": null,
   "metadata": {},
   "outputs": [],
   "source": []
  }
 ],
 "metadata": {
  "kernelspec": {
   "display_name": ".venv",
   "language": "python",
   "name": "python3"
  },
  "language_info": {
   "codemirror_mode": {
    "name": "ipython",
    "version": 3
   },
   "file_extension": ".py",
   "mimetype": "text/x-python",
   "name": "python",
   "nbconvert_exporter": "python",
   "pygments_lexer": "ipython3",
   "version": "3.11.9"
  }
 },
 "nbformat": 4,
 "nbformat_minor": 2
}
