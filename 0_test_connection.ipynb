{
 "cells": [
  {
   "cell_type": "code",
   "execution_count": null,
   "metadata": {},
   "outputs": [
    {
     "name": "stdout",
     "output_type": "stream",
     "text": [
      "Name: None, Address: 65:D5:46:34:FC:E5, RSSI: -66\n",
      "Name: None, Address: 52:F0:FC:28:82:90, RSSI: -70\n",
      "Name: None, Address: 3C:18:1A:13:6A:A7, RSSI: -74\n",
      "Name: None, Address: 7D:4D:27:A1:40:BD, RSSI: -68\n",
      "Name: None, Address: 23:79:AD:4F:B0:C9, RSSI: -68\n",
      "Name: None, Address: 3E:06:15:3A:71:30, RSSI: -68\n",
      "Name: None, Address: 37:4A:E9:FF:57:89, RSSI: -74\n",
      "Name: None, Address: 7F:93:6C:66:B6:7A, RSSI: -78\n",
      "Name: PROV_636FF8v, Address: AC:67:B2:63:6F:FA, RSSI: -80\n",
      "Name: None, Address: 74:76:A3:3D:47:2D, RSSI: -74\n",
      "Name: LOCKLY5B030765, Address: F4:CE:36:3B:B4:B9, RSSI: -80\n"
     ]
    },
    {
     "name": "stderr",
     "output_type": "stream",
     "text": [
      "C:\\Users\\Ivanholio\\AppData\\Local\\Temp\\ipykernel_22432\\215026634.py:7: FutureWarning: BLEDevice.rssi is deprecated and will be removed in a future version of Bleak, use AdvertisementData.rssi instead\n",
      "  print(f\"Name: {d.name}, Address: {d.address}, RSSI: {d.rssi}\")\n"
     ]
    },
    {
     "ename": "",
     "evalue": "",
     "output_type": "error",
     "traceback": [
      "\u001b[1;31mThe Kernel crashed while executing code in the current cell or a previous cell. \n",
      "\u001b[1;31mPlease review the code in the cell(s) to identify a possible cause of the failure. \n",
      "\u001b[1;31mClick <a href='https://aka.ms/vscodeJupyterKernelCrash'>here</a> for more info. \n",
      "\u001b[1;31mView Jupyter <a href='command:jupyter.viewOutput'>log</a> for further details."
     ]
    }
   ],
   "source": [
    "import asyncio\n",
    "from bleak import BleakScanner\n",
    "\n",
    "async def run():\n",
    "    devices = await BleakScanner.discover()\n",
    "    for d in devices:\n",
    "        print(f\"Name: {d.name}, Address: {d.address}, RSSI: {d.rssi}\")\n",
    "\n",
    "await run()"
   ]
  },
  {
   "cell_type": "code",
   "execution_count": null,
   "metadata": {},
   "outputs": [],
   "source": []
  }
 ],
 "metadata": {
  "kernelspec": {
   "display_name": ".venv",
   "language": "python",
   "name": "python3"
  },
  "language_info": {
   "codemirror_mode": {
    "name": "ipython",
    "version": 3
   },
   "file_extension": ".py",
   "mimetype": "text/x-python",
   "name": "python",
   "nbconvert_exporter": "python",
   "pygments_lexer": "ipython3",
   "version": "3.11.9"
  }
 },
 "nbformat": 4,
 "nbformat_minor": 2
}
