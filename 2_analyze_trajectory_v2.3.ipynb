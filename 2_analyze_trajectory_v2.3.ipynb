{
 "cells": [
  {
   "cell_type": "code",
   "execution_count": 1,
   "id": "d64fbe2b",
   "metadata": {},
   "outputs": [],
   "source": [
    "# --- Imports ---\n",
    "import numpy as np\n",
    "import pandas as pd\n",
    "import matplotlib.pyplot as plt\n",
    "from scipy.spatial.transform import Rotation as R\n",
    "from ahrs.filters import Madgwick\n",
    "filepath = r'imu_logs\\arc_fast.csv'\n",
    "# Load your real data\n",
    "df = pd.read_csv(filepath)\n",
    "\n",
    "# Extract needed columns\n",
    "t = df.index.values*0.01                    # Time in seconds\n",
    "dt = np.diff(t, prepend=t[0])      # time steps (should be ~constant, but safe)\n"
   ]
  },
  {
   "cell_type": "code",
   "execution_count": 2,
   "id": "7656d729",
   "metadata": {},
   "outputs": [
    {
     "name": "stdout",
     "output_type": "stream",
     "text": [
      "(188, 14)\n",
      "Index(['timestamp', 'AccX', 'AccY', 'AccZ', 'AngX', 'AngY', 'AngZ', 'AsX',\n",
      "       'AsY', 'AsZ', 'Q0', 'Q1', 'Q2', 'Q3'],\n",
      "      dtype='object')\n"
     ]
    },
    {
     "data": {
      "image/png": "[encoded data removed]",
      "text/plain": [
       "<Figure size 1500x300 with 1 Axes>"
      ]
     },
     "metadata": {},
     "output_type": "display_data"
    }
   ],
   "source": [
    "\n",
    "data = pd.read_csv(filepath)\n",
    "#data.reset_index(inplace=True,drop=True)\n",
    "#data.index = data.index*10/1000  #10\n",
    "timestep = 1/100\n",
    "print(data.shape)\n",
    "print(data.columns)\n",
    "data['total_acc_change']= (data[['AccX', 'AccY', 'AccZ']].diff().rolling(10).mean().sum(axis=1).abs())\n",
    "data['active_period'] = (data['total_acc_change']>0.5).astype(int).rolling(10).min().rolling(50).max()#.shift(-20)\n",
    "data['active_period'].plot(figsize=(15,3))\n",
    "#data = data[data['active_period']==1]\n",
    "df = data"
   ]
  },
  {
   "cell_type": "code",
   "execution_count": 3,
   "id": "035f4933",
   "metadata": {},
   "outputs": [],
   "source": [
    "acc = data[['AccX', 'AccY', 'AccZ']].values\n",
    "rpy = data[['AngX', 'AngY', 'AngZ']].values\n",
    "quat = data[['Q0','Q1','Q2','Q3']].values\n",
    "n = len(acc)\n",
    "\n",
    "# Build orientation objects\n",
    "rot = R.from_euler('xyz', rpy, degrees=True)\n"
   ]
  },
  {
   "cell_type": "code",
   "execution_count": 4,
   "id": "427124c8",
   "metadata": {},
   "outputs": [],
   "source": [
    "# Compute acceleration magnitude\n",
    "a_mag = np.linalg.norm(acc, axis=1)"
   ]
  },
  {
   "cell_type": "code",
   "execution_count": 5,
   "id": "bdfea101",
   "metadata": {},
   "outputs": [
    {
     "data": {
      "text/plain": [
       "np.float64(9.625561088382355)"
      ]
     },
     "execution_count": 5,
     "metadata": {},
     "output_type": "execute_result"
    }
   ],
   "source": [
    "np.mean(a_mag[0:10])"
   ]
  },
  {
   "cell_type": "code",
   "execution_count": 6,
   "id": "6b1c0cd8",
   "metadata": {},
   "outputs": [
    {
     "data": {
      "text/plain": [
       "array([-5.34632, -0.4867 ,  7.78409])"
      ]
     },
     "execution_count": 6,
     "metadata": {},
     "output_type": "execute_result"
    }
   ],
   "source": [
    "np.mean(acc[0:100],axis=0)"
   ]
  },
  {
   "cell_type": "code",
   "execution_count": 7,
   "id": "f8b11984",
   "metadata": {},
   "outputs": [
    {
     "data": {
      "text/plain": [
       "np.float64(-0.15790029661727478)"
      ]
     },
     "execution_count": 7,
     "metadata": {},
     "output_type": "execute_result"
    }
   ],
   "source": [
    "# Per-sample gravity removal & world-frame accel\n",
    "g_world = np.array([0,0,10.081836018871865])#9.81\n",
    "acc_world = np.zeros((n, 3))\n",
    "for i in range(n):\n",
    "    g_body_i     = rot[i].inv().apply(g_world)\n",
    "    a_dyn_body   = acc[i] - g_body_i\n",
    "    acc_world[i] = rot[i].apply(a_dyn_body)\n",
    "np.mean(acc_world[0:10])"
   ]
  },
  {
   "cell_type": "code",
   "execution_count": 8,
   "id": "8337c137",
   "metadata": {},
   "outputs": [],
   "source": [
    "import pandas as pd\n",
    "import numpy as np\n",
    "import plotly.graph_objects as go\n",
    "from scipy.spatial.transform import Rotation as R\n",
    "\n",
    "def compute_trajectory(df, deadband=0.1, sample_rate=100):\n",
    "    \"\"\"\n",
    "    Computes world-frame trajectory, velocity, and acceleration magnitude \n",
    "    from raw IMU DataFrame.\n",
    "    \n",
    "    Parameters:\n",
    "    - df: DataFrame with columns ['AccX','AccY','AccZ','AngX','AngY','AngZ']\n",
    "    - deadband: threshold for |a| below which the device is considered at rest\n",
    "    - sample_rate: sampling frequency in Hz\n",
    "    \n",
    "    Returns:\n",
    "    - pos: (N,3) array of positions [m]\n",
    "    - vel: (N,3) array of velocities [m/s]\n",
    "    - a_mag: (N,) array of acceleration magnitudes [m/s²]\n",
    "    \"\"\"\n",
    "    # Extract raw accel and angles\n",
    "    acc = df[['AccX', 'AccY', 'AccZ']].values\n",
    "    rpy = df[['AngX', 'AngY', 'AngZ']].values\n",
    "    n = len(acc)\n",
    "    \n",
    "    # Build orientation objects\n",
    "    rot = R.from_euler('xyz', rpy, degrees=True)    \n",
    "    # Compute acceleration magnitude\n",
    "    a_mag = np.linalg.norm(acc, axis=1)    \n",
    "    \n",
    "    # Per-sample gravity removal & world-frame accel\n",
    "    g_world = np.array([0,0,np.mean(a_mag[0:10])])#9.81\n",
    "    acc_world = np.zeros((n, 3))\n",
    "    for i in range(n):\n",
    "        g_body_i     = rot[i].inv().apply(g_world)\n",
    "        a_dyn_body   = acc[i] - g_body_i\n",
    "        acc_world[i] = rot[i].apply(a_dyn_body)\n",
    "    \n",
    "    # Remove mean residual to zero net accel\n",
    "    residual_mean = np.mean(acc_world, axis=0)\n",
    "    acc_world -= residual_mean\n",
    "    \n",
    "    # Compute acceleration magnitude\n",
    "    a_mag = np.linalg.norm(acc_world, axis=1)\n",
    "    \n",
    "    # Manual trapezoidal integration with deadband\n",
    "    dt = 1.0 / sample_rate\n",
    "    vel = np.zeros_like(acc_world)\n",
    "    pos = np.zeros_like(acc_world)\n",
    "    \n",
    "    for i in range(1, n):\n",
    "        # Integrate\n",
    "        vel[i] = vel[i-1] + 0.5 * (acc_world[i] + acc_world[i-1]) * dt\n",
    "        pos[i] = pos[i-1] + 0.5 * (vel[i] + vel[i-1]) * dt\n",
    "        \n",
    "        # Deadband rest clamp\n",
    "        if a_mag[i] < deadband:\n",
    "            vel[i] = 0\n",
    "            pos[i] = pos[i-1]\n",
    "    \n",
    "    return pos, vel, a_mag\n",
    "\n",
    "def compute_trajectory_2(df, deadband=0.1, sample_rate=100):\n",
    "    \"\"\"\n",
    "    Computes world-frame trajectory, velocity, and acceleration magnitude \n",
    "    from raw IMU DataFrame.\n",
    "    \n",
    "    Parameters:\n",
    "    - df: DataFrame with columns ['AccX','AccY','AccZ','AngX','AngY','AngZ']\n",
    "    - deadband: threshold for |a| below which the device is considered at rest\n",
    "    - sample_rate: sampling frequency in Hz\n",
    "    \n",
    "    Returns:\n",
    "    - pos: (N,3) array of positions [m]\n",
    "    - vel: (N,3) array of velocities [m/s]\n",
    "    - a_mag: (N,) array of acceleration magnitudes [m/s²]\n",
    "    \"\"\"\n",
    "    # Extract raw accel and angles\n",
    "    acc = df[['AccX', 'AccY', 'AccZ']].values\n",
    "    rpy = df[['AngX', 'AngY', 'AngZ']].values\n",
    "    n = len(acc)\n",
    "    \n",
    "    # Build orientation objects\n",
    "    rot = R.from_euler('xyz', rpy, degrees=True)    \n",
    "    # Compute acceleration magnitude\n",
    "    a_mag = np.linalg.norm(acc, axis=1)    \n",
    "    \n",
    "    # 1) Take your first N samples as “static”\n",
    "    N_cal = 10\n",
    "    acc_static = acc[:N_cal]  # raw [N_cal×3]\n",
    "    rpy_static = rpy[:N_cal]\n",
    "    rot_static = R.from_euler('xyz', rpy_static, degrees=True)\n",
    "\n",
    "    # 2) Estimate g_world magnitude from the static accel magnitudes\n",
    "    g_mag = np.mean(np.linalg.norm(acc_static, axis=1))\n",
    "    g_world = np.array([0, 0, g_mag])\n",
    "\n",
    "    # 3) Compute the *body‐frame* mean accel\n",
    "    #    mean_acc_body = g_body_static + bias_body\n",
    "    mean_acc_body = np.mean(acc_static, axis=0)\n",
    "\n",
    "    # 4) Compute the *body‐frame* gravity direction at sample 0\n",
    "    g0_body = rot_static[0].inv().apply(g_world)\n",
    "\n",
    "    # 5) Solve for constant bias in the body frame\n",
    "    bias_body = mean_acc_body - g0_body\n",
    "\n",
    "    for i in range(n):\n",
    "        # instantaneous gravity in body frame\n",
    "        g_body_i   = rot[i].inv().apply(g_world)\n",
    "        # subtract both gravity and bias in *body* frame\n",
    "        a_dyn_body = acc[i] - g_body_i - bias_body\n",
    "        # rotate into world\n",
    "        acc_world[i] = rot[i].apply(a_dyn_body)\n",
    "    # Compute acceleration magnitude\n",
    "    a_mag = np.linalg.norm(acc_world, axis=1)\n",
    "    \n",
    "    # Manual trapezoidal integration with deadband\n",
    "    dt = 1.0 / sample_rate\n",
    "    vel = np.zeros_like(acc_world)\n",
    "    pos = np.zeros_like(acc_world)\n",
    "    \n",
    "    for i in range(1, n):\n",
    "        # Integrate\n",
    "        vel[i] = vel[i-1] + 0.5 * (acc_world[i] + acc_world[i-1]) * dt\n",
    "        pos[i] = pos[i-1] + 0.5 * (vel[i] + vel[i-1]) * dt\n",
    "        \n",
    "        # Deadband rest clamp\n",
    "        if a_mag[i] < deadband:\n",
    "            vel[i] = 0\n",
    "            pos[i] = pos[i-1]\n",
    "    \n",
    "    return pos, vel, a_mag\n",
    "\n",
    "def plot_trajectory(pos, a_mag, title='Trajectory with Deadband & |a| in Hover'):\n",
    "    \"\"\"\n",
    "    Plots a 3D trajectory with acceleration magnitude in hover info.\n",
    "    \n",
    "    Parameters:\n",
    "    - pos: (N,3) array of positions [m]\n",
    "    - a_mag: (N,) array of acceleration magnitudes [m/s²]\n",
    "    - title: Figure title string\n",
    "    \"\"\"\n",
    "    fig = go.Figure([\n",
    "        go.Scatter3d(\n",
    "            x=pos[:,0], y=pos[:,1], z=pos[:,2],\n",
    "            mode='lines+markers',\n",
    "            line=dict(color='blue', width=2),\n",
    "            marker=dict(color='blue', size=2),\n",
    "            name='Trajectory',\n",
    "            customdata=a_mag[:, None],\n",
    "            hovertemplate=(\n",
    "                'X: %{x:.3f} m<br>'\n",
    "                'Y: %{y:.3f} m<br>'\n",
    "                'Z: %{z:.3f} m<br>'\n",
    "                '|a|: %{customdata[0]:.3f} m/s²'\n",
    "            )\n",
    "        ),\n",
    "        go.Scatter3d(\n",
    "            x=[0], y=[0], z=[0],\n",
    "            mode='markers',\n",
    "            marker=dict(color='green', size=8),\n",
    "            name='Start',\n",
    "            hovertemplate='Start<br>X: 0<br>Y: 0<br>Z: 0'\n",
    "        ),\n",
    "        go.Scatter3d(\n",
    "            x=[pos[-1,0]], y=[pos[-1,1]], z=[pos[-1,2]],\n",
    "            mode='markers',\n",
    "            marker=dict(color='red', size=8),\n",
    "            name='End',\n",
    "            hovertemplate=(\n",
    "                'End<br>'\n",
    "                'X: %{x:.3f} m<br>'\n",
    "                'Y: %{y:.3f} m<br>'\n",
    "                'Z: %{z:.3f} m'\n",
    "            )\n",
    "        )\n",
    "    ])\n",
    "    fig.update_layout(\n",
    "        scene=dict(\n",
    "            xaxis_title='X [m]',\n",
    "            yaxis_title='Y [m]',\n",
    "            zaxis_title='Z [m]',\n",
    "            aspectmode='data'\n",
    "        ),\n",
    "        title=title,\n",
    "        margin=dict(l=0, r=0, b=0, t=30)\n",
    "    )\n",
    "    fig.show()\n",
    "\n",
    "# Example usage:\n",
    "# df = pd.read_csv('your_data.csv')\n",
    "# pos, vel, a_mag = compute_trajectory(df, deadband=0.1, sample_rate=100)\n",
    "# plot_trajectory(pos, a_mag)\n"
   ]
  },
  {
   "cell_type": "code",
   "execution_count": 9,
   "id": "00cf4bc6",
   "metadata": {},
   "outputs": [
    {
     "data": {
      "application/vnd.plotly.v1+json": {
       "config": {
        "plotlyServerURL": "https://plot.ly"
       },
       "data": [
        {
         "customdata": {
          "bdata": "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",
          "dtype": "f8",
          "shape": "188, 1"
         },
         "hovertemplate": "X: %{x:.3f} m<br>Y: %{y:.3f} m<br>Z: %{z:.3f} m<br>|a|: %{customdata[0]:.3f} m/s²",
         "line": {
          "color": "blue",
          "width": 2
         },
         "marker": {
          "color": "blue",
          "size": 2
         },
         "mode": "lines+markers",
         "name": "Trajectory",
         "type": "scatter3d",
         "x": {
          "bdata": "AAAAAAAAAAAAAAAAAAAAAAAAAAAAAAAAAAAAAAAAAAAAAAAAAAAAAAAAAAAAAAAAAAAAAAAAAAAAAAAAAAAAAAAAAAAAAAAAAAAAAAAAAAAAAAAAAAAAAAAAAAAAAAAAAAAAAAAAAAAAAAAAAAAAAAAAAAAAAAAAAAAAAAAAAAAAAAAAAAAAAAAAAAAAAAAAAAAAAAAAAAAAAAAAAAAAAAAAAAAAAAAAAAAAAAAAAAAAAAAAAAAAAAAAAAAAAAAAAAAAAAAAAAAAAAAAAAAAAAAAAAAAAAAAAAAAAAAAAAAAAAAAAAAAAAAAAAAAAAAAAAAAAAAAAAAAAAAAAAAAAAAAAAAAAAAAAAAAAAAAAAAAAAAAAAAAAAAAAAAAAAAAAAAAAAAAAAAAAAAAAAAAAAAAAAAAAAAAAAAAAAAAAAAAAAAAAAAAAAAAAAAAAAAAAAAAAAAAAAAAAAAAAAAAAAAAAAAAAAAAAAAAAAAAAAAAAAAAAAAAAAAAAAAAAAAAAAAAAAAAAAAAAAAAAAAAAAAAAAAAAAAAAAAAAAAAAAAAAAAAAAAAAAAAAAAAAAAAAAAAAAAAAAAAAAAAAAAAAAAAAAAAAAAAAAAAAAAAAAAAAAAAAAAAAAAAAAAAAAAAAAAAAAAAAAAAAAAAAAAAAAAAAAAAAAAAAAAAAAAAAAAAAAAAAAAAAAAAAAAAAAAAAAAAAAAAAAAAAAAAAAAAAAAAAAAAAAAAAAAAAAAAAAAAAAAAAAAAAAAAAAAAAAAAAAAAAAAAAAAAAAAAAAAAAAAAAAAAAAAAAAAAAAAAAAAAAAAAAAAAAAAAAAAAAAAAAAAAAAAAAAAAAAAAAAAAAAAAAAAAAAAAAAAAAAAAAAAAAAAAAAAAAAAAAAAAAAAAAAAAAAAAAAAAAAAAAAAAAAAAAAAAAAAAAAAAAAAAAAAAAAAAAAAAAAAAAAAAAAAAAAAAAAAAAAAAAAAAAAAAAAAAAAAAAAAAAAAAAAAAAAAAAAAAAAAAAAAAAAAAAAAAAAAAAAAAAAAAAAAAAAAAAAAAAAAAAAAAAAAAAAAAAADtvpsiG7QxP5Uqe9b1zVw/4GXw8JihdT+p7E8Z35qFPyigONIGqpE/QK8qanA5mj+cwj8HrziiP0A/Gp5b/6c/ua3Qt2BPrj+G1kymLoiyP4TSztK+E7Y/r93u1MS6uT85hS0rt129P437aoOOZcA/PkWGYJvnwT99sdL9EhzDP00za5y95MM/EIzNgLEixD8g9lDCPsjDP398INEF1MI/ciqwBLlDwT8ukQwerie+P+Uc+iqygrg/pFWeyT6VsT96Do72WcKiP4CatzRxezO/npfMrMQrpb/O5NP8db+1v5zUpVXAe8C/oyPaLcS8xb9xf7sYymbKvwyHVluYZ86/RzauI2De0L/HAnqs9zjSv/fwdLuYTdO/QzZcBuMp1L9XmQ6Pn9zUv/oS/Kt9ddW/+hL8q3111b/6EvyrfXXVv/oS/Kt9ddW/+hL8q3111b/6EvyrfXXVv/oS/Kt9ddW/+hL8q3111b/6EvyrfXXVv/oS/Kt9ddW/+hL8q3111b/6EvyrfXXVv/oS/Kt9ddW/+hL8q3111b/6EvyrfXXVv/oS/Kt9ddW/+hL8q3111b/6EvyrfXXVv/oS/Kt9ddW/+hL8q3111b/6EvyrfXXVv/oS/Kt9ddW/+hL8q3111b/6EvyrfXXVv/oS/Kt9ddW/+hL8q3111b/6EvyrfXXVv/oS/Kt9ddW/+hL8q3111b/6EvyrfXXVv/oS/Kt9ddW/+hL8q3111b/6EvyrfXXVv/oS/Kt9ddW/+hL8q3111b/6EvyrfXXVv/oS/Kt9ddW/+hL8q3111b/6EvyrfXXVv/oS/Kt9ddW/+hL8q3111b/6EvyrfXXVv/oS/Kt9ddW/+hL8q3111b/6EvyrfXXVv/oS/Kt9ddW/+hL8q3111b/6EvyrfXXVv/oS/Kt9ddW/+hL8q3111b/6EvyrfXXVvw==",
          "dtype": "f8"
         },
         "y": {
          "bdata": "AAAAAAAAAAAAAAAAAAAAAAAAAAAAAAAAAAAAAAAAAAAAAAAAAAAAAAAAAAAAAAAAAAAAAAAAAAAAAAAAAAAAAAAAAAAAAAAAAAAAAAAAAAAAAAAAAAAAAAAAAAAAAAAAAAAAAAAAAAAAAAAAAAAAAAAAAAAAAAAAAAAAAAAAAAAAAAAAAAAAAAAAAAAAAAAAAAAAAAAAAAAAAAAAAAAAAAAAAAAAAAAAAAAAAAAAAAAAAAAAAAAAAAAAAAAAAAAAAAAAAAAAAAAAAAAAAAAAAAAAAAAAAAAAAAAAAAAAAAAAAAAAAAAAAAAAAAAAAAAAAAAAAAAAAAAAAAAAAAAAAAAAAAAAAAAAAAAAAAAAAAAAAAAAAAAAAAAAAAAAAAAAAAAAAAAAAAAAAAAAAAAAAAAAAAAAAAAAAAAAAAAAAAAAAAAAAAAAAAAAAAAAAAAAAAAAAAAAAAAAAAAAAAAAAAAAAAAAAAAAAAAAAAAAAAAAAAAAAAAAAAAAAAAAAAAAAAAAAAAAAAAAAAAAAAAAAAAAAAAAAAAAAAAAAAAAAAAAAAAAAAAAAAAAAAAAAAAAAAAAAAAAAAAAAAAAAAAAAAAAAAAAAAAAAAAAAAAAAAAAAAAAAAAAAAAAAAAAAAAAAAAAAAAAAAAAAAAAAAAAAAAAAAAAAAAAAAAAAAAAAAAAAAAAAAAAAAAAAAAAAAAAAAAAAAAAAAAAAAAAAAAAAAAAAAAAAAAAAAAAAAAAAAAAAAAAAAAAAAAAAAAAAAAAAAAAAAAAAAAAAAAAAAAAAAAAAAAAAAAAAAAAAAAAAAAAAAAAAAAAAAAAAAAAAAAAAAAAAAAAAAAAAAAAAAAAAAAAAAAAAAAAAAAAAAAAAAAAAAAAAAAAAAAAAAAAAAAAAAAAAAAAAAAAAAAAAAAAAAAAAAAAAAAAAAAAAAAAAAAAAAAAAAAAAAAAAAAAAAAAAAAAAAAAAAAAAAAAAAAAAAAAAAAAAAAAAAAAAAAAAAAAAAAAAAAAAAAAAAAAAAAAAAAAAAAAAAAAAAAAAAAAAAAAAAAAAAAAAAAAAAAAAACXqj+kDFMpPwUXW6Vc1lA/ie+XdTDHZj96O/7s2nx1P8u8PoFi4IA/Kq4xC9NOiD/L/6BO9s2QPyPjiwM02ZY/0f1lvqHDnj9qsTJTqYWkP3rDtbmUL6s/U2ziltXmsT/oG5lot2e3P1ngwpI5Tr4/PDkeXGxewz/ySdG2fWDIP85L7nmaH84/qvt43iM/0j8eyuVcC6rVP8Bb4s5SONk/5YiMY0bS3D/0RfUdlC/gP7AzEWed4+E/E1KL/fp54z9Ib6FTsenkP9qkNAoXLOY/229+bYQ55z8KIoIAQAnoP0qRFXosm+g/KUHdBJj46D/ojrgJRCzpP1rgECt4Qek/GtDDvh1B6T9L00rJrTHpP3ftOu37F+k/Yk1mkhD36D9h5vOvQtHoP2bH6y48qOg/ZsfrLjyo6D9mx+suPKjoP2bH6y48qOg/ZsfrLjyo6D9mx+suPKjoP2bH6y48qOg/ZsfrLjyo6D9mx+suPKjoP2bH6y48qOg/ZsfrLjyo6D9mx+suPKjoP2bH6y48qOg/ZsfrLjyo6D9mx+suPKjoP2bH6y48qOg/ZsfrLjyo6D9mx+suPKjoP2bH6y48qOg/ZsfrLjyo6D9mx+suPKjoP2bH6y48qOg/ZsfrLjyo6D9mx+suPKjoP2bH6y48qOg/ZsfrLjyo6D9mx+suPKjoP2bH6y48qOg/ZsfrLjyo6D9mx+suPKjoP2bH6y48qOg/ZsfrLjyo6D9mx+suPKjoP2bH6y48qOg/ZsfrLjyo6D9mx+suPKjoP2bH6y48qOg/ZsfrLjyo6D9mx+suPKjoP2bH6y48qOg/ZsfrLjyo6D9mx+suPKjoP2bH6y48qOg/ZsfrLjyo6D9mx+suPKjoP2bH6y48qOg/ZsfrLjyo6D9mx+suPKjoP2bH6y48qOg/ZsfrLjyo6D9mx+suPKjoPw==",
          "dtype": "f8"
         },
         "z": {
          "bdata": "AAAAAAAAAAAAAAAAAAAAAAAAAAAAAAAAAAAAAAAAAAAAAAAAAAAAAAAAAAAAAAAAAAAAAAAAAAAAAAAAAAAAAAAAAAAAAAAAAAAAAAAAAAAAAAAAAAAAAAAAAAAAAAAAAAAAAAAAAAAAAAAAAAAAAAAAAAAAAAAAAAAAAAAAAAAAAAAAAAAAAAAAAAAAAAAAAAAAAAAAAAAAAAAAAAAAAAAAAAAAAAAAAAAAAAAAAAAAAAAAAAAAAAAAAAAAAAAAAAAAAAAAAAAAAAAAAAAAAAAAAAAAAAAAAAAAAAAAAAAAAAAAAAAAAAAAAAAAAAAAAAAAAAAAAAAAAAAAAAAAAAAAAAAAAAAAAAAAAAAAAAAAAAAAAAAAAAAAAAAAAAAAAAAAAAAAAAAAAAAAAAAAAAAAAAAAAAAAAAAAAAAAAAAAAAAAAAAAAAAAAAAAAAAAAAAAAAAAAAAAAAAAAAAAAAAAAAAAAAAAAAAAAAAAAAAAAAAAAAAAAAAAAAAAAAAAAAAAAAAAAAAAAAAAAAAAAAAAAAAAAAAAAAAAAAAAAAAAAAAAAAAAAAAAAAAAAAAAAAAAAAAAAAAAAAAAAAAAAAAAAAAAAAAAAAAAAAAAAAAAAAAAAAAAAAAAAAAAAAAAAAAAAAAAAAAAAAAAAAAAAAAAAAAAAAAAAAAAAAAAAAAAAAAAAAAAAAAAAAAAAAAAAAAAAAAAAAAAAAAAAAAAAAAAAAAAAAAAAAAAAAAAAAAAAAAAAAAAAAAAAAAAAAAAAAAAAAAAAAAAAAAAAAAAAAAAAAAAAAAAAAAAAAAAAAAAAAAAAAAAAAAAAAAAAAAAAAAAAAAAAAAAAAAAAAAAAAAAAAAAAAAAAAAAAAAAAAAAAAAAAAAAAAAAAAAAAAAAAAAAAAAAAAAAAAAAAAAAAAAAAAAAAAAAAAAAAAAAAAAAAAAAAAAAAAAAAAAAAAAAAAAAAAAAAAAAAAAAAAAAAAAAAAAAAAAAAAAAAAAAAAAAAAAAAAAAAAAAAAAAAAAAAAAAAAAAAAAAAAAAAAAAAAAAAAAAAAAAAAAAAAAAAABaca+HzqtJv/a5+HVX7HG/oN6yZxkPib/28mtg6W+Yv5kaXunc16O/uJnVedZarb+QVdeE7HW0v4+PJb+fVLu/Q2Q4+Sqkwb8dNsD4Ox/Gv4wu4+rLC8u/e8cyhzUp0L8Xpxcq5unSvzKp2HJmtNW/z+QS0GVt2L/3gR4YXvLav/YZxvViH92/Zb0D4ojQ3r8RTcqGDvPfvxPWsRXDQuC/2ikLvrJE4L+ZOjJ9KwHgv360wKy4+N6/AuiDVEJ53b/eXf/3kZXbv/8z6ccPZNm/BK3wd+4F17/4Vkaw1abUv0LKExUdaNK/Aj2SuCdg0L/02otZgDDNv77kKu90HMq/bsgIvb99x7/o99eYDUzFv0hQX/OWfMO/Hcsl5JIAwr8rcYvj8cnAvyzSLgkZlb+/LNIuCRmVv78s0i4JGZW/vyzSLgkZlb+/LNIuCRmVv78s0i4JGZW/vyzSLgkZlb+/LNIuCRmVv78s0i4JGZW/vyzSLgkZlb+/LNIuCRmVv78s0i4JGZW/vyzSLgkZlb+/LNIuCRmVv78s0i4JGZW/vyzSLgkZlb+/LNIuCRmVv78s0i4JGZW/vyzSLgkZlb+/LNIuCRmVv78s0i4JGZW/vyzSLgkZlb+/LNIuCRmVv78s0i4JGZW/vyzSLgkZlb+/LNIuCRmVv78s0i4JGZW/vyzSLgkZlb+/LNIuCRmVv78s0i4JGZW/vyzSLgkZlb+/LNIuCRmVv78s0i4JGZW/vyzSLgkZlb+/LNIuCRmVv78s0i4JGZW/vyzSLgkZlb+/LNIuCRmVv78s0i4JGZW/vyzSLgkZlb+/LNIuCRmVv78s0i4JGZW/vyzSLgkZlb+/LNIuCRmVv78s0i4JGZW/vyzSLgkZlb+/LNIuCRmVv78s0i4JGZW/vyzSLgkZlb+/LNIuCRmVv78s0i4JGZW/vw==",
          "dtype": "f8"
         }
        },
        {
         "hovertemplate": "Start<br>X: 0<br>Y: 0<br>Z: 0",
         "marker": {
          "color": "green",
          "size": 8
         },
         "mode": "markers",
         "name": "Start",
         "type": "scatter3d",
         "x": [
          0
         ],
         "y": [
          0
         ],
         "z": [
          0
         ]
        },
        {
         "hovertemplate": "End<br>X: %{x:.3f} m<br>Y: %{y:.3f} m<br>Z: %{z:.3f} m",
         "marker": {
          "color": "red",
          "size": 8
         },
         "mode": "markers",
         "name": "End",
         "type": "scatter3d",
         "x": [
          -0.3352960757768383
         ],
         "y": [
          0.7705365101266863
         ],
         "z": [
          -0.12336880182449111
         ]
        }
       ],
       "layout": {
        "margin": {
         "b": 0,
         "l": 0,
         "r": 0,
         "t": 30
        },
        "scene": {
         "aspectmode": "data",
         "xaxis": {
          "title": {
           "text": "X [m]"
          }
         },
         "yaxis": {
          "title": {
           "text": "Y [m]"
          }
         },
         "zaxis": {
          "title": {
           "text": "Z [m]"
          }
         }
        },
        "template": {
         "data": {
          "bar": [
           {
            "error_x": {
             "color": "#2a3f5f"
            },
            "error_y": {
             "color": "#2a3f5f"
            },
            "marker": {
             "line": {
              "color": "#E5ECF6",
              "width": 0.5
             },
             "pattern": {
              "fillmode": "overlay",
              "size": 10,
              "solidity": 0.2
             }
            },
            "type": "bar"
           }
          ],
          "barpolar": [
           {
            "marker": {
             "line": {
              "color": "#E5ECF6",
              "width": 0.5
             },
             "pattern": {
              "fillmode": "overlay",
              "size": 10,
              "solidity": 0.2
             }
            },
            "type": "barpolar"
           }
          ],
          "carpet": [
           {
            "aaxis": {
             "endlinecolor": "#2a3f5f",
             "gridcolor": "white",
             "linecolor": "white",
             "minorgridcolor": "white",
             "startlinecolor": "#2a3f5f"
            },
            "baxis": {
             "endlinecolor": "#2a3f5f",
             "gridcolor": "white",
             "linecolor": "white",
             "minorgridcolor": "white",
             "startlinecolor": "#2a3f5f"
            },
            "type": "carpet"
           }
          ],
          "choropleth": [
           {
            "colorbar": {
             "outlinewidth": 0,
             "ticks": ""
            },
            "type": "choropleth"
           }
          ],
          "contour": [
           {
            "colorbar": {
             "outlinewidth": 0,
             "ticks": ""
            },
            "colorscale": [
             [
              0,
              "#0d0887"
             ],
             [
              0.1111111111111111,
              "#46039f"
             ],
             [
              0.2222222222222222,
              "#7201a8"
             ],
             [
              0.3333333333333333,
              "#9c179e"
             ],
             [
              0.4444444444444444,
              "#bd3786"
             ],
             [
              0.5555555555555556,
              "#d8576b"
             ],
             [
              0.6666666666666666,
              "#ed7953"
             ],
             [
              0.7777777777777778,
              "#fb9f3a"
             ],
             [
              0.8888888888888888,
              "#fdca26"
             ],
             [
              1,
              "#f0f921"
             ]
            ],
            "type": "contour"
           }
          ],
          "contourcarpet": [
           {
            "colorbar": {
             "outlinewidth": 0,
             "ticks": ""
            },
            "type": "contourcarpet"
           }
          ],
          "heatmap": [
           {
            "colorbar": {
             "outlinewidth": 0,
             "ticks": ""
            },
            "colorscale": [
             [
              0,
              "#0d0887"
             ],
             [
              0.1111111111111111,
              "#46039f"
             ],
             [
              0.2222222222222222,
              "#7201a8"
             ],
             [
              0.3333333333333333,
              "#9c179e"
             ],
             [
              0.4444444444444444,
              "#bd3786"
             ],
             [
              0.5555555555555556,
              "#d8576b"
             ],
             [
              0.6666666666666666,
              "#ed7953"
             ],
             [
              0.7777777777777778,
              "#fb9f3a"
             ],
             [
              0.8888888888888888,
              "#fdca26"
             ],
             [
              1,
              "#f0f921"
             ]
            ],
            "type": "heatmap"
           }
          ],
          "histogram": [
           {
            "marker": {
             "pattern": {
              "fillmode": "overlay",
              "size": 10,
              "solidity": 0.2
             }
            },
            "type": "histogram"
           }
          ],
          "histogram2d": [
           {
            "colorbar": {
             "outlinewidth": 0,
             "ticks": ""
            },
            "colorscale": [
             [
              0,
              "#0d0887"
             ],
             [
              0.1111111111111111,
              "#46039f"
             ],
             [
              0.2222222222222222,
              "#7201a8"
             ],
             [
              0.3333333333333333,
              "#9c179e"
             ],
             [
              0.4444444444444444,
              "#bd3786"
             ],
             [
              0.5555555555555556,
              "#d8576b"
             ],
             [
              0.6666666666666666,
              "#ed7953"
             ],
             [
              0.7777777777777778,
              "#fb9f3a"
             ],
             [
              0.8888888888888888,
              "#fdca26"
             ],
             [
              1,
              "#f0f921"
             ]
            ],
            "type": "histogram2d"
           }
          ],
          "histogram2dcontour": [
           {
            "colorbar": {
             "outlinewidth": 0,
             "ticks": ""
            },
            "colorscale": [
             [
              0,
              "#0d0887"
             ],
             [
              0.1111111111111111,
              "#46039f"
             ],
             [
              0.2222222222222222,
              "#7201a8"
             ],
             [
              0.3333333333333333,
              "#9c179e"
             ],
             [
              0.4444444444444444,
              "#bd3786"
             ],
             [
              0.5555555555555556,
              "#d8576b"
             ],
             [
              0.6666666666666666,
              "#ed7953"
             ],
             [
              0.7777777777777778,
              "#fb9f3a"
             ],
             [
              0.8888888888888888,
              "#fdca26"
             ],
             [
              1,
              "#f0f921"
             ]
            ],
            "type": "histogram2dcontour"
           }
          ],
          "mesh3d": [
           {
            "colorbar": {
             "outlinewidth": 0,
             "ticks": ""
            },
            "type": "mesh3d"
           }
          ],
          "parcoords": [
           {
            "line": {
             "colorbar": {
              "outlinewidth": 0,
              "ticks": ""
             }
            },
            "type": "parcoords"
           }
          ],
          "pie": [
           {
            "automargin": true,
            "type": "pie"
           }
          ],
          "scatter": [
           {
            "fillpattern": {
             "fillmode": "overlay",
             "size": 10,
             "solidity": 0.2
            },
            "type": "scatter"
           }
          ],
          "scatter3d": [
           {
            "line": {
             "colorbar": {
              "outlinewidth": 0,
              "ticks": ""
             }
            },
            "marker": {
             "colorbar": {
              "outlinewidth": 0,
              "ticks": ""
             }
            },
            "type": "scatter3d"
           }
          ],
          "scattercarpet": [
           {
            "marker": {
             "colorbar": {
              "outlinewidth": 0,
              "ticks": ""
             }
            },
            "type": "scattercarpet"
           }
          ],
          "scattergeo": [
           {
            "marker": {
             "colorbar": {
              "outlinewidth": 0,
              "ticks": ""
             }
            },
            "type": "scattergeo"
           }
          ],
          "scattergl": [
           {
            "marker": {
             "colorbar": {
              "outlinewidth": 0,
              "ticks": ""
             }
            },
            "type": "scattergl"
           }
          ],
          "scattermap": [
           {
            "marker": {
             "colorbar": {
              "outlinewidth": 0,
              "ticks": ""
             }
            },
            "type": "scattermap"
           }
          ],
          "scattermapbox": [
           {
            "marker": {
             "colorbar": {
              "outlinewidth": 0,
              "ticks": ""
             }
            },
            "type": "scattermapbox"
           }
          ],
          "scatterpolar": [
           {
            "marker": {
             "colorbar": {
              "outlinewidth": 0,
              "ticks": ""
             }
            },
            "type": "scatterpolar"
           }
          ],
          "scatterpolargl": [
           {
            "marker": {
             "colorbar": {
              "outlinewidth": 0,
              "ticks": ""
             }
            },
            "type": "scatterpolargl"
           }
          ],
          "scatterternary": [
           {
            "marker": {
             "colorbar": {
              "outlinewidth": 0,
              "ticks": ""
             }
            },
            "type": "scatterternary"
           }
          ],
          "surface": [
           {
            "colorbar": {
             "outlinewidth": 0,
             "ticks": ""
            },
            "colorscale": [
             [
              0,
              "#0d0887"
             ],
             [
              0.1111111111111111,
              "#46039f"
             ],
             [
              0.2222222222222222,
              "#7201a8"
             ],
             [
              0.3333333333333333,
              "#9c179e"
             ],
             [
              0.4444444444444444,
              "#bd3786"
             ],
             [
              0.5555555555555556,
              "#d8576b"
             ],
             [
              0.6666666666666666,
              "#ed7953"
             ],
             [
              0.7777777777777778,
              "#fb9f3a"
             ],
             [
              0.8888888888888888,
              "#fdca26"
             ],
             [
              1,
              "#f0f921"
             ]
            ],
            "type": "surface"
           }
          ],
          "table": [
           {
            "cells": {
             "fill": {
              "color": "#EBF0F8"
             },
             "line": {
              "color": "white"
             }
            },
            "header": {
             "fill": {
              "color": "#C8D4E3"
             },
             "line": {
              "color": "white"
             }
            },
            "type": "table"
           }
          ]
         },
         "layout": {
          "annotationdefaults": {
           "arrowcolor": "#2a3f5f",
           "arrowhead": 0,
           "arrowwidth": 1
          },
          "autotypenumbers": "strict",
          "coloraxis": {
           "colorbar": {
            "outlinewidth": 0,
            "ticks": ""
           }
          },
          "colorscale": {
           "diverging": [
            [
             0,
             "#8e0152"
            ],
            [
             0.1,
             "#c51b7d"
            ],
            [
             0.2,
             "#de77ae"
            ],
            [
             0.3,
             "#f1b6da"
            ],
            [
             0.4,
             "#fde0ef"
            ],
            [
             0.5,
             "#f7f7f7"
            ],
            [
             0.6,
             "#e6f5d0"
            ],
            [
             0.7,
             "#b8e186"
            ],
            [
             0.8,
             "#7fbc41"
            ],
            [
             0.9,
             "#4d9221"
            ],
            [
             1,
             "#276419"
            ]
           ],
           "sequential": [
            [
             0,
             "#0d0887"
            ],
            [
             0.1111111111111111,
             "#46039f"
            ],
            [
             0.2222222222222222,
             "#7201a8"
            ],
            [
             0.3333333333333333,
             "#9c179e"
            ],
            [
             0.4444444444444444,
             "#bd3786"
            ],
            [
             0.5555555555555556,
             "#d8576b"
            ],
            [
             0.6666666666666666,
             "#ed7953"
            ],
            [
             0.7777777777777778,
             "#fb9f3a"
            ],
            [
             0.8888888888888888,
             "#fdca26"
            ],
            [
             1,
             "#f0f921"
            ]
           ],
           "sequentialminus": [
            [
             0,
             "#0d0887"
            ],
            [
             0.1111111111111111,
             "#46039f"
            ],
            [
             0.2222222222222222,
             "#7201a8"
            ],
            [
             0.3333333333333333,
             "#9c179e"
            ],
            [
             0.4444444444444444,
             "#bd3786"
            ],
            [
             0.5555555555555556,
             "#d8576b"
            ],
            [
             0.6666666666666666,
             "#ed7953"
            ],
            [
             0.7777777777777778,
             "#fb9f3a"
            ],
            [
             0.8888888888888888,
             "#fdca26"
            ],
            [
             1,
             "#f0f921"
            ]
           ]
          },
          "colorway": [
           "#636efa",
           "#EF553B",
           "#00cc96",
           "#ab63fa",
           "#FFA15A",
           "#19d3f3",
           "#FF6692",
           "#B6E880",
           "#FF97FF",
           "#FECB52"
          ],
          "font": {
           "color": "#2a3f5f"
          },
          "geo": {
           "bgcolor": "white",
           "lakecolor": "white",
           "landcolor": "#E5ECF6",
           "showlakes": true,
           "showland": true,
           "subunitcolor": "white"
          },
          "hoverlabel": {
           "align": "left"
          },
          "hovermode": "closest",
          "mapbox": {
           "style": "light"
          },
          "paper_bgcolor": "white",
          "plot_bgcolor": "#E5ECF6",
          "polar": {
           "angularaxis": {
            "gridcolor": "white",
            "linecolor": "white",
            "ticks": ""
           },
           "bgcolor": "#E5ECF6",
           "radialaxis": {
            "gridcolor": "white",
            "linecolor": "white",
            "ticks": ""
           }
          },
          "scene": {
           "xaxis": {
            "backgroundcolor": "#E5ECF6",
            "gridcolor": "white",
            "gridwidth": 2,
            "linecolor": "white",
            "showbackground": true,
            "ticks": "",
            "zerolinecolor": "white"
           },
           "yaxis": {
            "backgroundcolor": "#E5ECF6",
            "gridcolor": "white",
            "gridwidth": 2,
            "linecolor": "white",
            "showbackground": true,
            "ticks": "",
            "zerolinecolor": "white"
           },
           "zaxis": {
            "backgroundcolor": "#E5ECF6",
            "gridcolor": "white",
            "gridwidth": 2,
            "linecolor": "white",
            "showbackground": true,
            "ticks": "",
            "zerolinecolor": "white"
           }
          },
          "shapedefaults": {
           "line": {
            "color": "#2a3f5f"
           }
          },
          "ternary": {
           "aaxis": {
            "gridcolor": "white",
            "linecolor": "white",
            "ticks": ""
           },
           "baxis": {
            "gridcolor": "white",
            "linecolor": "white",
            "ticks": ""
           },
           "bgcolor": "#E5ECF6",
           "caxis": {
            "gridcolor": "white",
            "linecolor": "white",
            "ticks": ""
           }
          },
          "title": {
           "x": 0.05
          },
          "xaxis": {
           "automargin": true,
           "gridcolor": "white",
           "linecolor": "white",
           "ticks": "",
           "title": {
            "standoff": 15
           },
           "zerolinecolor": "white",
           "zerolinewidth": 2
          },
          "yaxis": {
           "automargin": true,
           "gridcolor": "white",
           "linecolor": "white",
           "ticks": "",
           "title": {
            "standoff": 15
           },
           "zerolinecolor": "white",
           "zerolinewidth": 2
          }
         }
        },
        "title": {
         "text": "Trajectory with Deadband & |a| in Hover"
        }
       }
      }
     },
     "metadata": {},
     "output_type": "display_data"
    }
   ],
   "source": [
    "pos, vel, a_mag = compute_trajectory_2(df, deadband=12, sample_rate=100)\n",
    "plot_trajectory(pos, a_mag)\n"
   ]
  },
  {
   "cell_type": "code",
   "execution_count": 10,
   "id": "bbd7bd4d",
   "metadata": {},
   "outputs": [],
   "source": [
    "def plot_trajectory_with_dots(pos, a_mag, title='Trajectory with Dots & |a| in Hover'):\n",
    "    \"\"\"\n",
    "    Plots a 3D trajectory with small marker dots at every data point,\n",
    "    and acceleration magnitude in hover info.\n",
    "    \n",
    "    Parameters:\n",
    "    - pos: (N,3) array of positions [m]\n",
    "    - a_mag: (N,) array of acceleration magnitudes [m/s²]\n",
    "    - title: Figure title\n",
    "    \"\"\"\n",
    "    fig = go.Figure([\n",
    "        go.Scatter3d(\n",
    "            x=pos[:,0], y=pos[:,1], z=pos[:,2],\n",
    "            mode='lines+markers',\n",
    "            line=dict(color='blue', width=2),\n",
    "            marker=dict(color='blue', size=2),\n",
    "            name='Trajectory',\n",
    "            customdata=a_mag[:, None],\n",
    "            hovertemplate=(\n",
    "                'X: %{x:.3f} m<br>'\n",
    "                'Y: %{y:.3f} m<br>'\n",
    "                'Z: %{z:.3f} m<br>'\n",
    "                '|a|: %{customdata[0]:.3f} m/s²'\n",
    "            )\n",
    "        ),\n",
    "        go.Scatter3d(\n",
    "            x=[pos[0,0]], y=[pos[0,1]], z=[pos[0,2]],\n",
    "            mode='markers',\n",
    "            marker=dict(color='green', size=6),\n",
    "            name='Start',\n",
    "            hovertemplate='Start<br>X: %{x:.3f} m<br>Y: %{y:.3f} m<br>Z: %{z:.3f} m'\n",
    "        ),\n",
    "        go.Scatter3d(\n",
    "            x=[pos[-1,0]], y=[pos[-1,1]], z=[pos[-1,2]],\n",
    "            mode='markers',\n",
    "            marker=dict(color='red', size=6),\n",
    "            name='End',\n",
    "            hovertemplate='End<br>X: %{x:.3f} m<br>Y: %{y:.3f} m<br>Z: %{z:.3f} m'\n",
    "        )\n",
    "    ])\n",
    "    fig.update_layout(\n",
    "        scene=dict(\n",
    "            xaxis_title='X [m]',\n",
    "            yaxis_title='Y [m]',\n",
    "            zaxis_title='Z [m]',\n",
    "            aspectmode='data'\n",
    "        ),\n",
    "        title=title,\n",
    "        margin=dict(l=0, r=0, b=0, t=30)\n",
    "    )\n",
    "    fig.show()"
   ]
  },
  {
   "cell_type": "code",
   "execution_count": 11,
   "id": "92a33899",
   "metadata": {},
   "outputs": [
    {
     "data": {
      "application/vnd.plotly.v1+json": {
       "config": {
        "plotlyServerURL": "https://plot.ly"
       },
       "data": [
        {
         "customdata": {
          "bdata": "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",
          "dtype": "f8",
          "shape": "188, 1"
         },
         "hovertemplate": "X: %{x:.3f} m<br>Y: %{y:.3f} m<br>Z: %{z:.3f} m<br>|a|: %{customdata[0]:.3f} m/s²",
         "line": {
          "color": "blue",
          "width": 2
         },
         "marker": {
          "color": "blue",
          "size": 2
         },
         "mode": "lines+markers",
         "name": "Trajectory",
         "type": "scatter3d",
         "x": {
          "bdata": "AAAAAAAAAAAAAAAAAAAAAAAAAAAAAAAAAAAAAAAAAAAAAAAAAAAAAAAAAAAAAAAAAAAAAAAAAAAAAAAAAAAAAAAAAAAAAAAAAAAAAAAAAAAAAAAAAAAAAAAAAAAAAAAAAAAAAAAAAAAAAAAAAAAAAAAAAAAAAAAAAAAAAAAAAAAAAAAAAAAAAAAAAAAAAAAAAAAAAAAAAAAAAAAAAAAAAAAAAAAAAAAAAAAAAAAAAAAAAAAAAAAAAAAAAAAAAAAAAAAAAAAAAAAAAAAAAAAAAAAAAAAAAAAAAAAAAAAAAAAAAAAAAAAAAAAAAAAAAAAAAAAAAAAAAAAAAAAAAAAAAAAAAAAAAAAAAAAAAAAAAAAAAAAAAAAAAAAAAAAAAAAAAAAAAAAAAAAAAAAAAAAAAAAAAAAAAAAAAAAAAAAAAAAAAAAAAAAAAAAAAAAAAAAAAAAAAAAAAAAAAAAAAAAAAAAAAAAAAAAAAAAAAAAAAAAAAAAAAAAAAAAAAAAAAAAAAAAAAAAAAAAAAAAAAAAAAAAAAAAAAAAAAAAAAAAAAAAAAAAAAAAAAAAAAAAAAAAAAAAAAAAAAAAAAAAAAAAAAAAAAAAAAAAAAAAAAAAAAAAAAAAAAAAAAAAAAAAAAAAAAAAAAAAAAAAAAAAAAAAAAAAAAAAAAAAAAAAAAAAAAAAAAAAAAAAAAAAAAAAAAAAAAAAAAAAAAAAAAAAAAAAAAAAAAAAAAAAAAAAAAAAAAAAAAAAAAAAAAAAAAAAAAAAAAAAAAAAAAAAAAAAAAAAAAAAAAAAAAAAAAAAAAAAAAAAAAAAAAAAAAAAAAAAAAAAAAAAAAAAAAAAAAAAAAAAAAAAAAAAAAAAAAAAAAAAAAAAAAAAAAAAAAAAAAAAAAAAAAAAAAAAAAAAAAAAAAAAAAAAAAAAAAAAAAAAAAAAAAAAAAAAAAAAAAAAAAAAAAAAAAAAAAAAAAAAAAAAAAAAAAAAAAAAAAAAAAAAAAAAAAAAAAAAAAAAAAAAAAAAAAAAAAAAAAAAAAAAAAAAAAAAAAAAAAAAAAAAAAAAAAAAAAADtvpsiG7QxP5Uqe9b1zVw/4GXw8JihdT+p7E8Z35qFPyigONIGqpE/QK8qanA5mj+cwj8HrziiP0A/Gp5b/6c/ua3Qt2BPrj+G1kymLoiyP4TSztK+E7Y/r93u1MS6uT85hS0rt129P437aoOOZcA/PkWGYJvnwT99sdL9EhzDP00za5y95MM/EIzNgLEixD8g9lDCPsjDP398INEF1MI/ciqwBLlDwT8ukQwerie+P+Uc+iqygrg/pFWeyT6VsT96Do72WcKiP4CatzRxezO/npfMrMQrpb/O5NP8db+1v5zUpVXAe8C/oyPaLcS8xb9xf7sYymbKvwyHVluYZ86/RzauI2De0L/HAnqs9zjSv/fwdLuYTdO/QzZcBuMp1L9XmQ6Pn9zUv/oS/Kt9ddW/+hL8q3111b/6EvyrfXXVv/oS/Kt9ddW/+hL8q3111b/6EvyrfXXVv/oS/Kt9ddW/+hL8q3111b/6EvyrfXXVv/oS/Kt9ddW/+hL8q3111b/6EvyrfXXVv/oS/Kt9ddW/+hL8q3111b/6EvyrfXXVv/oS/Kt9ddW/+hL8q3111b/6EvyrfXXVv/oS/Kt9ddW/+hL8q3111b/6EvyrfXXVv/oS/Kt9ddW/+hL8q3111b/6EvyrfXXVv/oS/Kt9ddW/+hL8q3111b/6EvyrfXXVv/oS/Kt9ddW/+hL8q3111b/6EvyrfXXVv/oS/Kt9ddW/+hL8q3111b/6EvyrfXXVv/oS/Kt9ddW/+hL8q3111b/6EvyrfXXVv/oS/Kt9ddW/+hL8q3111b/6EvyrfXXVv/oS/Kt9ddW/+hL8q3111b/6EvyrfXXVv/oS/Kt9ddW/+hL8q3111b/6EvyrfXXVv/oS/Kt9ddW/+hL8q3111b/6EvyrfXXVv/oS/Kt9ddW/+hL8q3111b/6EvyrfXXVvw==",
          "dtype": "f8"
         },
         "y": {
          "bdata": "AAAAAAAAAAAAAAAAAAAAAAAAAAAAAAAAAAAAAAAAAAAAAAAAAAAAAAAAAAAAAAAAAAAAAAAAAAAAAAAAAAAAAAAAAAAAAAAAAAAAAAAAAAAAAAAAAAAAAAAAAAAAAAAAAAAAAAAAAAAAAAAAAAAAAAAAAAAAAAAAAAAAAAAAAAAAAAAAAAAAAAAAAAAAAAAAAAAAAAAAAAAAAAAAAAAAAAAAAAAAAAAAAAAAAAAAAAAAAAAAAAAAAAAAAAAAAAAAAAAAAAAAAAAAAAAAAAAAAAAAAAAAAAAAAAAAAAAAAAAAAAAAAAAAAAAAAAAAAAAAAAAAAAAAAAAAAAAAAAAAAAAAAAAAAAAAAAAAAAAAAAAAAAAAAAAAAAAAAAAAAAAAAAAAAAAAAAAAAAAAAAAAAAAAAAAAAAAAAAAAAAAAAAAAAAAAAAAAAAAAAAAAAAAAAAAAAAAAAAAAAAAAAAAAAAAAAAAAAAAAAAAAAAAAAAAAAAAAAAAAAAAAAAAAAAAAAAAAAAAAAAAAAAAAAAAAAAAAAAAAAAAAAAAAAAAAAAAAAAAAAAAAAAAAAAAAAAAAAAAAAAAAAAAAAAAAAAAAAAAAAAAAAAAAAAAAAAAAAAAAAAAAAAAAAAAAAAAAAAAAAAAAAAAAAAAAAAAAAAAAAAAAAAAAAAAAAAAAAAAAAAAAAAAAAAAAAAAAAAAAAAAAAAAAAAAAAAAAAAAAAAAAAAAAAAAAAAAAAAAAAAAAAAAAAAAAAAAAAAAAAAAAAAAAAAAAAAAAAAAAAAAAAAAAAAAAAAAAAAAAAAAAAAAAAAAAAAAAAAAAAAAAAAAAAAAAAAAAAAAAAAAAAAAAAAAAAAAAAAAAAAAAAAAAAAAAAAAAAAAAAAAAAAAAAAAAAAAAAAAAAAAAAAAAAAAAAAAAAAAAAAAAAAAAAAAAAAAAAAAAAAAAAAAAAAAAAAAAAAAAAAAAAAAAAAAAAAAAAAAAAAAAAAAAAAAAAAAAAAAAAAAAAAAAAAAAAAAAAAAAAAAAAAAAAAAAAAAAAAAAAAAAAAAAAAAAAAAAAAAAAAAAAACXqj+kDFMpPwUXW6Vc1lA/ie+XdTDHZj96O/7s2nx1P8u8PoFi4IA/Kq4xC9NOiD/L/6BO9s2QPyPjiwM02ZY/0f1lvqHDnj9qsTJTqYWkP3rDtbmUL6s/U2ziltXmsT/oG5lot2e3P1ngwpI5Tr4/PDkeXGxewz/ySdG2fWDIP85L7nmaH84/qvt43iM/0j8eyuVcC6rVP8Bb4s5SONk/5YiMY0bS3D/0RfUdlC/gP7AzEWed4+E/E1KL/fp54z9Ib6FTsenkP9qkNAoXLOY/229+bYQ55z8KIoIAQAnoP0qRFXosm+g/KUHdBJj46D/ojrgJRCzpP1rgECt4Qek/GtDDvh1B6T9L00rJrTHpP3ftOu37F+k/Yk1mkhD36D9h5vOvQtHoP2bH6y48qOg/ZsfrLjyo6D9mx+suPKjoP2bH6y48qOg/ZsfrLjyo6D9mx+suPKjoP2bH6y48qOg/ZsfrLjyo6D9mx+suPKjoP2bH6y48qOg/ZsfrLjyo6D9mx+suPKjoP2bH6y48qOg/ZsfrLjyo6D9mx+suPKjoP2bH6y48qOg/ZsfrLjyo6D9mx+suPKjoP2bH6y48qOg/ZsfrLjyo6D9mx+suPKjoP2bH6y48qOg/ZsfrLjyo6D9mx+suPKjoP2bH6y48qOg/ZsfrLjyo6D9mx+suPKjoP2bH6y48qOg/ZsfrLjyo6D9mx+suPKjoP2bH6y48qOg/ZsfrLjyo6D9mx+suPKjoP2bH6y48qOg/ZsfrLjyo6D9mx+suPKjoP2bH6y48qOg/ZsfrLjyo6D9mx+suPKjoP2bH6y48qOg/ZsfrLjyo6D9mx+suPKjoP2bH6y48qOg/ZsfrLjyo6D9mx+suPKjoP2bH6y48qOg/ZsfrLjyo6D9mx+suPKjoP2bH6y48qOg/ZsfrLjyo6D9mx+suPKjoPw==",
          "dtype": "f8"
         },
         "z": {
          "bdata": "AAAAAAAAAAAAAAAAAAAAAAAAAAAAAAAAAAAAAAAAAAAAAAAAAAAAAAAAAAAAAAAAAAAAAAAAAAAAAAAAAAAAAAAAAAAAAAAAAAAAAAAAAAAAAAAAAAAAAAAAAAAAAAAAAAAAAAAAAAAAAAAAAAAAAAAAAAAAAAAAAAAAAAAAAAAAAAAAAAAAAAAAAAAAAAAAAAAAAAAAAAAAAAAAAAAAAAAAAAAAAAAAAAAAAAAAAAAAAAAAAAAAAAAAAAAAAAAAAAAAAAAAAAAAAAAAAAAAAAAAAAAAAAAAAAAAAAAAAAAAAAAAAAAAAAAAAAAAAAAAAAAAAAAAAAAAAAAAAAAAAAAAAAAAAAAAAAAAAAAAAAAAAAAAAAAAAAAAAAAAAAAAAAAAAAAAAAAAAAAAAAAAAAAAAAAAAAAAAAAAAAAAAAAAAAAAAAAAAAAAAAAAAAAAAAAAAAAAAAAAAAAAAAAAAAAAAAAAAAAAAAAAAAAAAAAAAAAAAAAAAAAAAAAAAAAAAAAAAAAAAAAAAAAAAAAAAAAAAAAAAAAAAAAAAAAAAAAAAAAAAAAAAAAAAAAAAAAAAAAAAAAAAAAAAAAAAAAAAAAAAAAAAAAAAAAAAAAAAAAAAAAAAAAAAAAAAAAAAAAAAAAAAAAAAAAAAAAAAAAAAAAAAAAAAAAAAAAAAAAAAAAAAAAAAAAAAAAAAAAAAAAAAAAAAAAAAAAAAAAAAAAAAAAAAAAAAAAAAAAAAAAAAAAAAAAAAAAAAAAAAAAAAAAAAAAAAAAAAAAAAAAAAAAAAAAAAAAAAAAAAAAAAAAAAAAAAAAAAAAAAAAAAAAAAAAAAAAAAAAAAAAAAAAAAAAAAAAAAAAAAAAAAAAAAAAAAAAAAAAAAAAAAAAAAAAAAAAAAAAAAAAAAAAAAAAAAAAAAAAAAAAAAAAAAAAAAAAAAAAAAAAAAAAAAAAAAAAAAAAAAAAAAAAAAAAAAAAAAAAAAAAAAAAAAAAAAAAAAAAAAAAAAAAAAAAAAAAAAAAAAAAAAAAAAAAAAAAAAAAAAAAAAAAAAAAAAAAAAAAAAAAAAABaca+HzqtJv/a5+HVX7HG/oN6yZxkPib/28mtg6W+Yv5kaXunc16O/uJnVedZarb+QVdeE7HW0v4+PJb+fVLu/Q2Q4+Sqkwb8dNsD4Ox/Gv4wu4+rLC8u/e8cyhzUp0L8Xpxcq5unSvzKp2HJmtNW/z+QS0GVt2L/3gR4YXvLav/YZxvViH92/Zb0D4ojQ3r8RTcqGDvPfvxPWsRXDQuC/2ikLvrJE4L+ZOjJ9KwHgv360wKy4+N6/AuiDVEJ53b/eXf/3kZXbv/8z6ccPZNm/BK3wd+4F17/4Vkaw1abUv0LKExUdaNK/Aj2SuCdg0L/02otZgDDNv77kKu90HMq/bsgIvb99x7/o99eYDUzFv0hQX/OWfMO/Hcsl5JIAwr8rcYvj8cnAvyzSLgkZlb+/LNIuCRmVv78s0i4JGZW/vyzSLgkZlb+/LNIuCRmVv78s0i4JGZW/vyzSLgkZlb+/LNIuCRmVv78s0i4JGZW/vyzSLgkZlb+/LNIuCRmVv78s0i4JGZW/vyzSLgkZlb+/LNIuCRmVv78s0i4JGZW/vyzSLgkZlb+/LNIuCRmVv78s0i4JGZW/vyzSLgkZlb+/LNIuCRmVv78s0i4JGZW/vyzSLgkZlb+/LNIuCRmVv78s0i4JGZW/vyzSLgkZlb+/LNIuCRmVv78s0i4JGZW/vyzSLgkZlb+/LNIuCRmVv78s0i4JGZW/vyzSLgkZlb+/LNIuCRmVv78s0i4JGZW/vyzSLgkZlb+/LNIuCRmVv78s0i4JGZW/vyzSLgkZlb+/LNIuCRmVv78s0i4JGZW/vyzSLgkZlb+/LNIuCRmVv78s0i4JGZW/vyzSLgkZlb+/LNIuCRmVv78s0i4JGZW/vyzSLgkZlb+/LNIuCRmVv78s0i4JGZW/vyzSLgkZlb+/LNIuCRmVv78s0i4JGZW/vw==",
          "dtype": "f8"
         }
        },
        {
         "hovertemplate": "Start<br>X: %{x:.3f} m<br>Y: %{y:.3f} m<br>Z: %{z:.3f} m",
         "marker": {
          "color": "green",
          "size": 6
         },
         "mode": "markers",
         "name": "Start",
         "type": "scatter3d",
         "x": [
          0
         ],
         "y": [
          0
         ],
         "z": [
          0
         ]
        },
        {
         "hovertemplate": "End<br>X: %{x:.3f} m<br>Y: %{y:.3f} m<br>Z: %{z:.3f} m",
         "marker": {
          "color": "red",
          "size": 6
         },
         "mode": "markers",
         "name": "End",
         "type": "scatter3d",
         "x": [
          -0.3352960757768383
         ],
         "y": [
          0.7705365101266863
         ],
         "z": [
          -0.12336880182449111
         ]
        }
       ],
       "layout": {
        "margin": {
         "b": 0,
         "l": 0,
         "r": 0,
         "t": 30
        },
        "scene": {
         "aspectmode": "data",
         "xaxis": {
          "title": {
           "text": "X [m]"
          }
         },
         "yaxis": {
          "title": {
           "text": "Y [m]"
          }
         },
         "zaxis": {
          "title": {
           "text": "Z [m]"
          }
         }
        },
        "template": {
         "data": {
          "bar": [
           {
            "error_x": {
             "color": "#2a3f5f"
            },
            "error_y": {
             "color": "#2a3f5f"
            },
            "marker": {
             "line": {
              "color": "#E5ECF6",
              "width": 0.5
             },
             "pattern": {
              "fillmode": "overlay",
              "size": 10,
              "solidity": 0.2
             }
            },
            "type": "bar"
           }
          ],
          "barpolar": [
           {
            "marker": {
             "line": {
              "color": "#E5ECF6",
              "width": 0.5
             },
             "pattern": {
              "fillmode": "overlay",
              "size": 10,
              "solidity": 0.2
             }
            },
            "type": "barpolar"
           }
          ],
          "carpet": [
           {
            "aaxis": {
             "endlinecolor": "#2a3f5f",
             "gridcolor": "white",
             "linecolor": "white",
             "minorgridcolor": "white",
             "startlinecolor": "#2a3f5f"
            },
            "baxis": {
             "endlinecolor": "#2a3f5f",
             "gridcolor": "white",
             "linecolor": "white",
             "minorgridcolor": "white",
             "startlinecolor": "#2a3f5f"
            },
            "type": "carpet"
           }
          ],
          "choropleth": [
           {
            "colorbar": {
             "outlinewidth": 0,
             "ticks": ""
            },
            "type": "choropleth"
           }
          ],
          "contour": [
           {
            "colorbar": {
             "outlinewidth": 0,
             "ticks": ""
            },
            "colorscale": [
             [
              0,
              "#0d0887"
             ],
             [
              0.1111111111111111,
              "#46039f"
             ],
             [
              0.2222222222222222,
              "#7201a8"
             ],
             [
              0.3333333333333333,
              "#9c179e"
             ],
             [
              0.4444444444444444,
              "#bd3786"
             ],
             [
              0.5555555555555556,
              "#d8576b"
             ],
             [
              0.6666666666666666,
              "#ed7953"
             ],
             [
              0.7777777777777778,
              "#fb9f3a"
             ],
             [
              0.8888888888888888,
              "#fdca26"
             ],
             [
              1,
              "#f0f921"
             ]
            ],
            "type": "contour"
           }
          ],
          "contourcarpet": [
           {
            "colorbar": {
             "outlinewidth": 0,
             "ticks": ""
            },
            "type": "contourcarpet"
           }
          ],
          "heatmap": [
           {
            "colorbar": {
             "outlinewidth": 0,
             "ticks": ""
            },
            "colorscale": [
             [
              0,
              "#0d0887"
             ],
             [
              0.1111111111111111,
              "#46039f"
             ],
             [
              0.2222222222222222,
              "#7201a8"
             ],
             [
              0.3333333333333333,
              "#9c179e"
             ],
             [
              0.4444444444444444,
              "#bd3786"
             ],
             [
              0.5555555555555556,
              "#d8576b"
             ],
             [
              0.6666666666666666,
              "#ed7953"
             ],
             [
              0.7777777777777778,
              "#fb9f3a"
             ],
             [
              0.8888888888888888,
              "#fdca26"
             ],
             [
              1,
              "#f0f921"
             ]
            ],
            "type": "heatmap"
           }
          ],
          "histogram": [
           {
            "marker": {
             "pattern": {
              "fillmode": "overlay",
              "size": 10,
              "solidity": 0.2
             }
            },
            "type": "histogram"
           }
          ],
          "histogram2d": [
           {
            "colorbar": {
             "outlinewidth": 0,
             "ticks": ""
            },
            "colorscale": [
             [
              0,
              "#0d0887"
             ],
             [
              0.1111111111111111,
              "#46039f"
             ],
             [
              0.2222222222222222,
              "#7201a8"
             ],
             [
              0.3333333333333333,
              "#9c179e"
             ],
             [
              0.4444444444444444,
              "#bd3786"
             ],
             [
              0.5555555555555556,
              "#d8576b"
             ],
             [
              0.6666666666666666,
              "#ed7953"
             ],
             [
              0.7777777777777778,
              "#fb9f3a"
             ],
             [
              0.8888888888888888,
              "#fdca26"
             ],
             [
              1,
              "#f0f921"
             ]
            ],
            "type": "histogram2d"
           }
          ],
          "histogram2dcontour": [
           {
            "colorbar": {
             "outlinewidth": 0,
             "ticks": ""
            },
            "colorscale": [
             [
              0,
              "#0d0887"
             ],
             [
              0.1111111111111111,
              "#46039f"
             ],
             [
              0.2222222222222222,
              "#7201a8"
             ],
             [
              0.3333333333333333,
              "#9c179e"
             ],
             [
              0.4444444444444444,
              "#bd3786"
             ],
             [
              0.5555555555555556,
              "#d8576b"
             ],
             [
              0.6666666666666666,
              "#ed7953"
             ],
             [
              0.7777777777777778,
              "#fb9f3a"
             ],
             [
              0.8888888888888888,
              "#fdca26"
             ],
             [
              1,
              "#f0f921"
             ]
            ],
            "type": "histogram2dcontour"
           }
          ],
          "mesh3d": [
           {
            "colorbar": {
             "outlinewidth": 0,
             "ticks": ""
            },
            "type": "mesh3d"
           }
          ],
          "parcoords": [
           {
            "line": {
             "colorbar": {
              "outlinewidth": 0,
              "ticks": ""
             }
            },
            "type": "parcoords"
           }
          ],
          "pie": [
           {
            "automargin": true,
            "type": "pie"
           }
          ],
          "scatter": [
           {
            "fillpattern": {
             "fillmode": "overlay",
             "size": 10,
             "solidity": 0.2
            },
            "type": "scatter"
           }
          ],
          "scatter3d": [
           {
            "line": {
             "colorbar": {
              "outlinewidth": 0,
              "ticks": ""
             }
            },
            "marker": {
             "colorbar": {
              "outlinewidth": 0,
              "ticks": ""
             }
            },
            "type": "scatter3d"
           }
          ],
          "scattercarpet": [
           {
            "marker": {
             "colorbar": {
              "outlinewidth": 0,
              "ticks": ""
             }
            },
            "type": "scattercarpet"
           }
          ],
          "scattergeo": [
           {
            "marker": {
             "colorbar": {
              "outlinewidth": 0,
              "ticks": ""
             }
            },
            "type": "scattergeo"
           }
          ],
          "scattergl": [
           {
            "marker": {
             "colorbar": {
              "outlinewidth": 0,
              "ticks": ""
             }
            },
            "type": "scattergl"
           }
          ],
          "scattermap": [
           {
            "marker": {
             "colorbar": {
              "outlinewidth": 0,
              "ticks": ""
             }
            },
            "type": "scattermap"
           }
          ],
          "scattermapbox": [
           {
            "marker": {
             "colorbar": {
              "outlinewidth": 0,
              "ticks": ""
             }
            },
            "type": "scattermapbox"
           }
          ],
          "scatterpolar": [
           {
            "marker": {
             "colorbar": {
              "outlinewidth": 0,
              "ticks": ""
             }
            },
            "type": "scatterpolar"
           }
          ],
          "scatterpolargl": [
           {
            "marker": {
             "colorbar": {
              "outlinewidth": 0,
              "ticks": ""
             }
            },
            "type": "scatterpolargl"
           }
          ],
          "scatterternary": [
           {
            "marker": {
             "colorbar": {
              "outlinewidth": 0,
              "ticks": ""
             }
            },
            "type": "scatterternary"
           }
          ],
          "surface": [
           {
            "colorbar": {
             "outlinewidth": 0,
             "ticks": ""
            },
            "colorscale": [
             [
              0,
              "#0d0887"
             ],
             [
              0.1111111111111111,
              "#46039f"
             ],
             [
              0.2222222222222222,
              "#7201a8"
             ],
             [
              0.3333333333333333,
              "#9c179e"
             ],
             [
              0.4444444444444444,
              "#bd3786"
             ],
             [
              0.5555555555555556,
              "#d8576b"
             ],
             [
              0.6666666666666666,
              "#ed7953"
             ],
             [
              0.7777777777777778,
              "#fb9f3a"
             ],
             [
              0.8888888888888888,
              "#fdca26"
             ],
             [
              1,
              "#f0f921"
             ]
            ],
            "type": "surface"
           }
          ],
          "table": [
           {
            "cells": {
             "fill": {
              "color": "#EBF0F8"
             },
             "line": {
              "color": "white"
             }
            },
            "header": {
             "fill": {
              "color": "#C8D4E3"
             },
             "line": {
              "color": "white"
             }
            },
            "type": "table"
           }
          ]
         },
         "layout": {
          "annotationdefaults": {
           "arrowcolor": "#2a3f5f",
           "arrowhead": 0,
           "arrowwidth": 1
          },
          "autotypenumbers": "strict",
          "coloraxis": {
           "colorbar": {
            "outlinewidth": 0,
            "ticks": ""
           }
          },
          "colorscale": {
           "diverging": [
            [
             0,
             "#8e0152"
            ],
            [
             0.1,
             "#c51b7d"
            ],
            [
             0.2,
             "#de77ae"
            ],
            [
             0.3,
             "#f1b6da"
            ],
            [
             0.4,
             "#fde0ef"
            ],
            [
             0.5,
             "#f7f7f7"
            ],
            [
             0.6,
             "#e6f5d0"
            ],
            [
             0.7,
             "#b8e186"
            ],
            [
             0.8,
             "#7fbc41"
            ],
            [
             0.9,
             "#4d9221"
            ],
            [
             1,
             "#276419"
            ]
           ],
           "sequential": [
            [
             0,
             "#0d0887"
            ],
            [
             0.1111111111111111,
             "#46039f"
            ],
            [
             0.2222222222222222,
             "#7201a8"
            ],
            [
             0.3333333333333333,
             "#9c179e"
            ],
            [
             0.4444444444444444,
             "#bd3786"
            ],
            [
             0.5555555555555556,
             "#d8576b"
            ],
            [
             0.6666666666666666,
             "#ed7953"
            ],
            [
             0.7777777777777778,
             "#fb9f3a"
            ],
            [
             0.8888888888888888,
             "#fdca26"
            ],
            [
             1,
             "#f0f921"
            ]
           ],
           "sequentialminus": [
            [
             0,
             "#0d0887"
            ],
            [
             0.1111111111111111,
             "#46039f"
            ],
            [
             0.2222222222222222,
             "#7201a8"
            ],
            [
             0.3333333333333333,
             "#9c179e"
            ],
            [
             0.4444444444444444,
             "#bd3786"
            ],
            [
             0.5555555555555556,
             "#d8576b"
            ],
            [
             0.6666666666666666,
             "#ed7953"
            ],
            [
             0.7777777777777778,
             "#fb9f3a"
            ],
            [
             0.8888888888888888,
             "#fdca26"
            ],
            [
             1,
             "#f0f921"
            ]
           ]
          },
          "colorway": [
           "#636efa",
           "#EF553B",
           "#00cc96",
           "#ab63fa",
           "#FFA15A",
           "#19d3f3",
           "#FF6692",
           "#B6E880",
           "#FF97FF",
           "#FECB52"
          ],
          "font": {
           "color": "#2a3f5f"
          },
          "geo": {
           "bgcolor": "white",
           "lakecolor": "white",
           "landcolor": "#E5ECF6",
           "showlakes": true,
           "showland": true,
           "subunitcolor": "white"
          },
          "hoverlabel": {
           "align": "left"
          },
          "hovermode": "closest",
          "mapbox": {
           "style": "light"
          },
          "paper_bgcolor": "white",
          "plot_bgcolor": "#E5ECF6",
          "polar": {
           "angularaxis": {
            "gridcolor": "white",
            "linecolor": "white",
            "ticks": ""
           },
           "bgcolor": "#E5ECF6",
           "radialaxis": {
            "gridcolor": "white",
            "linecolor": "white",
            "ticks": ""
           }
          },
          "scene": {
           "xaxis": {
            "backgroundcolor": "#E5ECF6",
            "gridcolor": "white",
            "gridwidth": 2,
            "linecolor": "white",
            "showbackground": true,
            "ticks": "",
            "zerolinecolor": "white"
           },
           "yaxis": {
            "backgroundcolor": "#E5ECF6",
            "gridcolor": "white",
            "gridwidth": 2,
            "linecolor": "white",
            "showbackground": true,
            "ticks": "",
            "zerolinecolor": "white"
           },
           "zaxis": {
            "backgroundcolor": "#E5ECF6",
            "gridcolor": "white",
            "gridwidth": 2,
            "linecolor": "white",
            "showbackground": true,
            "ticks": "",
            "zerolinecolor": "white"
           }
          },
          "shapedefaults": {
           "line": {
            "color": "#2a3f5f"
           }
          },
          "ternary": {
           "aaxis": {
            "gridcolor": "white",
            "linecolor": "white",
            "ticks": ""
           },
           "baxis": {
            "gridcolor": "white",
            "linecolor": "white",
            "ticks": ""
           },
           "bgcolor": "#E5ECF6",
           "caxis": {
            "gridcolor": "white",
            "linecolor": "white",
            "ticks": ""
           }
          },
          "title": {
           "x": 0.05
          },
          "xaxis": {
           "automargin": true,
           "gridcolor": "white",
           "linecolor": "white",
           "ticks": "",
           "title": {
            "standoff": 15
           },
           "zerolinecolor": "white",
           "zerolinewidth": 2
          },
          "yaxis": {
           "automargin": true,
           "gridcolor": "white",
           "linecolor": "white",
           "ticks": "",
           "title": {
            "standoff": 15
           },
           "zerolinecolor": "white",
           "zerolinewidth": 2
          }
         }
        },
        "title": {
         "text": "Trajectory with Dots & |a| in Hover"
        }
       }
      }
     },
     "metadata": {},
     "output_type": "display_data"
    }
   ],
   "source": [
    "plot_trajectory_with_dots(pos, a_mag,)\n"
   ]
  },
  {
   "cell_type": "code",
   "execution_count": 12,
   "id": "d0bcfccb",
   "metadata": {},
   "outputs": [],
   "source": [
    "import pandas as pd\n",
    "import numpy as np\n",
    "import plotly.graph_objects as go\n",
    "from scipy.spatial.transform import Rotation as R\n",
    "\n",
    "def calculate_plane_from_arc(pos, center):\n",
    "    \"\"\"\n",
    "    Given trajectory points `pos` and a specified `center` of the arc,\n",
    "    returns basis vectors and normal defining the plane of the arc.\n",
    "    \"\"\"\n",
    "    # Vectors from center to first and last points\n",
    "    a = pos[0] - center\n",
    "    b = pos[-1] - center\n",
    "    \n",
    "    # Normal of the plane\n",
    "    normal = np.cross(a, b)\n",
    "    normal /= np.linalg.norm(normal)\n",
    "    \n",
    "    # First basis vector along a\n",
    "    u = a / np.linalg.norm(a)\n",
    "    # Second basis vector orthogonal to u in the plane\n",
    "    v = np.cross(normal, u)\n",
    "    v /= np.linalg.norm(v)\n",
    "    \n",
    "    return normal, u, v\n",
    "\n",
    "def calculate_plane_from_arc_least_squares(pos):\n",
    "    \"\"\"\n",
    "    Fit a plane to a set of 3D points `pos` using least squares (SVD).\n",
    "    Returns:\n",
    "      - center: the centroid of `pos`\n",
    "      - normal: unit normal vector of the best-fit plane\n",
    "      - u, v: two orthonormal basis vectors spanning the plane\n",
    "    \"\"\"\n",
    "    # 1) Compute centroid\n",
    "    center = np.mean(pos, axis=0)\n",
    "    # 2) Shift points to centroid\n",
    "    X = pos - center\n",
    "    # 3) SVD: X = U S Vt\n",
    "    _, _, Vt = np.linalg.svd(X, full_matrices=False)\n",
    "    # Vt[0], Vt[1] span the plane; Vt[2] is normal (least variance)\n",
    "    u = Vt[0] / np.linalg.norm(Vt[0])\n",
    "    v = Vt[1] / np.linalg.norm(Vt[1])\n",
    "    normal = Vt[2] / np.linalg.norm(Vt[2])\n",
    "    return center, normal, u, v\n",
    "\n",
    "def plot_trajectory_with_plane(pos, center, resolution=10, opacity=0.5, title=\"Trajectory & Plane\"):\n",
    "    \"\"\"\n",
    "    Plots 3D trajectory and the best-fit plane defined by `center` and the arc in `pos`.\n",
    "    \n",
    "    Parameters:\n",
    "    - pos: (N,3) array of trajectory points\n",
    "    - center: (3,) array of the arc's center point\n",
    "    - resolution: grid resolution for plane mesh\n",
    "    - opacity: transparency of the plane\n",
    "    \"\"\"\n",
    "    # Compute plane basis\n",
    "    center, normal, u, v = calculate_plane_from_arc_least_squares(pos)#calculate_plane_from_arc(pos, center)\n",
    "    \n",
    "    # Determine grid extents based on maximum radius\n",
    "    r = np.max(np.linalg.norm(pos - center, axis=1))\n",
    "    us = np.linspace(-r, r, resolution)\n",
    "    vs = np.linspace(-r, r, resolution)\n",
    "    uu, vv = np.meshgrid(us, vs)\n",
    "    \n",
    "    # Generate plane coordinates\n",
    "    Xp = center[0] + uu * u[0] + vv * v[0]\n",
    "    Yp = center[1] + uu * u[1] + vv * v[1]\n",
    "    Zp = center[2] + uu * u[2] + vv * v[2]\n",
    "    \n",
    "    # Build figure\n",
    "    fig = go.Figure()\n",
    "    \n",
    "    # Add plane\n",
    "    fig.add_trace(go.Surface(\n",
    "        x=Xp, y=Yp, z=Zp,\n",
    "        opacity=opacity,\n",
    "        showscale=False,\n",
    "        name=\"Plane\"\n",
    "    ))\n",
    "    \n",
    "    # Add trajectory\n",
    "    fig.add_trace(go.Scatter3d(\n",
    "        x=pos[:,0], y=pos[:,1], z=pos[:,2],\n",
    "        mode='lines+markers',\n",
    "        line=dict(color='blue', width=3),\n",
    "        marker=dict(size=3, opacity=0.7),\n",
    "        name='Trajectory'\n",
    "    ))\n",
    "    \n",
    "    # Add center point\n",
    "    fig.add_trace(go.Scatter3d(\n",
    "        x=[center[0]], y=[center[1]], z=[center[2]],\n",
    "        mode='markers',\n",
    "        marker=dict(color='red', size=6),\n",
    "        name='Center'\n",
    "    ))\n",
    "    \n",
    "    fig.update_layout(\n",
    "        scene=dict(\n",
    "            xaxis_title='X [m]',\n",
    "            yaxis_title='Y [m]',\n",
    "            zaxis_title='Z [m]',\n",
    "            aspectmode='data'\n",
    "        ),\n",
    "        title=title,\n",
    "        margin=dict(l=0, r=0, b=0, t=30)\n",
    "    )\n",
    "    fig.show()\n",
    "    \n",
    "import numpy as np\n",
    "\n",
    "def calculate_arc_center(pos, eps=1e-6):\n",
    "    \"\"\"\n",
    "    Estimate the center of the circular arc described by pos:\n",
    "      • p1 = pos[0]\n",
    "      • p2 = the apex = the point farthest from p1\n",
    "      • p3 = pos[-1]\n",
    "    If p1, p2, p3 are nearly collinear (denominator≈0),  \n",
    "    fall back to the midpoint of p1–p3.\n",
    "    \"\"\"\n",
    "    p1 = pos[0]\n",
    "    # apex = point farthest from start\n",
    "    dists = np.linalg.norm(pos - p1, axis=1)\n",
    "    idx_apex = np.argmax(dists)\n",
    "    p2 = pos[idx_apex]\n",
    "    p3 = pos[-1]\n",
    "\n",
    "    b = p2 - p1\n",
    "    c = p3 - p1\n",
    "    bc = np.cross(b, c)\n",
    "    denom = 2.0 * np.dot(bc, bc)\n",
    "\n",
    "    if abs(denom) < eps:\n",
    "        # nearly collinear → use simple midpoint fallback\n",
    "        return (p1 + p3) / 2.0\n",
    "\n",
    "    b2 = np.dot(b, b)\n",
    "    c2 = np.dot(c, c)\n",
    "    term1 = np.cross(bc, b) * c2\n",
    "    term2 = np.cross(c, bc) * b2\n",
    "    center = p1 + (term1 + term2) / denom\n",
    "    return center\n",
    "\n",
    "# Example usage:\n",
    "# df = pd.read_csv('your_data.csv')\n",
    "# pos, vel, a_mag = compute_trajectory_2(df)\n",
    "# center_point = np.array([0.0, 0.0, 0.5])  # set based on your arc geometry\n",
    "# plot_trajectory_with_plane(pos, center_point)\n"
   ]
  },
  {
   "cell_type": "code",
   "execution_count": 13,
   "id": "70ae1492",
   "metadata": {},
   "outputs": [
    {
     "data": {
      "application/vnd.plotly.v1+json": {
       "config": {
        "plotlyServerURL": "https://plot.ly"
       },
       "data": [
        {
         "name": "Plane",
         "opacity": 0.4,
         "showscale": false,
         "type": "surface",
         "x": {
          "bdata": "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",
          "dtype": "f8",
          "shape": "20, 20"
         },
         "y": {
          "bdata": "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",
          "dtype": "f8",
          "shape": "20, 20"
         },
         "z": {
          "bdata": "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",
          "dtype": "f8",
          "shape": "20, 20"
         }
        },
        {
         "line": {
          "color": "blue",
          "width": 3
         },
         "marker": {
          "opacity": 0.7,
          "size": 3
         },
         "mode": "lines+markers",
         "name": "Trajectory",
         "type": "scatter3d",
         "x": {
          "bdata": "AAAAAAAAAAAAAAAAAAAAAAAAAAAAAAAAAAAAAAAAAAAAAAAAAAAAAAAAAAAAAAAAAAAAAAAAAAAAAAAAAAAAAAAAAAAAAAAAAAAAAAAAAAAAAAAAAAAAAAAAAAAAAAAAAAAAAAAAAAAAAAAAAAAAAAAAAAAAAAAAAAAAAAAAAAAAAAAAAAAAAAAAAAAAAAAAAAAAAAAAAAAAAAAAAAAAAAAAAAAAAAAAAAAAAAAAAAAAAAAAAAAAAAAAAAAAAAAAAAAAAAAAAAAAAAAAAAAAAAAAAAAAAAAAAAAAAAAAAAAAAAAAAAAAAAAAAAAAAAAAAAAAAAAAAAAAAAAAAAAAAAAAAAAAAAAAAAAAAAAAAAAAAAAAAAAAAAAAAAAAAAAAAAAAAAAAAAAAAAAAAAAAAAAAAAAAAAAAAAAAAAAAAAAAAAAAAAAAAAAAAAAAAAAAAAAAAAAAAAAAAAAAAAAAAAAAAAAAAAAAAAAAAAAAAAAAAAAAAAAAAAAAAAAAAAAAAAAAAAAAAAAAAAAAAAAAAAAAAAAAAAAAAAAAAAAAAAAAAAAAAAAAAAAAAAAAAAAAAAAAAAAAAAAAAAAAAAAAAAAAAAAAAAAAAAAAAAAAAAAAAAAAAAAAAAAAAAAAAAAAAAAAAAAAAAAAAAAAAAAAAAAAAAAAAAAAAAAAAAAAAAAAAAAAAAAAAAAAAAAAAAAAAAAAAAAAAAAAAAAAAAAAAAAAAAAAAAAAAAAAAAAAAAAAAAAAAAAAAAAAAAAAAAAAAAAAAAAAAAAAAAAAAAAAAAAAAAAAAAAAAAAAAAAAAAAAAAAAAAAAAAAAAAAAAAAAAAAAAAAAAAAAAAAAAAAAAAAAAAAAAAAAAAAAAAAAAAAAAAAAAAAAAAAAAAAAAAAAAAAAAAAAAAAAAAAAAAAAAAAAAAAAAAAAAAAAAAAAAAAAAAAAAAAAAAAAAAAAAAAAAAAAAAAAAAAAAAAAAAAAAAAAAAAAAAAAAAAAAAAAAAAAAAAAAAAAAAAAAAAAAAAAAAAAAAAAAAAAAAAAAAAAAOpiOjNb/yA/Sw6o69yjQj+404WQJONXP7R1MnghNG0/S43tCziRfz/62w+RNNeLP55FOYN0apU/gwJMECGcnj8lw+DUKLukP6+WS+b20qo/CC5JvQ66sD8k2fXEHUO0P5YAwK4+97c/NDcobtXGuz8yCq+BWJK/P8PTT40nlME/LTMPyXwqwz8mtf/EPHPEP69MPMIvUMU/LLtCBWyixT/2OmqlQVzFPw7X3RJRfMQ/upoRpUwAwz+ZzgsOs+TAP1xUTeb6TLw/jrg5QhiItT80K1ViLvmqP9YI3Af+wZA/MJrJl1qlmL8Y1BePWSqxvw5tR4DTOby/1O+zOaVJw7/oNfHFYt/Hv8on6Knoy8u/k/dJN8gMz79svR5119bQv7+gx1RU4dG/LttccHqz0r9lM73JElzTvyuiWLfM6tO/avhnMg5r1L+8HN/b/uPUv9lpLtT0WNW/XJR6Jn3J1b/yv5QcLzXWv2+jFsWrm9a/gE14ver81r/95cmbOlnXv1BRWNGUsNe/AXPQJp0C2L8Bc9AmnQLYvwFz0CadAti/AXPQJp0C2L8Bc9AmnQLYvwFz0CadAti/AXPQJp0C2L8Bc9AmnQLYvwFz0CadAti/AXPQJp0C2L8Bc9AmnQLYvwFz0CadAti/AXPQJp0C2L8Bc9AmnQLYvwFz0CadAti/AXPQJp0C2L8Bc9AmnQLYvwFz0CadAti/AXPQJp0C2L8Bc9AmnQLYvwFz0CadAti/AXPQJp0C2L8Bc9AmnQLYvwFz0CadAti/AXPQJp0C2L8Bc9AmnQLYvwFz0CadAti/AXPQJp0C2L8Bc9AmnQLYvwFz0CadAti/AXPQJp0C2L8Bc9AmnQLYvwFz0CadAti/AXPQJp0C2L8Bc9AmnQLYvwFz0CadAti/AXPQJp0C2L8Bc9AmnQLYvwFz0CadAti/AXPQJp0C2L8Bc9AmnQLYvw==",
          "dtype": "f8"
         },
         "y": {
          "bdata": "AAAAAAAAAAAAAAAAAAAAAAAAAAAAAAAAAAAAAAAAAAAAAAAAAAAAAAAAAAAAAAAAAAAAAAAAAAAAAAAAAAAAAAAAAAAAAAAAAAAAAAAAAAAAAAAAAAAAAAAAAAAAAAAAAAAAAAAAAAAAAAAAAAAAAAAAAAAAAAAAAAAAAAAAAAAAAAAAAAAAAAAAAAAAAAAAAAAAAAAAAAAAAAAAAAAAAAAAAAAAAAAAAAAAAAAAAAAAAAAAAAAAAAAAAAAAAAAAAAAAAAAAAAAAAAAAAAAAAAAAAAAAAAAAAAAAAAAAAAAAAAAAAAAAAAAAAAAAAAAAAAAAAAAAAAAAAAAAAAAAAAAAAAAAAAAAAAAAAAAAAAAAAAAAAAAAAAAAAAAAAAAAAAAAAAAAAAAAAAAAAAAAAAAAAAAAAAAAAAAAAAAAAAAAAAAAAAAAAAAAAAAAAAAAAAAAAAAAAAAAAAAAAAAAAAAAAAAAAAAAAAAAAAAAAAAAAAAAAAAAAAAAAAAAAAAAAAAAAAAAAAAAAAAAAAAAAAAAAAAAAAAAAAAAAAAAAAAAAAAAAAAAAAAAAAAAAAAAAAAAAAAAAAAAAAAAAAAAAAAAAAAAAAAAAAAAAAAAAAAAAAAAAAAAAAAAAAAAAAAAAAAAAAAAAAAAAAAAAAAAAAAAAAAAAAAAAAAAAAAAAAAAAAAAAAAAAAAAAAAAAAAAAAAAAAAAAAAAAAAAAAAAAAAAAAAAAAAAAAAAAAAAAAAAAAAAAAAAAAAAAAAAAAAAAAAAAAAAAAAAAAAAAAAAAAAAAAAAAAAAAAAAAAAAAAAAAAAAAAAAAAAAAAAAAAAAAAAAAAAAAAAAAAAAAAAAAAAAAAAAAAAAAAAAAAAAAAAAAAAAAAAAAAAAAAAAAAAAAAAAAAAAAAAAAAAAAAAAAAAAAAAAAAAAAAAAAAAAAAAAAAAAAAAAAAAAAAAAAAAAAAAAAAAAAAAAAAAAAAAAAAAAAAAAAAAAAAAAAAAAAAAAAAAAAAAAAAAAAAAAAAAAAAAAAAAAAAAAAAAAAAAAAOrBuha7+SU/Qv9Ok1fnRj9AEyFmh4haP5/pcj9+D2o/Zg4rs14wdz/X3KzzHyKCP6+vaj9kwYk/bOotBZJWkT8GLbVuxruWP0IqH8SrhZ0/ai+8j2AXoz/ebvvTjJqoP+ANvgrMo68//1eGJ5tQtD8MzlzhJgG6P3ss03mpi8A/yNifAM7axD+7zGJPtPTJP9Oxjwamy88/S6DRHhQh0z9eYEYX5pfWP57jSgMYMto/YQL9EfbX3T+BezEyYbjgPwxiUbhfcuI/PnnPi7IO5D9Cj+keXoTlP6O9gBK5zOY/c4HOshvg5z9yLNaCzLXoP4GUbTmuTek/MD05AQ+x6T++gxhDsOrpP//NdKHZBeo/jrYrcnQL6j+Osra5+QHqP4nFqho97uk/Qx7a/EbT6T8RsGtXbrPpP+WJZxNdkOk/qPEyJaVr6T+ivu/P50bpPze+ZJ4HI+k/pBsEIzoA6T/qAOFGed7oP/hlu+mCveg/2YFyBUSd6D+3oh1k2H3oPzIbs7qIX+g/affSHstC6D9p99Iey0LoP2n30h7LQug/affSHstC6D9p99Iey0LoP2n30h7LQug/affSHstC6D9p99Iey0LoP2n30h7LQug/affSHstC6D9p99Iey0LoP2n30h7LQug/affSHstC6D9p99Iey0LoP2n30h7LQug/affSHstC6D9p99Iey0LoP2n30h7LQug/affSHstC6D9p99Iey0LoP2n30h7LQug/affSHstC6D9p99Iey0LoP2n30h7LQug/affSHstC6D9p99Iey0LoP2n30h7LQug/affSHstC6D9p99Iey0LoP2n30h7LQug/affSHstC6D9p99Iey0LoP2n30h7LQug/affSHstC6D9p99Iey0LoP2n30h7LQug/affSHstC6D9p99Iey0LoP2n30h7LQug/affSHstC6D9p99Iey0LoPw==",
          "dtype": "f8"
         },
         "z": {
          "bdata": "AAAAAAAAAAAAAAAAAAAAAAAAAAAAAAAAAAAAAAAAAAAAAAAAAAAAAAAAAAAAAAAAAAAAAAAAAAAAAAAAAAAAAAAAAAAAAAAAAAAAAAAAAAAAAAAAAAAAAAAAAAAAAAAAAAAAAAAAAAAAAAAAAAAAAAAAAAAAAAAAAAAAAAAAAAAAAAAAAAAAAAAAAAAAAAAAAAAAAAAAAAAAAAAAAAAAAAAAAAAAAAAAAAAAAAAAAAAAAAAAAAAAAAAAAAAAAAAAAAAAAAAAAAAAAAAAAAAAAAAAAAAAAAAAAAAAAAAAAAAAAAAAAAAAAAAAAAAAAAAAAAAAAAAAAAAAAAAAAAAAAAAAAAAAAAAAAAAAAAAAAAAAAAAAAAAAAAAAAAAAAAAAAAAAAAAAAAAAAAAAAAAAAAAAAAAAAAAAAAAAAAAAAAAAAAAAAAAAAAAAAAAAAAAAAAAAAAAAAAAAAAAAAAAAAAAAAAAAAAAAAAAAAAAAAAAAAAAAAAAAAAAAAAAAAAAAAAAAAAAAAAAAAAAAAAAAAAAAAAAAAAAAAAAAAAAAAAAAAAAAAAAAAAAAAAAAAAAAAAAAAAAAAAAAAAAAAAAAAAAAAAAAAAAAAAAAAAAAAAAAAAAAAAAAAAAAAAAAAAAAAAAAAAAAAAAAAAAAAAAAAAAAAAAAAAAAAAAAAAAAAAAAAAAAAAAAAAAAAAAAAAAAAAAAAAAAAAAAAAAAAAAAAAAAAAAAAAAAAAAAAAAAAAAAAAAAAAAAAAAAAAAAAAAAAAAAAAAAAAAAAAAAAAAAAAAAAAAAAAAAAAAAAAAAAAAAAAAAAAAAAAAAAAAAAAAAAAAAAAAAAAAAAAAAAAAAAAAAAAAAAAAAAAAAAAAAAAAAAAAAAAAAAAAAAAAAAAAAAAAAAAAAAAAAAAAAAAAAAAAAAAAAAAAAAAAAAAAAAAAAAAAAAAAAAAAAAAAAAAAAAAAAAAAAAAAAAAAAAAAAAAAAAAAAAAAAAAAAAAAAAAAAAAAAAAAAAAAAAAAAAAAAAAAAAAAAAAAAAAAAAAAAAAg36EWa0jW/cPG1nxfpV7/6qojuSV9vvx4GVO0zc4K/nn6dHArmkr+BHmQMMDegv/5cWO0Up6i/vvzNkgV9sb8hlKAuha23v9Dc1Lw29L6/OxIDovWnw79s633LBVfIvzLrk+eUd82/eqmEmhl50b/CDGPSyVPUv4mSHbBJONe/0lFRokgL2r+mclZ/QKrcv1GO9/FE8d6/tlqXOTVe4L9iZHfWd/zgv8LVQHOzUuG/X+sW5qJh4b/0vbpvGyvhv3CfZRNMs+C/CPvDsZAA4L+Y7/ybcDfev2VJ4ADuH9y/FkbhRczb2b+1czATs5bXv6tq9wz6cdW/FmFvRQSE0786lZxOHNbRv8udZS4WZtC/niacVHZhzr9wXV5aw2PMvye92N5LyMq/VD+S+UaAyb+57OoipX3Iv/vr6e0+sse/Pf0VImQSx7+AmJc2TJXGv1t/p1zKNsa/FdmdSZz3xb9h0Weqn9fFv29oFo/S1cW/YagyuHTxxb8vh4vKCyrGv4jmB0rnfsa/zYOt6CLvxr/Ng63oIu/Gv82Dregi78a/zYOt6CLvxr/Ng63oIu/Gv82Dregi78a/zYOt6CLvxr/Ng63oIu/Gv82Dregi78a/zYOt6CLvxr/Ng63oIu/Gv82Dregi78a/zYOt6CLvxr/Ng63oIu/Gv82Dregi78a/zYOt6CLvxr/Ng63oIu/Gv82Dregi78a/zYOt6CLvxr/Ng63oIu/Gv82Dregi78a/zYOt6CLvxr/Ng63oIu/Gv82Dregi78a/zYOt6CLvxr/Ng63oIu/Gv82Dregi78a/zYOt6CLvxr/Ng63oIu/Gv82Dregi78a/zYOt6CLvxr/Ng63oIu/Gv82Dregi78a/zYOt6CLvxr/Ng63oIu/Gv82Dregi78a/zYOt6CLvxr/Ng63oIu/Gv82Dregi78a/zYOt6CLvxr/Ng63oIu/Gvw==",
          "dtype": "f8"
         }
        },
        {
         "marker": {
          "color": "red",
          "size": 6
         },
         "mode": "markers",
         "name": "Center",
         "type": "scatter3d",
         "x": [
          -0.09919158563858996
         ],
         "y": [
          0.28443249294516915
         ],
         "z": [
          -0.10616122582378587
         ]
        }
       ],
       "layout": {
        "margin": {
         "b": 0,
         "l": 0,
         "r": 0,
         "t": 30
        },
        "scene": {
         "aspectmode": "data",
         "xaxis": {
          "title": {
           "text": "X [m]"
          }
         },
         "yaxis": {
          "title": {
           "text": "Y [m]"
          }
         },
         "zaxis": {
          "title": {
           "text": "Z [m]"
          }
         }
        },
        "template": {
         "data": {
          "bar": [
           {
            "error_x": {
             "color": "#2a3f5f"
            },
            "error_y": {
             "color": "#2a3f5f"
            },
            "marker": {
             "line": {
              "color": "#E5ECF6",
              "width": 0.5
             },
             "pattern": {
              "fillmode": "overlay",
              "size": 10,
              "solidity": 0.2
             }
            },
            "type": "bar"
           }
          ],
          "barpolar": [
           {
            "marker": {
             "line": {
              "color": "#E5ECF6",
              "width": 0.5
             },
             "pattern": {
              "fillmode": "overlay",
              "size": 10,
              "solidity": 0.2
             }
            },
            "type": "barpolar"
           }
          ],
          "carpet": [
           {
            "aaxis": {
             "endlinecolor": "#2a3f5f",
             "gridcolor": "white",
             "linecolor": "white",
             "minorgridcolor": "white",
             "startlinecolor": "#2a3f5f"
            },
            "baxis": {
             "endlinecolor": "#2a3f5f",
             "gridcolor": "white",
             "linecolor": "white",
             "minorgridcolor": "white",
             "startlinecolor": "#2a3f5f"
            },
            "type": "carpet"
           }
          ],
          "choropleth": [
           {
            "colorbar": {
             "outlinewidth": 0,
             "ticks": ""
            },
            "type": "choropleth"
           }
          ],
          "contour": [
           {
            "colorbar": {
             "outlinewidth": 0,
             "ticks": ""
            },
            "colorscale": [
             [
              0,
              "#0d0887"
             ],
             [
              0.1111111111111111,
              "#46039f"
             ],
             [
              0.2222222222222222,
              "#7201a8"
             ],
             [
              0.3333333333333333,
              "#9c179e"
             ],
             [
              0.4444444444444444,
              "#bd3786"
             ],
             [
              0.5555555555555556,
              "#d8576b"
             ],
             [
              0.6666666666666666,
              "#ed7953"
             ],
             [
              0.7777777777777778,
              "#fb9f3a"
             ],
             [
              0.8888888888888888,
              "#fdca26"
             ],
             [
              1,
              "#f0f921"
             ]
            ],
            "type": "contour"
           }
          ],
          "contourcarpet": [
           {
            "colorbar": {
             "outlinewidth": 0,
             "ticks": ""
            },
            "type": "contourcarpet"
           }
          ],
          "heatmap": [
           {
            "colorbar": {
             "outlinewidth": 0,
             "ticks": ""
            },
            "colorscale": [
             [
              0,
              "#0d0887"
             ],
             [
              0.1111111111111111,
              "#46039f"
             ],
             [
              0.2222222222222222,
              "#7201a8"
             ],
             [
              0.3333333333333333,
              "#9c179e"
             ],
             [
              0.4444444444444444,
              "#bd3786"
             ],
             [
              0.5555555555555556,
              "#d8576b"
             ],
             [
              0.6666666666666666,
              "#ed7953"
             ],
             [
              0.7777777777777778,
              "#fb9f3a"
             ],
             [
              0.8888888888888888,
              "#fdca26"
             ],
             [
              1,
              "#f0f921"
             ]
            ],
            "type": "heatmap"
           }
          ],
          "histogram": [
           {
            "marker": {
             "pattern": {
              "fillmode": "overlay",
              "size": 10,
              "solidity": 0.2
             }
            },
            "type": "histogram"
           }
          ],
          "histogram2d": [
           {
            "colorbar": {
             "outlinewidth": 0,
             "ticks": ""
            },
            "colorscale": [
             [
              0,
              "#0d0887"
             ],
             [
              0.1111111111111111,
              "#46039f"
             ],
             [
              0.2222222222222222,
              "#7201a8"
             ],
             [
              0.3333333333333333,
              "#9c179e"
             ],
             [
              0.4444444444444444,
              "#bd3786"
             ],
             [
              0.5555555555555556,
              "#d8576b"
             ],
             [
              0.6666666666666666,
              "#ed7953"
             ],
             [
              0.7777777777777778,
              "#fb9f3a"
             ],
             [
              0.8888888888888888,
              "#fdca26"
             ],
             [
              1,
              "#f0f921"
             ]
            ],
            "type": "histogram2d"
           }
          ],
          "histogram2dcontour": [
           {
            "colorbar": {
             "outlinewidth": 0,
             "ticks": ""
            },
            "colorscale": [
             [
              0,
              "#0d0887"
             ],
             [
              0.1111111111111111,
              "#46039f"
             ],
             [
              0.2222222222222222,
              "#7201a8"
             ],
             [
              0.3333333333333333,
              "#9c179e"
             ],
             [
              0.4444444444444444,
              "#bd3786"
             ],
             [
              0.5555555555555556,
              "#d8576b"
             ],
             [
              0.6666666666666666,
              "#ed7953"
             ],
             [
              0.7777777777777778,
              "#fb9f3a"
             ],
             [
              0.8888888888888888,
              "#fdca26"
             ],
             [
              1,
              "#f0f921"
             ]
            ],
            "type": "histogram2dcontour"
           }
          ],
          "mesh3d": [
           {
            "colorbar": {
             "outlinewidth": 0,
             "ticks": ""
            },
            "type": "mesh3d"
           }
          ],
          "parcoords": [
           {
            "line": {
             "colorbar": {
              "outlinewidth": 0,
              "ticks": ""
             }
            },
            "type": "parcoords"
           }
          ],
          "pie": [
           {
            "automargin": true,
            "type": "pie"
           }
          ],
          "scatter": [
           {
            "fillpattern": {
             "fillmode": "overlay",
             "size": 10,
             "solidity": 0.2
            },
            "type": "scatter"
           }
          ],
          "scatter3d": [
           {
            "line": {
             "colorbar": {
              "outlinewidth": 0,
              "ticks": ""
             }
            },
            "marker": {
             "colorbar": {
              "outlinewidth": 0,
              "ticks": ""
             }
            },
            "type": "scatter3d"
           }
          ],
          "scattercarpet": [
           {
            "marker": {
             "colorbar": {
              "outlinewidth": 0,
              "ticks": ""
             }
            },
            "type": "scattercarpet"
           }
          ],
          "scattergeo": [
           {
            "marker": {
             "colorbar": {
              "outlinewidth": 0,
              "ticks": ""
             }
            },
            "type": "scattergeo"
           }
          ],
          "scattergl": [
           {
            "marker": {
             "colorbar": {
              "outlinewidth": 0,
              "ticks": ""
             }
            },
            "type": "scattergl"
           }
          ],
          "scattermap": [
           {
            "marker": {
             "colorbar": {
              "outlinewidth": 0,
              "ticks": ""
             }
            },
            "type": "scattermap"
           }
          ],
          "scattermapbox": [
           {
            "marker": {
             "colorbar": {
              "outlinewidth": 0,
              "ticks": ""
             }
            },
            "type": "scattermapbox"
           }
          ],
          "scatterpolar": [
           {
            "marker": {
             "colorbar": {
              "outlinewidth": 0,
              "ticks": ""
             }
            },
            "type": "scatterpolar"
           }
          ],
          "scatterpolargl": [
           {
            "marker": {
             "colorbar": {
              "outlinewidth": 0,
              "ticks": ""
             }
            },
            "type": "scatterpolargl"
           }
          ],
          "scatterternary": [
           {
            "marker": {
             "colorbar": {
              "outlinewidth": 0,
              "ticks": ""
             }
            },
            "type": "scatterternary"
           }
          ],
          "surface": [
           {
            "colorbar": {
             "outlinewidth": 0,
             "ticks": ""
            },
            "colorscale": [
             [
              0,
              "#0d0887"
             ],
             [
              0.1111111111111111,
              "#46039f"
             ],
             [
              0.2222222222222222,
              "#7201a8"
             ],
             [
              0.3333333333333333,
              "#9c179e"
             ],
             [
              0.4444444444444444,
              "#bd3786"
             ],
             [
              0.5555555555555556,
              "#d8576b"
             ],
             [
              0.6666666666666666,
              "#ed7953"
             ],
             [
              0.7777777777777778,
              "#fb9f3a"
             ],
             [
              0.8888888888888888,
              "#fdca26"
             ],
             [
              1,
              "#f0f921"
             ]
            ],
            "type": "surface"
           }
          ],
          "table": [
           {
            "cells": {
             "fill": {
              "color": "#EBF0F8"
             },
             "line": {
              "color": "white"
             }
            },
            "header": {
             "fill": {
              "color": "#C8D4E3"
             },
             "line": {
              "color": "white"
             }
            },
            "type": "table"
           }
          ]
         },
         "layout": {
          "annotationdefaults": {
           "arrowcolor": "#2a3f5f",
           "arrowhead": 0,
           "arrowwidth": 1
          },
          "autotypenumbers": "strict",
          "coloraxis": {
           "colorbar": {
            "outlinewidth": 0,
            "ticks": ""
           }
          },
          "colorscale": {
           "diverging": [
            [
             0,
             "#8e0152"
            ],
            [
             0.1,
             "#c51b7d"
            ],
            [
             0.2,
             "#de77ae"
            ],
            [
             0.3,
             "#f1b6da"
            ],
            [
             0.4,
             "#fde0ef"
            ],
            [
             0.5,
             "#f7f7f7"
            ],
            [
             0.6,
             "#e6f5d0"
            ],
            [
             0.7,
             "#b8e186"
            ],
            [
             0.8,
             "#7fbc41"
            ],
            [
             0.9,
             "#4d9221"
            ],
            [
             1,
             "#276419"
            ]
           ],
           "sequential": [
            [
             0,
             "#0d0887"
            ],
            [
             0.1111111111111111,
             "#46039f"
            ],
            [
             0.2222222222222222,
             "#7201a8"
            ],
            [
             0.3333333333333333,
             "#9c179e"
            ],
            [
             0.4444444444444444,
             "#bd3786"
            ],
            [
             0.5555555555555556,
             "#d8576b"
            ],
            [
             0.6666666666666666,
             "#ed7953"
            ],
            [
             0.7777777777777778,
             "#fb9f3a"
            ],
            [
             0.8888888888888888,
             "#fdca26"
            ],
            [
             1,
             "#f0f921"
            ]
           ],
           "sequentialminus": [
            [
             0,
             "#0d0887"
            ],
            [
             0.1111111111111111,
             "#46039f"
            ],
            [
             0.2222222222222222,
             "#7201a8"
            ],
            [
             0.3333333333333333,
             "#9c179e"
            ],
            [
             0.4444444444444444,
             "#bd3786"
            ],
            [
             0.5555555555555556,
             "#d8576b"
            ],
            [
             0.6666666666666666,
             "#ed7953"
            ],
            [
             0.7777777777777778,
             "#fb9f3a"
            ],
            [
             0.8888888888888888,
             "#fdca26"
            ],
            [
             1,
             "#f0f921"
            ]
           ]
          },
          "colorway": [
           "#636efa",
           "#EF553B",
           "#00cc96",
           "#ab63fa",
           "#FFA15A",
           "#19d3f3",
           "#FF6692",
           "#B6E880",
           "#FF97FF",
           "#FECB52"
          ],
          "font": {
           "color": "#2a3f5f"
          },
          "geo": {
           "bgcolor": "white",
           "lakecolor": "white",
           "landcolor": "#E5ECF6",
           "showlakes": true,
           "showland": true,
           "subunitcolor": "white"
          },
          "hoverlabel": {
           "align": "left"
          },
          "hovermode": "closest",
          "mapbox": {
           "style": "light"
          },
          "paper_bgcolor": "white",
          "plot_bgcolor": "#E5ECF6",
          "polar": {
           "angularaxis": {
            "gridcolor": "white",
            "linecolor": "white",
            "ticks": ""
           },
           "bgcolor": "#E5ECF6",
           "radialaxis": {
            "gridcolor": "white",
            "linecolor": "white",
            "ticks": ""
           }
          },
          "scene": {
           "xaxis": {
            "backgroundcolor": "#E5ECF6",
            "gridcolor": "white",
            "gridwidth": 2,
            "linecolor": "white",
            "showbackground": true,
            "ticks": "",
            "zerolinecolor": "white"
           },
           "yaxis": {
            "backgroundcolor": "#E5ECF6",
            "gridcolor": "white",
            "gridwidth": 2,
            "linecolor": "white",
            "showbackground": true,
            "ticks": "",
            "zerolinecolor": "white"
           },
           "zaxis": {
            "backgroundcolor": "#E5ECF6",
            "gridcolor": "white",
            "gridwidth": 2,
            "linecolor": "white",
            "showbackground": true,
            "ticks": "",
            "zerolinecolor": "white"
           }
          },
          "shapedefaults": {
           "line": {
            "color": "#2a3f5f"
           }
          },
          "ternary": {
           "aaxis": {
            "gridcolor": "white",
            "linecolor": "white",
            "ticks": ""
           },
           "baxis": {
            "gridcolor": "white",
            "linecolor": "white",
            "ticks": ""
           },
           "bgcolor": "#E5ECF6",
           "caxis": {
            "gridcolor": "white",
            "linecolor": "white",
            "ticks": ""
           }
          },
          "title": {
           "x": 0.05
          },
          "xaxis": {
           "automargin": true,
           "gridcolor": "white",
           "linecolor": "white",
           "ticks": "",
           "title": {
            "standoff": 15
           },
           "zerolinecolor": "white",
           "zerolinewidth": 2
          },
          "yaxis": {
           "automargin": true,
           "gridcolor": "white",
           "linecolor": "white",
           "ticks": "",
           "title": {
            "standoff": 15
           },
           "zerolinecolor": "white",
           "zerolinewidth": 2
          }
         }
        },
        "title": {
         "text": "Trajectory & Plane"
        }
       }
      }
     },
     "metadata": {},
     "output_type": "display_data"
    }
   ],
   "source": [
    "# 1) compute trajectory\n",
    "pos, vel, a_mag = compute_trajectory_2(df,deadband=9)\n",
    "\n",
    "# 2) estimate center of the arc\n",
    "center = calculate_arc_center(pos)\n",
    "\n",
    "# 3) plot both trajectory and fitted plane\n",
    "plot_trajectory_with_plane(pos, center, resolution=20, opacity=0.4)"
   ]
  },
  {
   "cell_type": "code",
   "execution_count": 14,
   "id": "31da273f",
   "metadata": {},
   "outputs": [
    {
     "data": {
      "application/vnd.plotly.v1+json": {
       "config": {
        "plotlyServerURL": "https://plot.ly"
       },
       "data": [
        {
         "name": "Plane",
         "opacity": 0.5,
         "showscale": false,
         "type": "surface",
         "x": {
          "bdata": "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",
          "dtype": "f8",
          "shape": "20, 20"
         },
         "y": {
          "bdata": "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",
          "dtype": "f8",
          "shape": "20, 20"
         },
         "z": {
          "bdata": "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",
          "dtype": "f8",
          "shape": "20, 20"
         }
        },
        {
         "line": {
          "color": "blue",
          "width": 3
         },
         "marker": {
          "size": 3
         },
         "mode": "lines+markers",
         "name": "Trajectory",
         "type": "scatter3d",
         "x": {
          "bdata": "AAAAAAAAAAAAAAAAAAAAAAAAAAAAAAAAAAAAAAAAAAAAAAAAAAAAAAAAAAAAAAAAAAAAAAAAAAAAAAAAAAAAAAAAAAAAAAAAAAAAAAAAAAAAAAAAAAAAAAAAAAAAAAAAAAAAAAAAAAAAAAAAAAAAAAAAAAAAAAAAAAAAAAAAAAAAAAAAAAAAAAAAAAAAAAAAAAAAAAAAAAAAAAAAAAAAAAAAAAAAAAAAAAAAAAAAAAAAAAAAAAAAAAAAAAAAAAAAAAAAAAAAAAAAAAAAAAAAAAAAAAAAAAAAAAAAAAAAAAAAAAAAAAAAAAAAAAAAAAAAAAAAAAAAAAAAAAAAAAAAAAAAAAAAAAAAAAAAAAAAAAAAAAAAAAAAAAAAAAAAAAAAAAAAAAAAAAAAAAAAAAAAAAAAAAAAAAAAAAAAAAAAAAAAAAAAAAAAAAAAAAAAAAAAAAAAAAAAAAAAAAAAAAAAAAAAAAAAAAAAAAAAAAAAAAAAAAAAAAAAAAAAAAAAAAAAAAAAAAAAAAAAAAAAAAAAAAAAAAAAAAAAAAAAAAAAAAAAAAAAAAAAAAAAAAAAAAAAAAAAAAAAAAAAAAAAAAAAAAAAAAAAAAAAAAAAAAAAAAAAAAAAAAAAAAAAAAAAAAAAAAAAAAAAAAAAAAAAAAAAAAAAAAAAAAAAAAAAAAAAAAAAAAAAAAAAAAAAAAAAAAAAAAAAAAAAAAAAAAAAAAAAAAAAAAAAAAAAAAAAAAAAAAAAAAAAAAAAAAAAAAAAAAAAAAAAAAAAAAAAAAAAAAAAAAAAAAAAAAAAAAAAAAAAAAAAAAAAAAAAAAAAAAAAAAAAAAAAAAAAAAAAAAAAAAAAAAAAAAAAAAAAAAAAAAAAAAAAAAAAAAAAAAAAAAAAAAAAAAAAAAAAAAAAAAAAAAAAAAAAAAAAAAAAAAAAAAAAAAAAAAAAAAAAAAAAAAAAAAAAAAAAAAAAAAAAAAAAAAAAAAAAAAAAAAAAAAAAAAAAAAAAAAAAAAAAAAAAAAAAAAAAAAAAAAAAAAAAAAAAAAAAAAAAAAAAAAAAAAAAAAAAAADtvpsiG7QxP5Uqe9b1zVw/4GXw8JihdT+p7E8Z35qFPyigONIGqpE/QK8qanA5mj+cwj8HrziiP0A/Gp5b/6c/ua3Qt2BPrj+G1kymLoiyP4TSztK+E7Y/r93u1MS6uT85hS0rt129P437aoOOZcA/PkWGYJvnwT99sdL9EhzDP00za5y95MM/EIzNgLEixD8g9lDCPsjDP398INEF1MI/ciqwBLlDwT8ukQwerie+P+Uc+iqygrg/pFWeyT6VsT96Do72WcKiP4CatzRxezO/npfMrMQrpb/O5NP8db+1v5zUpVXAe8C/oyPaLcS8xb9xf7sYymbKvwyHVluYZ86/RzauI2De0L/HAnqs9zjSv/fwdLuYTdO/QzZcBuMp1L9XmQ6Pn9zUv/oS/Kt9ddW/+hL8q3111b/6EvyrfXXVv/oS/Kt9ddW/+hL8q3111b/6EvyrfXXVv/oS/Kt9ddW/+hL8q3111b/6EvyrfXXVv/oS/Kt9ddW/+hL8q3111b/6EvyrfXXVv/oS/Kt9ddW/+hL8q3111b/6EvyrfXXVv/oS/Kt9ddW/+hL8q3111b/6EvyrfXXVv/oS/Kt9ddW/+hL8q3111b/6EvyrfXXVv/oS/Kt9ddW/+hL8q3111b/6EvyrfXXVv/oS/Kt9ddW/+hL8q3111b/6EvyrfXXVv/oS/Kt9ddW/+hL8q3111b/6EvyrfXXVv/oS/Kt9ddW/+hL8q3111b/6EvyrfXXVv/oS/Kt9ddW/+hL8q3111b/6EvyrfXXVv/oS/Kt9ddW/+hL8q3111b/6EvyrfXXVv/oS/Kt9ddW/+hL8q3111b/6EvyrfXXVv/oS/Kt9ddW/+hL8q3111b/6EvyrfXXVv/oS/Kt9ddW/+hL8q3111b/6EvyrfXXVv/oS/Kt9ddW/+hL8q3111b/6EvyrfXXVvw==",
          "dtype": "f8"
         },
         "y": {
          "bdata": "AAAAAAAAAAAAAAAAAAAAAAAAAAAAAAAAAAAAAAAAAAAAAAAAAAAAAAAAAAAAAAAAAAAAAAAAAAAAAAAAAAAAAAAAAAAAAAAAAAAAAAAAAAAAAAAAAAAAAAAAAAAAAAAAAAAAAAAAAAAAAAAAAAAAAAAAAAAAAAAAAAAAAAAAAAAAAAAAAAAAAAAAAAAAAAAAAAAAAAAAAAAAAAAAAAAAAAAAAAAAAAAAAAAAAAAAAAAAAAAAAAAAAAAAAAAAAAAAAAAAAAAAAAAAAAAAAAAAAAAAAAAAAAAAAAAAAAAAAAAAAAAAAAAAAAAAAAAAAAAAAAAAAAAAAAAAAAAAAAAAAAAAAAAAAAAAAAAAAAAAAAAAAAAAAAAAAAAAAAAAAAAAAAAAAAAAAAAAAAAAAAAAAAAAAAAAAAAAAAAAAAAAAAAAAAAAAAAAAAAAAAAAAAAAAAAAAAAAAAAAAAAAAAAAAAAAAAAAAAAAAAAAAAAAAAAAAAAAAAAAAAAAAAAAAAAAAAAAAAAAAAAAAAAAAAAAAAAAAAAAAAAAAAAAAAAAAAAAAAAAAAAAAAAAAAAAAAAAAAAAAAAAAAAAAAAAAAAAAAAAAAAAAAAAAAAAAAAAAAAAAAAAAAAAAAAAAAAAAAAAAAAAAAAAAAAAAAAAAAAAAAAAAAAAAAAAAAAAAAAAAAAAAAAAAAAAAAAAAAAAAAAAAAAAAAAAAAAAAAAAAAAAAAAAAAAAAAAAAAAAAAAAAAAAAAAAAAAAAAAAAAAAAAAAAAAAAAAAAAAAAAAAAAAAAAAAAAAAAAAAAAAAAAAAAAAAAAAAAAAAAAAAAAAAAAAAAAAAAAAAAAAAAAAAAAAAAAAAAAAAAAAAAAAAAAAAAAAAAAAAAAAAAAAAAAAAAAAAAAAAAAAAAAAAAAAAAAAAAAAAAAAAAAAAAAAAAAAAAAAAAAAAAAAAAAAAAAAAAAAAAAAAAAAAAAAAAAAAAAAAAAAAAAAAAAAAAAAAAAAAAAAAAAAAAAAAAAAAAAAAAAAAAAAAAAAAAAAAAAAAAAAAAAAAAAAAAAAAAAAAAAAAAACXqj+kDFMpPwUXW6Vc1lA/ie+XdTDHZj96O/7s2nx1P8u8PoFi4IA/Kq4xC9NOiD/L/6BO9s2QPyPjiwM02ZY/0f1lvqHDnj9qsTJTqYWkP3rDtbmUL6s/U2ziltXmsT/oG5lot2e3P1ngwpI5Tr4/PDkeXGxewz/ySdG2fWDIP85L7nmaH84/qvt43iM/0j8eyuVcC6rVP8Bb4s5SONk/5YiMY0bS3D/0RfUdlC/gP7AzEWed4+E/E1KL/fp54z9Ib6FTsenkP9qkNAoXLOY/229+bYQ55z8KIoIAQAnoP0qRFXosm+g/KUHdBJj46D/ojrgJRCzpP1rgECt4Qek/GtDDvh1B6T9L00rJrTHpP3ftOu37F+k/Yk1mkhD36D9h5vOvQtHoP2bH6y48qOg/ZsfrLjyo6D9mx+suPKjoP2bH6y48qOg/ZsfrLjyo6D9mx+suPKjoP2bH6y48qOg/ZsfrLjyo6D9mx+suPKjoP2bH6y48qOg/ZsfrLjyo6D9mx+suPKjoP2bH6y48qOg/ZsfrLjyo6D9mx+suPKjoP2bH6y48qOg/ZsfrLjyo6D9mx+suPKjoP2bH6y48qOg/ZsfrLjyo6D9mx+suPKjoP2bH6y48qOg/ZsfrLjyo6D9mx+suPKjoP2bH6y48qOg/ZsfrLjyo6D9mx+suPKjoP2bH6y48qOg/ZsfrLjyo6D9mx+suPKjoP2bH6y48qOg/ZsfrLjyo6D9mx+suPKjoP2bH6y48qOg/ZsfrLjyo6D9mx+suPKjoP2bH6y48qOg/ZsfrLjyo6D9mx+suPKjoP2bH6y48qOg/ZsfrLjyo6D9mx+suPKjoP2bH6y48qOg/ZsfrLjyo6D9mx+suPKjoP2bH6y48qOg/ZsfrLjyo6D9mx+suPKjoP2bH6y48qOg/ZsfrLjyo6D9mx+suPKjoPw==",
          "dtype": "f8"
         },
         "z": {
          "bdata": "AAAAAAAAAAAAAAAAAAAAAAAAAAAAAAAAAAAAAAAAAAAAAAAAAAAAAAAAAAAAAAAAAAAAAAAAAAAAAAAAAAAAAAAAAAAAAAAAAAAAAAAAAAAAAAAAAAAAAAAAAAAAAAAAAAAAAAAAAAAAAAAAAAAAAAAAAAAAAAAAAAAAAAAAAAAAAAAAAAAAAAAAAAAAAAAAAAAAAAAAAAAAAAAAAAAAAAAAAAAAAAAAAAAAAAAAAAAAAAAAAAAAAAAAAAAAAAAAAAAAAAAAAAAAAAAAAAAAAAAAAAAAAAAAAAAAAAAAAAAAAAAAAAAAAAAAAAAAAAAAAAAAAAAAAAAAAAAAAAAAAAAAAAAAAAAAAAAAAAAAAAAAAAAAAAAAAAAAAAAAAAAAAAAAAAAAAAAAAAAAAAAAAAAAAAAAAAAAAAAAAAAAAAAAAAAAAAAAAAAAAAAAAAAAAAAAAAAAAAAAAAAAAAAAAAAAAAAAAAAAAAAAAAAAAAAAAAAAAAAAAAAAAAAAAAAAAAAAAAAAAAAAAAAAAAAAAAAAAAAAAAAAAAAAAAAAAAAAAAAAAAAAAAAAAAAAAAAAAAAAAAAAAAAAAAAAAAAAAAAAAAAAAAAAAAAAAAAAAAAAAAAAAAAAAAAAAAAAAAAAAAAAAAAAAAAAAAAAAAAAAAAAAAAAAAAAAAAAAAAAAAAAAAAAAAAAAAAAAAAAAAAAAAAAAAAAAAAAAAAAAAAAAAAAAAAAAAAAAAAAAAAAAAAAAAAAAAAAAAAAAAAAAAAAAAAAAAAAAAAAAAAAAAAAAAAAAAAAAAAAAAAAAAAAAAAAAAAAAAAAAAAAAAAAAAAAAAAAAAAAAAAAAAAAAAAAAAAAAAAAAAAAAAAAAAAAAAAAAAAAAAAAAAAAAAAAAAAAAAAAAAAAAAAAAAAAAAAAAAAAAAAAAAAAAAAAAAAAAAAAAAAAAAAAAAAAAAAAAAAAAAAAAAAAAAAAAAAAAAAAAAAAAAAAAAAAAAAAAAAAAAAAAAAAAAAAAAAAAAAAAAAAAAAAAAAAAAAAAAAAAAAAAAAAAAAAAAAAAAAAAAAAAABaca+HzqtJv/a5+HVX7HG/oN6yZxkPib/28mtg6W+Yv5kaXunc16O/uJnVedZarb+QVdeE7HW0v4+PJb+fVLu/Q2Q4+Sqkwb8dNsD4Ox/Gv4wu4+rLC8u/e8cyhzUp0L8Xpxcq5unSvzKp2HJmtNW/z+QS0GVt2L/3gR4YXvLav/YZxvViH92/Zb0D4ojQ3r8RTcqGDvPfvxPWsRXDQuC/2ikLvrJE4L+ZOjJ9KwHgv360wKy4+N6/AuiDVEJ53b/eXf/3kZXbv/8z6ccPZNm/BK3wd+4F17/4Vkaw1abUv0LKExUdaNK/Aj2SuCdg0L/02otZgDDNv77kKu90HMq/bsgIvb99x7/o99eYDUzFv0hQX/OWfMO/Hcsl5JIAwr8rcYvj8cnAvyzSLgkZlb+/LNIuCRmVv78s0i4JGZW/vyzSLgkZlb+/LNIuCRmVv78s0i4JGZW/vyzSLgkZlb+/LNIuCRmVv78s0i4JGZW/vyzSLgkZlb+/LNIuCRmVv78s0i4JGZW/vyzSLgkZlb+/LNIuCRmVv78s0i4JGZW/vyzSLgkZlb+/LNIuCRmVv78s0i4JGZW/vyzSLgkZlb+/LNIuCRmVv78s0i4JGZW/vyzSLgkZlb+/LNIuCRmVv78s0i4JGZW/vyzSLgkZlb+/LNIuCRmVv78s0i4JGZW/vyzSLgkZlb+/LNIuCRmVv78s0i4JGZW/vyzSLgkZlb+/LNIuCRmVv78s0i4JGZW/vyzSLgkZlb+/LNIuCRmVv78s0i4JGZW/vyzSLgkZlb+/LNIuCRmVv78s0i4JGZW/vyzSLgkZlb+/LNIuCRmVv78s0i4JGZW/vyzSLgkZlb+/LNIuCRmVv78s0i4JGZW/vyzSLgkZlb+/LNIuCRmVv78s0i4JGZW/vyzSLgkZlb+/LNIuCRmVv78s0i4JGZW/vw==",
          "dtype": "f8"
         }
        },
        {
         "marker": {
          "color": "red",
          "size": 6
         },
         "mode": "markers",
         "name": "Circle Center (r=0.43)",
         "type": "scatter3d",
         "x": [
          -0.11720363523919107
         ],
         "y": [
          0.3953856795775268
         ],
         "z": [
          -0.13196297302866472
         ]
        }
       ],
       "layout": {
        "margin": {
         "b": 0,
         "l": 0,
         "r": 0,
         "t": 30
        },
        "scene": {
         "aspectmode": "data",
         "xaxis": {
          "title": {
           "text": "X [m]"
          }
         },
         "yaxis": {
          "title": {
           "text": "Y [m]"
          }
         },
         "zaxis": {
          "title": {
           "text": "Z [m]"
          }
         }
        },
        "template": {
         "data": {
          "bar": [
           {
            "error_x": {
             "color": "#2a3f5f"
            },
            "error_y": {
             "color": "#2a3f5f"
            },
            "marker": {
             "line": {
              "color": "#E5ECF6",
              "width": 0.5
             },
             "pattern": {
              "fillmode": "overlay",
              "size": 10,
              "solidity": 0.2
             }
            },
            "type": "bar"
           }
          ],
          "barpolar": [
           {
            "marker": {
             "line": {
              "color": "#E5ECF6",
              "width": 0.5
             },
             "pattern": {
              "fillmode": "overlay",
              "size": 10,
              "solidity": 0.2
             }
            },
            "type": "barpolar"
           }
          ],
          "carpet": [
           {
            "aaxis": {
             "endlinecolor": "#2a3f5f",
             "gridcolor": "white",
             "linecolor": "white",
             "minorgridcolor": "white",
             "startlinecolor": "#2a3f5f"
            },
            "baxis": {
             "endlinecolor": "#2a3f5f",
             "gridcolor": "white",
             "linecolor": "white",
             "minorgridcolor": "white",
             "startlinecolor": "#2a3f5f"
            },
            "type": "carpet"
           }
          ],
          "choropleth": [
           {
            "colorbar": {
             "outlinewidth": 0,
             "ticks": ""
            },
            "type": "choropleth"
           }
          ],
          "contour": [
           {
            "colorbar": {
             "outlinewidth": 0,
             "ticks": ""
            },
            "colorscale": [
             [
              0,
              "#0d0887"
             ],
             [
              0.1111111111111111,
              "#46039f"
             ],
             [
              0.2222222222222222,
              "#7201a8"
             ],
             [
              0.3333333333333333,
              "#9c179e"
             ],
             [
              0.4444444444444444,
              "#bd3786"
             ],
             [
              0.5555555555555556,
              "#d8576b"
             ],
             [
              0.6666666666666666,
              "#ed7953"
             ],
             [
              0.7777777777777778,
              "#fb9f3a"
             ],
             [
              0.8888888888888888,
              "#fdca26"
             ],
             [
              1,
              "#f0f921"
             ]
            ],
            "type": "contour"
           }
          ],
          "contourcarpet": [
           {
            "colorbar": {
             "outlinewidth": 0,
             "ticks": ""
            },
            "type": "contourcarpet"
           }
          ],
          "heatmap": [
           {
            "colorbar": {
             "outlinewidth": 0,
             "ticks": ""
            },
            "colorscale": [
             [
              0,
              "#0d0887"
             ],
             [
              0.1111111111111111,
              "#46039f"
             ],
             [
              0.2222222222222222,
              "#7201a8"
             ],
             [
              0.3333333333333333,
              "#9c179e"
             ],
             [
              0.4444444444444444,
              "#bd3786"
             ],
             [
              0.5555555555555556,
              "#d8576b"
             ],
             [
              0.6666666666666666,
              "#ed7953"
             ],
             [
              0.7777777777777778,
              "#fb9f3a"
             ],
             [
              0.8888888888888888,
              "#fdca26"
             ],
             [
              1,
              "#f0f921"
             ]
            ],
            "type": "heatmap"
           }
          ],
          "histogram": [
           {
            "marker": {
             "pattern": {
              "fillmode": "overlay",
              "size": 10,
              "solidity": 0.2
             }
            },
            "type": "histogram"
           }
          ],
          "histogram2d": [
           {
            "colorbar": {
             "outlinewidth": 0,
             "ticks": ""
            },
            "colorscale": [
             [
              0,
              "#0d0887"
             ],
             [
              0.1111111111111111,
              "#46039f"
             ],
             [
              0.2222222222222222,
              "#7201a8"
             ],
             [
              0.3333333333333333,
              "#9c179e"
             ],
             [
              0.4444444444444444,
              "#bd3786"
             ],
             [
              0.5555555555555556,
              "#d8576b"
             ],
             [
              0.6666666666666666,
              "#ed7953"
             ],
             [
              0.7777777777777778,
              "#fb9f3a"
             ],
             [
              0.8888888888888888,
              "#fdca26"
             ],
             [
              1,
              "#f0f921"
             ]
            ],
            "type": "histogram2d"
           }
          ],
          "histogram2dcontour": [
           {
            "colorbar": {
             "outlinewidth": 0,
             "ticks": ""
            },
            "colorscale": [
             [
              0,
              "#0d0887"
             ],
             [
              0.1111111111111111,
              "#46039f"
             ],
             [
              0.2222222222222222,
              "#7201a8"
             ],
             [
              0.3333333333333333,
              "#9c179e"
             ],
             [
              0.4444444444444444,
              "#bd3786"
             ],
             [
              0.5555555555555556,
              "#d8576b"
             ],
             [
              0.6666666666666666,
              "#ed7953"
             ],
             [
              0.7777777777777778,
              "#fb9f3a"
             ],
             [
              0.8888888888888888,
              "#fdca26"
             ],
             [
              1,
              "#f0f921"
             ]
            ],
            "type": "histogram2dcontour"
           }
          ],
          "mesh3d": [
           {
            "colorbar": {
             "outlinewidth": 0,
             "ticks": ""
            },
            "type": "mesh3d"
           }
          ],
          "parcoords": [
           {
            "line": {
             "colorbar": {
              "outlinewidth": 0,
              "ticks": ""
             }
            },
            "type": "parcoords"
           }
          ],
          "pie": [
           {
            "automargin": true,
            "type": "pie"
           }
          ],
          "scatter": [
           {
            "fillpattern": {
             "fillmode": "overlay",
             "size": 10,
             "solidity": 0.2
            },
            "type": "scatter"
           }
          ],
          "scatter3d": [
           {
            "line": {
             "colorbar": {
              "outlinewidth": 0,
              "ticks": ""
             }
            },
            "marker": {
             "colorbar": {
              "outlinewidth": 0,
              "ticks": ""
             }
            },
            "type": "scatter3d"
           }
          ],
          "scattercarpet": [
           {
            "marker": {
             "colorbar": {
              "outlinewidth": 0,
              "ticks": ""
             }
            },
            "type": "scattercarpet"
           }
          ],
          "scattergeo": [
           {
            "marker": {
             "colorbar": {
              "outlinewidth": 0,
              "ticks": ""
             }
            },
            "type": "scattergeo"
           }
          ],
          "scattergl": [
           {
            "marker": {
             "colorbar": {
              "outlinewidth": 0,
              "ticks": ""
             }
            },
            "type": "scattergl"
           }
          ],
          "scattermap": [
           {
            "marker": {
             "colorbar": {
              "outlinewidth": 0,
              "ticks": ""
             }
            },
            "type": "scattermap"
           }
          ],
          "scattermapbox": [
           {
            "marker": {
             "colorbar": {
              "outlinewidth": 0,
              "ticks": ""
             }
            },
            "type": "scattermapbox"
           }
          ],
          "scatterpolar": [
           {
            "marker": {
             "colorbar": {
              "outlinewidth": 0,
              "ticks": ""
             }
            },
            "type": "scatterpolar"
           }
          ],
          "scatterpolargl": [
           {
            "marker": {
             "colorbar": {
              "outlinewidth": 0,
              "ticks": ""
             }
            },
            "type": "scatterpolargl"
           }
          ],
          "scatterternary": [
           {
            "marker": {
             "colorbar": {
              "outlinewidth": 0,
              "ticks": ""
             }
            },
            "type": "scatterternary"
           }
          ],
          "surface": [
           {
            "colorbar": {
             "outlinewidth": 0,
             "ticks": ""
            },
            "colorscale": [
             [
              0,
              "#0d0887"
             ],
             [
              0.1111111111111111,
              "#46039f"
             ],
             [
              0.2222222222222222,
              "#7201a8"
             ],
             [
              0.3333333333333333,
              "#9c179e"
             ],
             [
              0.4444444444444444,
              "#bd3786"
             ],
             [
              0.5555555555555556,
              "#d8576b"
             ],
             [
              0.6666666666666666,
              "#ed7953"
             ],
             [
              0.7777777777777778,
              "#fb9f3a"
             ],
             [
              0.8888888888888888,
              "#fdca26"
             ],
             [
              1,
              "#f0f921"
             ]
            ],
            "type": "surface"
           }
          ],
          "table": [
           {
            "cells": {
             "fill": {
              "color": "#EBF0F8"
             },
             "line": {
              "color": "white"
             }
            },
            "header": {
             "fill": {
              "color": "#C8D4E3"
             },
             "line": {
              "color": "white"
             }
            },
            "type": "table"
           }
          ]
         },
         "layout": {
          "annotationdefaults": {
           "arrowcolor": "#2a3f5f",
           "arrowhead": 0,
           "arrowwidth": 1
          },
          "autotypenumbers": "strict",
          "coloraxis": {
           "colorbar": {
            "outlinewidth": 0,
            "ticks": ""
           }
          },
          "colorscale": {
           "diverging": [
            [
             0,
             "#8e0152"
            ],
            [
             0.1,
             "#c51b7d"
            ],
            [
             0.2,
             "#de77ae"
            ],
            [
             0.3,
             "#f1b6da"
            ],
            [
             0.4,
             "#fde0ef"
            ],
            [
             0.5,
             "#f7f7f7"
            ],
            [
             0.6,
             "#e6f5d0"
            ],
            [
             0.7,
             "#b8e186"
            ],
            [
             0.8,
             "#7fbc41"
            ],
            [
             0.9,
             "#4d9221"
            ],
            [
             1,
             "#276419"
            ]
           ],
           "sequential": [
            [
             0,
             "#0d0887"
            ],
            [
             0.1111111111111111,
             "#46039f"
            ],
            [
             0.2222222222222222,
             "#7201a8"
            ],
            [
             0.3333333333333333,
             "#9c179e"
            ],
            [
             0.4444444444444444,
             "#bd3786"
            ],
            [
             0.5555555555555556,
             "#d8576b"
            ],
            [
             0.6666666666666666,
             "#ed7953"
            ],
            [
             0.7777777777777778,
             "#fb9f3a"
            ],
            [
             0.8888888888888888,
             "#fdca26"
            ],
            [
             1,
             "#f0f921"
            ]
           ],
           "sequentialminus": [
            [
             0,
             "#0d0887"
            ],
            [
             0.1111111111111111,
             "#46039f"
            ],
            [
             0.2222222222222222,
             "#7201a8"
            ],
            [
             0.3333333333333333,
             "#9c179e"
            ],
            [
             0.4444444444444444,
             "#bd3786"
            ],
            [
             0.5555555555555556,
             "#d8576b"
            ],
            [
             0.6666666666666666,
             "#ed7953"
            ],
            [
             0.7777777777777778,
             "#fb9f3a"
            ],
            [
             0.8888888888888888,
             "#fdca26"
            ],
            [
             1,
             "#f0f921"
            ]
           ]
          },
          "colorway": [
           "#636efa",
           "#EF553B",
           "#00cc96",
           "#ab63fa",
           "#FFA15A",
           "#19d3f3",
           "#FF6692",
           "#B6E880",
           "#FF97FF",
           "#FECB52"
          ],
          "font": {
           "color": "#2a3f5f"
          },
          "geo": {
           "bgcolor": "white",
           "lakecolor": "white",
           "landcolor": "#E5ECF6",
           "showlakes": true,
           "showland": true,
           "subunitcolor": "white"
          },
          "hoverlabel": {
           "align": "left"
          },
          "hovermode": "closest",
          "mapbox": {
           "style": "light"
          },
          "paper_bgcolor": "white",
          "plot_bgcolor": "#E5ECF6",
          "polar": {
           "angularaxis": {
            "gridcolor": "white",
            "linecolor": "white",
            "ticks": ""
           },
           "bgcolor": "#E5ECF6",
           "radialaxis": {
            "gridcolor": "white",
            "linecolor": "white",
            "ticks": ""
           }
          },
          "scene": {
           "xaxis": {
            "backgroundcolor": "#E5ECF6",
            "gridcolor": "white",
            "gridwidth": 2,
            "linecolor": "white",
            "showbackground": true,
            "ticks": "",
            "zerolinecolor": "white"
           },
           "yaxis": {
            "backgroundcolor": "#E5ECF6",
            "gridcolor": "white",
            "gridwidth": 2,
            "linecolor": "white",
            "showbackground": true,
            "ticks": "",
            "zerolinecolor": "white"
           },
           "zaxis": {
            "backgroundcolor": "#E5ECF6",
            "gridcolor": "white",
            "gridwidth": 2,
            "linecolor": "white",
            "showbackground": true,
            "ticks": "",
            "zerolinecolor": "white"
           }
          },
          "shapedefaults": {
           "line": {
            "color": "#2a3f5f"
           }
          },
          "ternary": {
           "aaxis": {
            "gridcolor": "white",
            "linecolor": "white",
            "ticks": ""
           },
           "baxis": {
            "gridcolor": "white",
            "linecolor": "white",
            "ticks": ""
           },
           "bgcolor": "#E5ECF6",
           "caxis": {
            "gridcolor": "white",
            "linecolor": "white",
            "ticks": ""
           }
          },
          "title": {
           "x": 0.05
          },
          "xaxis": {
           "automargin": true,
           "gridcolor": "white",
           "linecolor": "white",
           "ticks": "",
           "title": {
            "standoff": 15
           },
           "zerolinecolor": "white",
           "zerolinewidth": 2
          },
          "yaxis": {
           "automargin": true,
           "gridcolor": "white",
           "linecolor": "white",
           "ticks": "",
           "title": {
            "standoff": 15
           },
           "zerolinecolor": "white",
           "zerolinewidth": 2
          }
         }
        },
        "title": {
         "text": "Trajectory + Fitted Plane"
        }
       }
      }
     },
     "metadata": {},
     "output_type": "display_data"
    }
   ],
   "source": [
    "import numpy as np\n",
    "import plotly.graph_objects as go\n",
    "from scipy.spatial.transform import Rotation as R\n",
    "\n",
    "def fit_plane_pca(points):\n",
    "    \"\"\"\n",
    "    Fit plane via PCA: returns centroid (plane point), normal, and in-plane axes u, v.\n",
    "    \"\"\"\n",
    "    centroid = np.mean(points, axis=0)\n",
    "    X = points - centroid\n",
    "    _, _, Vt = np.linalg.svd(X, full_matrices=False)\n",
    "    u = Vt[0] / np.linalg.norm(Vt[0])\n",
    "    v = Vt[1] / np.linalg.norm(Vt[1])\n",
    "    normal = Vt[2] / np.linalg.norm(Vt[2])\n",
    "    return centroid, normal, u, v\n",
    "\n",
    "def fit_circle_2d(xy):\n",
    "    \"\"\"\n",
    "    Algebraic 2D circle fit: solves for (cx, cy, r)\n",
    "    \"\"\"\n",
    "    x = xy[:,0]; y = xy[:,1]\n",
    "    A = np.column_stack([2*x, 2*y, np.ones_like(x)])\n",
    "    b = x**2 + y**2\n",
    "    c, d, f = np.linalg.lstsq(A, b, rcond=None)[0]\n",
    "    cx, cy = c, d\n",
    "    r = np.sqrt(f + cx**2 + cy**2)\n",
    "    return np.array([cx, cy]), r\n",
    "\n",
    "def calculate_plane_and_center_from_arc(pos):\n",
    "    \"\"\"\n",
    "    Fit plane to trajectory, then fit a circle in that plane to find true center.\n",
    "    Returns:\n",
    "      - center_3d: 3D circle center\n",
    "      - normal, u, v: plane axes\n",
    "      - radius: circle radius\n",
    "    \"\"\"\n",
    "    # 1) Fit plane\n",
    "    centroid, normal, u, v = fit_plane_pca(pos)\n",
    "    # 2) Project points to plane coords\n",
    "    X = pos - centroid\n",
    "    coords2d = np.vstack([X.dot(u), X.dot(v)]).T\n",
    "    # 3) Fit circle in 2D\n",
    "    center2d, radius = fit_circle_2d(coords2d)\n",
    "    # 4) Back to 3D\n",
    "    center_3d = centroid + center2d[0]*u + center2d[1]*v\n",
    "    return center_3d, normal, u, v, radius\n",
    "\n",
    "def plot_trajectory_with_fitted_plane_and_circle(pos, resolution=20, opacity=0.5, title=\"Trajectory + Fitted Plane\"):\n",
    "    \"\"\"\n",
    "    Plots trajectory, best-fit plane, and circle center/radius.\n",
    "    \"\"\"\n",
    "    center, normal, u, v, radius = calculate_plane_and_center_from_arc(pos)\n",
    "    # Create plane mesh\n",
    "    r_lim = radius * 1.2\n",
    "    us = np.linspace(-r_lim, r_lim, resolution)\n",
    "    vs = np.linspace(-r_lim, r_lim, resolution)\n",
    "    uu, vv = np.meshgrid(us, vs)\n",
    "    Xp = center[0] + uu*u[0] + vv*v[0]\n",
    "    Yp = center[1] + uu*u[1] + vv*v[1]\n",
    "    Zp = center[2] + uu*u[2] + vv*v[2]\n",
    "\n",
    "    fig = go.Figure()\n",
    "    # plane\n",
    "    fig.add_trace(go.Surface(x=Xp, y=Yp, z=Zp, opacity=opacity, showscale=False, name=\"Plane\"))\n",
    "    # trajectory\n",
    "    fig.add_trace(go.Scatter3d(x=pos[:,0], y=pos[:,1], z=pos[:,2],\n",
    "                                mode='lines+markers', line=dict(color='blue', width=3),\n",
    "                                marker=dict(size=3), name='Trajectory'))\n",
    "    # circle center\n",
    "    fig.add_trace(go.Scatter3d(x=[center[0]], y=[center[1]], z=[center[2]],\n",
    "                                mode='markers', marker=dict(color='red', size=6),\n",
    "                                name=f'Circle Center (r={radius:.2f})'))\n",
    "    fig.update_layout(scene=dict(xaxis_title='X [m]', yaxis_title='Y [m]', zaxis_title='Z [m]', aspectmode='data'),\n",
    "                      title=title, margin=dict(l=0,r=0,b=0,t=30))\n",
    "    fig.show()\n",
    "\n",
    "# Example usage:\n",
    "pos, vel, a_mag = compute_trajectory_2(df,deadband=12)\n",
    "plot_trajectory_with_fitted_plane_and_circle(pos)"
   ]
  }
 ],
 "metadata": {
  "kernelspec": {
   "display_name": ".venv",
   "language": "python",
   "name": "python3"
  },
  "language_info": {
   "codemirror_mode": {
    "name": "ipython",
    "version": 3
   },
   "file_extension": ".py",
   "mimetype": "text/x-python",
   "name": "python",
   "nbconvert_exporter": "python",
   "pygments_lexer": "ipython3",
   "version": "3.11.9"
  }
 },
 "nbformat": 4,
 "nbformat_minor": 5
}
