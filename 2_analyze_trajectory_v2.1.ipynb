{
 "cells": [
  {
   "cell_type": "code",
   "execution_count": 43,
   "id": "d64fbe2b",
   "metadata": {},
   "outputs": [],
   "source": [
    "# --- Imports ---\n",
    "import numpy as np\n",
    "import pandas as pd\n",
    "import matplotlib.pyplot as plt\n",
    "from scipy.spatial.transform import Rotation as R\n",
    "from ahrs.filters import Madgwick\n",
    "filepath = r'imu_logs\\arc_fast.csv'\n",
    "# Load your real data\n",
    "df = pd.read_csv(filepath)\n",
    "\n",
    "# Extract needed columns\n",
    "t = df.index.values*0.01                    # Time in seconds\n",
    "dt = np.diff(t, prepend=t[0])      # time steps (should be ~constant, but safe)\n"
   ]
  },
  {
   "cell_type": "code",
   "execution_count": 44,
   "id": "7656d729",
   "metadata": {},
   "outputs": [
    {
     "name": "stdout",
     "output_type": "stream",
     "text": [
      "(188, 14)\n",
      "Index(['timestamp', 'AccX', 'AccY', 'AccZ', 'AngX', 'AngY', 'AngZ', 'AsX',\n",
      "       'AsY', 'AsZ', 'Q0', 'Q1', 'Q2', 'Q3'],\n",
      "      dtype='object')\n"
     ]
    },
    {
     "data": {
      "image/png": "[encoded data removed]",
      "text/plain": [
       "<Figure size 640x480 with 1 Axes>"
      ]
     },
     "metadata": {},
     "output_type": "display_data"
    }
   ],
   "source": [
    "\n",
    "data = pd.read_csv(filepath)\n",
    "#data.reset_index(inplace=True,drop=True)\n",
    "#data.index = data.index*10/1000  #10\n",
    "timestep = 1/100\n",
    "print(data.shape)\n",
    "print(data.columns)\n",
    "data['total_acc_change']= (data[['AccX', 'AccY', 'AccZ']].diff().rolling(10).mean().sum(axis=1).abs())\n",
    "data['active_period'] = (data['total_acc_change']>0.5).astype(int).rolling(10).min().rolling(50).max()#.shift(-20)\n",
    "data['active_period'].plot()\n",
    "#data = data[data['active_period']==1]\n",
    "df = data"
   ]
  },
  {
   "cell_type": "code",
   "execution_count": 45,
   "id": "b8f07e07",
   "metadata": {},
   "outputs": [
    {
     "data": {
      "application/vnd.plotly.v1+json": {
       "config": {
        "plotlyServerURL": "https://plot.ly"
       },
       "data": [
        {
         "customdata": {
          "bdata": "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",
          "dtype": "f8",
          "shape": "188, 1"
         },
         "hovertemplate": "X: %{x:.3f} m<br>Y: %{y:.3f} m<br>Z: %{z:.3f} m<br>|a|: %{customdata[0]:.3f} m/s²",
         "line": {
          "color": "blue",
          "width": 4
         },
         "mode": "lines",
         "name": "Trajectory",
         "type": "scatter3d",
         "x": {
          "bdata": "AAAAAAAAAAAAAAAAAAAAAAAAAAAAAAAAAAAAAAAAAAAAAAAAAAAAAAAAAAAAAAAAAAAAAAAAAAAAAAAAAAAAAAAAAAAAAAAAAAAAAAAAAAAAAAAAAAAAAAAAAAAAAAAAAAAAAAAAAAAAAAAAAAAAAAAAAAAAAAAAAAAAAAAAAAAAAAAAAAAAAAAAAAAAAAAAAAAAAAAAAAAAAAAAAAAAAAAAAAAAAAAAAAAAAAAAAAAAAAAAAAAAAAAAAAAAAAAAAAAAAAAAAAAAAAAAAAAAAAAAAAAAAAAAAAAAAAAAAAAAAAAAAAAAAAAAAAAAAAAAAAAAAAAAAAAAAAAAAAAAAAAAAAAAAAAAAAAAAAAAAAAAAAAAAAAAAAAAAAAAAAAAAAAAAAAAAAAAAAAAAAAAAAAAAAAAAAAAAAAAAAAAAAAAAAAAAAAAAAAAAAAAAAAAAAAAAAAAAAAAAAAAAAAAAAAAAAAAAAAAAAAAAAAAAAAAAAAAAAAAAAAAAAAAAAAAAAAAAAAAAAAAAAAAAAAAAAAAAAAAAAAAAAAAAAAAAAAAAAAAAAAAAAAAAAAAAAAAAAAAAAAAAAAAAAAAAAAAAAAAAAAAAAAAAAAAAAAAAAAAAAAAAAAAAAAAAAAAAAAAAAAAAAAAAAAAAAAAAAAAAAAAAAAAAAAAAAAAAAAAAAAAAAAAAAAAAAAAAAAAAAAAAAAAAAAAAAAAAAAAAAAAAAAAAAAAAAAAAAAAAAAAAAAAAAAAAAAAAAAAAAAAAAAAAAAAAAAAAAAAAAAAAAAAAAAAAAAAAAAAAAAAAAAAAAAAAAAAAAAAAAAAAAAAAAAAAAAAAAAAAAAAAAAAAAAAAAAAAAAAAAAAAAAAAAAAAAAAAAAAAAAAAAAAAAAAAAAAAAAAAAAAAAAAAAAAAAAAAAAAAAAAAAAAAAAAAAAAAAAAAAAAAAAAAAAAAAAAAAAAAAAAAAAAAAAAAAAAAAAAAAAAAAAAAAAAAAAAAAAAAAAAAAAAAAAAAAAAAAAAAAAAAAAAAAAAAAAAAAAAAAAAACSYP5rPxSc/eEEJAWNnST+FljA/6npfP0jmA7Xr93E/ZK/fTjxogj+q7wwczJuPP6agVz4k+Zc/c4uCnnT4oD/3RHuoXdWmP3pBOkWwaa0/V806vQNKsj9Bj+GqBR62Pz5WyGuDI7o/Pq685vtKvj9txdadhTrBP/zT3Q4zOMM/tIIXJb4ExT93SbnSS4fGP+EJ5r6xocc/vl2dOws1yD/KLVHFpjPIP8/hwKIhnMc/P7pp2ixsxj8ZSDHUSKDEP/4IkY5zNcI/PMyvKSlUvj/V9UpxQ/62P4Jg8nmp3qw/enUKCEJpkz9uKqBmZGiVv0n44IMuKq+/euOY+yASub+AlBghnqzAvwsWHPj+IsS/DCpd4Mrpxr/9G0/xtgzJv0mHRsXXn8q/oDavm3a+y7+sndCVL4bMvxUWkuNqFs2/MkkX1PyFzb9SLBNRO+PNvxmkLnnXNM6/vi5s7+55zr8dAj/csrHOv+O3JShn286/TezoH/z2zr955AY9DwXPvzDv4QuTBc+/N/TnZ873zr839OdnzvfOvzf052fO986/N/TnZ873zr839OdnzvfOvzf052fO986/N/TnZ873zr839OdnzvfOvzf052fO986/N/TnZ873zr839OdnzvfOvzf052fO986/N/TnZ873zr839OdnzvfOvzf052fO986/N/TnZ873zr839OdnzvfOvzf052fO986/N/TnZ873zr839OdnzvfOvzf052fO986/N/TnZ873zr839OdnzvfOvzf052fO986/N/TnZ873zr839OdnzvfOvzf052fO986/N/TnZ873zr839OdnzvfOvzf052fO986/N/TnZ873zr839OdnzvfOvzf052fO986/N/TnZ873zr839OdnzvfOvzf052fO986/N/TnZ873zr839OdnzvfOvzf052fO986/N/TnZ873zr839OdnzvfOvw==",
          "dtype": "f8"
         },
         "y": {
          "bdata": "AAAAAAAAAAAAAAAAAAAAAAAAAAAAAAAAAAAAAAAAAAAAAAAAAAAAAAAAAAAAAAAAAAAAAAAAAAAAAAAAAAAAAAAAAAAAAAAAAAAAAAAAAAAAAAAAAAAAAAAAAAAAAAAAAAAAAAAAAAAAAAAAAAAAAAAAAAAAAAAAAAAAAAAAAAAAAAAAAAAAAAAAAAAAAAAAAAAAAAAAAAAAAAAAAAAAAAAAAAAAAAAAAAAAAAAAAAAAAAAAAAAAAAAAAAAAAAAAAAAAAAAAAAAAAAAAAAAAAAAAAAAAAAAAAAAAAAAAAAAAAAAAAAAAAAAAAAAAAAAAAAAAAAAAAAAAAAAAAAAAAAAAAAAAAAAAAAAAAAAAAAAAAAAAAAAAAAAAAAAAAAAAAAAAAAAAAAAAAAAAAAAAAAAAAAAAAAAAAAAAAAAAAAAAAAAAAAAAAAAAAAAAAAAAAAAAAAAAAAAAAAAAAAAAAAAAAAAAAAAAAAAAAAAAAAAAAAAAAAAAAAAAAAAAAAAAAAAAAAAAAAAAAAAAAAAAAAAAAAAAAAAAAAAAAAAAAAAAAAAAAAAAAAAAAAAAAAAAAAAAAAAAAAAAAAAAAAAAAAAAAAAAAAAAAAAAAAAAAAAAAAAAAAAAAAAAAAAAAAAAAAAAAAAAAAAAAAAAAAAAAAAAAAAAAAAAAAAAAAAAAAAAAAAAAAAAAAAAAAAAAAAAAAAAAAAAAAAAAAAAAAAAAAAAAAAAAAAAAAAAAAAAAAAAAAAAAAAAAAAAAAAAAAAAAAAAAAAAAAAAAAAAAAAAAAAAAAAAAAAAAAAAAAAAAAAAAAAAAAAAAAAAAAAAAAAAAAAAAAAAAAAAAAAAAAAAAAAAAAAAAAAAAAAAAAAAAAAAAAAAAAAAAAAAAAAAAAAAAAAAAAAAAAAAAAAAAAAAAAAAAAAAAAAAAAAAAAAAAAAAAAAAAAAAAAAAAAAAAAAAAAAAAAAAAAAAAAAAAAAAAAAAAAAAAAAAAAAAAAAAAAAAAAAAAAAAAAAAAAAAAAAAAAAAAAAAAAAAAAAAAAAAAFhLzXjc/iM/PbgQc5/qRD/mWIHnm0lYP6KrbB3zDWg/qLVS0h6ddT9Hzdq4R/6APwCTAgYbMog/r38fk35QkD+62vs/e26VPyQX8cFX6Js/dOSyh00coj9kG7OkvG6nP5nlWTYMQ64/JdmSYMaDsz/0xlE8Cha5Px8F0kcqBsA/+C2jd7RExD+p6cDQf03JP7OaLRECE88/oC5ViPW70j/0Cnvd+CnWP9Hoq3Zqu9k/T8RuHaVY3T8cfgB1fHTgP9RqEAxbKuI/mjoq3bDC4z9CgeVtiDTlP2BYy6o9eeY/bVgOlC2J5z+588xSo1voP29NV6GG8Og/v9XvSytR6T9lC2CNWIjpP+UdaTdboek/bEVt5iCl6T/84gZIJprpP3am6oBChek/KDT8d4Fp6T8qJFZdPUnpPwzBDNoiJuk/l+mHIcYB6T+iVCwvyt3oP+P3tM8Su+g/tnsaiNaZ6D/Ck9T8D3roP5zP+Zt9W+g/cHyCwQw+6D82oC9n2SHoP7IyTEQsB+g/dwI8Unvu5z93AjxSe+7nP3cCPFJ77uc/dwI8Unvu5z93AjxSe+7nP3cCPFJ77uc/dwI8Unvu5z93AjxSe+7nP3cCPFJ77uc/dwI8Unvu5z93AjxSe+7nP3cCPFJ77uc/dwI8Unvu5z93AjxSe+7nP3cCPFJ77uc/dwI8Unvu5z93AjxSe+7nP3cCPFJ77uc/dwI8Unvu5z93AjxSe+7nP3cCPFJ77uc/dwI8Unvu5z93AjxSe+7nP3cCPFJ77uc/dwI8Unvu5z93AjxSe+7nP3cCPFJ77uc/dwI8Unvu5z93AjxSe+7nP3cCPFJ77uc/dwI8Unvu5z93AjxSe+7nP3cCPFJ77uc/dwI8Unvu5z93AjxSe+7nP3cCPFJ77uc/dwI8Unvu5z93AjxSe+7nP3cCPFJ77uc/dwI8Unvu5z93AjxSe+7nPw==",
          "dtype": "f8"
         },
         "z": {
          "bdata": "AAAAAAAAAAAAAAAAAAAAAAAAAAAAAAAAAAAAAAAAAAAAAAAAAAAAAAAAAAAAAAAAAAAAAAAAAAAAAAAAAAAAAAAAAAAAAAAAAAAAAAAAAAAAAAAAAAAAAAAAAAAAAAAAAAAAAAAAAAAAAAAAAAAAAAAAAAAAAAAAAAAAAAAAAAAAAAAAAAAAAAAAAAAAAAAAAAAAAAAAAAAAAAAAAAAAAAAAAAAAAAAAAAAAAAAAAAAAAAAAAAAAAAAAAAAAAAAAAAAAAAAAAAAAAAAAAAAAAAAAAAAAAAAAAAAAAAAAAAAAAAAAAAAAAAAAAAAAAAAAAAAAAAAAAAAAAAAAAAAAAAAAAAAAAAAAAAAAAAAAAAAAAAAAAAAAAAAAAAAAAAAAAAAAAAAAAAAAAAAAAAAAAAAAAAAAAAAAAAAAAAAAAAAAAAAAAAAAAAAAAAAAAAAAAAAAAAAAAAAAAAAAAAAAAAAAAAAAAAAAAAAAAAAAAAAAAAAAAAAAAAAAAAAAAAAAAAAAAAAAAAAAAAAAAAAAAAAAAAAAAAAAAAAAAAAAAAAAAAAAAAAAAAAAAAAAAAAAAAAAAAAAAAAAAAAAAAAAAAAAAAAAAAAAAAAAAAAAAAAAAAAAAAAAAAAAAAAAAAAAAAAAAAAAAAAAAAAAAAAAAAAAAAAAAAAAAAAAAAAAAAAAAAAAAAAAAAAAAAAAAAAAAAAAAAAAAAAAAAAAAAAAAAAAAAAAAAAAAAAAAAAAAAAAAAAAAAAAAAAAAAAAAAAAAAAAAAAAAAAAAAAAAAAAAAAAAAAAAAAAAAAAAAAAAAAAAAAAAAAAAAAAAAAAAAAAAAAAAAAAAAAAAAAAAAAAAAAAAAAAAAAAAAAAAAAAAAAAAAAAAAAAAAAAAAAAAAAAAAAAAAAAAAAAAAAAAAAAAAAAAAAAAAAAAAAAAAAAAAAAAAAAAAAAAAAAAAAAAAAAAAAAAAAAAAAAAAAAAAAAAAAAAAAAAAAAAAAAAAAAAAAAAAAAAAAAAAAAAAAAAAAAAAAAAAAAAAAAAAAAAAAAADFqwumCpjS/lk+i7om8Vr++Dh/llgxuv9wdwE143IG/A2wVeC5wkr+AKkYYmMSfvxWf00ePM6i/moLI5aoxsb+sxo/tY063v+35OqY/f76/HEij1plhw7+cSOlx6APIvz1VSn3qFs2/MN7iOqRB0b+wWlWs5xTUv5K31B+78da/yxivX9q82b84bsR6y1Pcv02tNoiukt6/zsl5AtIq4L8VgQOB+sTgvyQUmJgdF+G/aZxwJfgh4b+BYlHkX+fgv0igj+iCa+C/EPvwvXVp379uLta/ppfdv3y2b6L3d9u/kAdniI4r2b9NDQpFAt7Wv3aFlTWWsNS/pUUDq5i50r8IdYiYQQLRv3WKmC6tEM+//lD48i6RzL8SR+hvqn3KvwNeralSy8i/PkglSl5rx7/Bkz3mwU/Gvwwpde9basW/6QFTX4GvxL8MEdDJbBbEv6zz9wTymsO/q2d2gM09w79eu1UX2v7Cv8aXuL8R3cK/Jhb+L6/Xwr+Rop12Mu7Cv6kDgm3lH8O/3EuDlt5rw7/cS4OW3mvDv9xLg5bea8O/3EuDlt5rw7/cS4OW3mvDv9xLg5bea8O/3EuDlt5rw7/cS4OW3mvDv9xLg5bea8O/3EuDlt5rw7/cS4OW3mvDv9xLg5bea8O/3EuDlt5rw7/cS4OW3mvDv9xLg5bea8O/3EuDlt5rw7/cS4OW3mvDv9xLg5bea8O/3EuDlt5rw7/cS4OW3mvDv9xLg5bea8O/3EuDlt5rw7/cS4OW3mvDv9xLg5bea8O/3EuDlt5rw7/cS4OW3mvDv9xLg5bea8O/3EuDlt5rw7/cS4OW3mvDv9xLg5bea8O/3EuDlt5rw7/cS4OW3mvDv9xLg5bea8O/3EuDlt5rw7/cS4OW3mvDv9xLg5bea8O/3EuDlt5rw7/cS4OW3mvDv9xLg5bea8O/3EuDlt5rw7/cS4OW3mvDvw==",
          "dtype": "f8"
         }
        },
        {
         "hovertemplate": "Start<br>X: 0<br>Y: 0<br>Z: 0",
         "marker": {
          "color": "green",
          "size": 8
         },
         "mode": "markers",
         "name": "Start",
         "type": "scatter3d",
         "x": [
          0
         ],
         "y": [
          0
         ],
         "z": [
          0
         ]
        },
        {
         "hovertemplate": "End<br>X: %{x:.3f} m<br>Y: %{y:.3f} m<br>Z: %{z:.3f} m",
         "marker": {
          "color": "red",
          "size": 8
         },
         "mode": "markers",
         "name": "End",
         "type": "scatter3d",
         "x": [
          -0.24193744729555686
         ],
         "y": [
          0.7478615385189887
         ],
         "z": [
          -0.151729415409675
         ]
        }
       ],
       "layout": {
        "margin": {
         "b": 0,
         "l": 0,
         "r": 0,
         "t": 30
        },
        "scene": {
         "aspectmode": "data",
         "xaxis": {
          "title": {
           "text": "X [m]"
          }
         },
         "yaxis": {
          "title": {
           "text": "Y [m]"
          }
         },
         "zaxis": {
          "title": {
           "text": "Z [m]"
          }
         }
        },
        "template": {
         "data": {
          "bar": [
           {
            "error_x": {
             "color": "#2a3f5f"
            },
            "error_y": {
             "color": "#2a3f5f"
            },
            "marker": {
             "line": {
              "color": "#E5ECF6",
              "width": 0.5
             },
             "pattern": {
              "fillmode": "overlay",
              "size": 10,
              "solidity": 0.2
             }
            },
            "type": "bar"
           }
          ],
          "barpolar": [
           {
            "marker": {
             "line": {
              "color": "#E5ECF6",
              "width": 0.5
             },
             "pattern": {
              "fillmode": "overlay",
              "size": 10,
              "solidity": 0.2
             }
            },
            "type": "barpolar"
           }
          ],
          "carpet": [
           {
            "aaxis": {
             "endlinecolor": "#2a3f5f",
             "gridcolor": "white",
             "linecolor": "white",
             "minorgridcolor": "white",
             "startlinecolor": "#2a3f5f"
            },
            "baxis": {
             "endlinecolor": "#2a3f5f",
             "gridcolor": "white",
             "linecolor": "white",
             "minorgridcolor": "white",
             "startlinecolor": "#2a3f5f"
            },
            "type": "carpet"
           }
          ],
          "choropleth": [
           {
            "colorbar": {
             "outlinewidth": 0,
             "ticks": ""
            },
            "type": "choropleth"
           }
          ],
          "contour": [
           {
            "colorbar": {
             "outlinewidth": 0,
             "ticks": ""
            },
            "colorscale": [
             [
              0,
              "#0d0887"
             ],
             [
              0.1111111111111111,
              "#46039f"
             ],
             [
              0.2222222222222222,
              "#7201a8"
             ],
             [
              0.3333333333333333,
              "#9c179e"
             ],
             [
              0.4444444444444444,
              "#bd3786"
             ],
             [
              0.5555555555555556,
              "#d8576b"
             ],
             [
              0.6666666666666666,
              "#ed7953"
             ],
             [
              0.7777777777777778,
              "#fb9f3a"
             ],
             [
              0.8888888888888888,
              "#fdca26"
             ],
             [
              1,
              "#f0f921"
             ]
            ],
            "type": "contour"
           }
          ],
          "contourcarpet": [
           {
            "colorbar": {
             "outlinewidth": 0,
             "ticks": ""
            },
            "type": "contourcarpet"
           }
          ],
          "heatmap": [
           {
            "colorbar": {
             "outlinewidth": 0,
             "ticks": ""
            },
            "colorscale": [
             [
              0,
              "#0d0887"
             ],
             [
              0.1111111111111111,
              "#46039f"
             ],
             [
              0.2222222222222222,
              "#7201a8"
             ],
             [
              0.3333333333333333,
              "#9c179e"
             ],
             [
              0.4444444444444444,
              "#bd3786"
             ],
             [
              0.5555555555555556,
              "#d8576b"
             ],
             [
              0.6666666666666666,
              "#ed7953"
             ],
             [
              0.7777777777777778,
              "#fb9f3a"
             ],
             [
              0.8888888888888888,
              "#fdca26"
             ],
             [
              1,
              "#f0f921"
             ]
            ],
            "type": "heatmap"
           }
          ],
          "histogram": [
           {
            "marker": {
             "pattern": {
              "fillmode": "overlay",
              "size": 10,
              "solidity": 0.2
             }
            },
            "type": "histogram"
           }
          ],
          "histogram2d": [
           {
            "colorbar": {
             "outlinewidth": 0,
             "ticks": ""
            },
            "colorscale": [
             [
              0,
              "#0d0887"
             ],
             [
              0.1111111111111111,
              "#46039f"
             ],
             [
              0.2222222222222222,
              "#7201a8"
             ],
             [
              0.3333333333333333,
              "#9c179e"
             ],
             [
              0.4444444444444444,
              "#bd3786"
             ],
             [
              0.5555555555555556,
              "#d8576b"
             ],
             [
              0.6666666666666666,
              "#ed7953"
             ],
             [
              0.7777777777777778,
              "#fb9f3a"
             ],
             [
              0.8888888888888888,
              "#fdca26"
             ],
             [
              1,
              "#f0f921"
             ]
            ],
            "type": "histogram2d"
           }
          ],
          "histogram2dcontour": [
           {
            "colorbar": {
             "outlinewidth": 0,
             "ticks": ""
            },
            "colorscale": [
             [
              0,
              "#0d0887"
             ],
             [
              0.1111111111111111,
              "#46039f"
             ],
             [
              0.2222222222222222,
              "#7201a8"
             ],
             [
              0.3333333333333333,
              "#9c179e"
             ],
             [
              0.4444444444444444,
              "#bd3786"
             ],
             [
              0.5555555555555556,
              "#d8576b"
             ],
             [
              0.6666666666666666,
              "#ed7953"
             ],
             [
              0.7777777777777778,
              "#fb9f3a"
             ],
             [
              0.8888888888888888,
              "#fdca26"
             ],
             [
              1,
              "#f0f921"
             ]
            ],
            "type": "histogram2dcontour"
           }
          ],
          "mesh3d": [
           {
            "colorbar": {
             "outlinewidth": 0,
             "ticks": ""
            },
            "type": "mesh3d"
           }
          ],
          "parcoords": [
           {
            "line": {
             "colorbar": {
              "outlinewidth": 0,
              "ticks": ""
             }
            },
            "type": "parcoords"
           }
          ],
          "pie": [
           {
            "automargin": true,
            "type": "pie"
           }
          ],
          "scatter": [
           {
            "fillpattern": {
             "fillmode": "overlay",
             "size": 10,
             "solidity": 0.2
            },
            "type": "scatter"
           }
          ],
          "scatter3d": [
           {
            "line": {
             "colorbar": {
              "outlinewidth": 0,
              "ticks": ""
             }
            },
            "marker": {
             "colorbar": {
              "outlinewidth": 0,
              "ticks": ""
             }
            },
            "type": "scatter3d"
           }
          ],
          "scattercarpet": [
           {
            "marker": {
             "colorbar": {
              "outlinewidth": 0,
              "ticks": ""
             }
            },
            "type": "scattercarpet"
           }
          ],
          "scattergeo": [
           {
            "marker": {
             "colorbar": {
              "outlinewidth": 0,
              "ticks": ""
             }
            },
            "type": "scattergeo"
           }
          ],
          "scattergl": [
           {
            "marker": {
             "colorbar": {
              "outlinewidth": 0,
              "ticks": ""
             }
            },
            "type": "scattergl"
           }
          ],
          "scattermap": [
           {
            "marker": {
             "colorbar": {
              "outlinewidth": 0,
              "ticks": ""
             }
            },
            "type": "scattermap"
           }
          ],
          "scattermapbox": [
           {
            "marker": {
             "colorbar": {
              "outlinewidth": 0,
              "ticks": ""
             }
            },
            "type": "scattermapbox"
           }
          ],
          "scatterpolar": [
           {
            "marker": {
             "colorbar": {
              "outlinewidth": 0,
              "ticks": ""
             }
            },
            "type": "scatterpolar"
           }
          ],
          "scatterpolargl": [
           {
            "marker": {
             "colorbar": {
              "outlinewidth": 0,
              "ticks": ""
             }
            },
            "type": "scatterpolargl"
           }
          ],
          "scatterternary": [
           {
            "marker": {
             "colorbar": {
              "outlinewidth": 0,
              "ticks": ""
             }
            },
            "type": "scatterternary"
           }
          ],
          "surface": [
           {
            "colorbar": {
             "outlinewidth": 0,
             "ticks": ""
            },
            "colorscale": [
             [
              0,
              "#0d0887"
             ],
             [
              0.1111111111111111,
              "#46039f"
             ],
             [
              0.2222222222222222,
              "#7201a8"
             ],
             [
              0.3333333333333333,
              "#9c179e"
             ],
             [
              0.4444444444444444,
              "#bd3786"
             ],
             [
              0.5555555555555556,
              "#d8576b"
             ],
             [
              0.6666666666666666,
              "#ed7953"
             ],
             [
              0.7777777777777778,
              "#fb9f3a"
             ],
             [
              0.8888888888888888,
              "#fdca26"
             ],
             [
              1,
              "#f0f921"
             ]
            ],
            "type": "surface"
           }
          ],
          "table": [
           {
            "cells": {
             "fill": {
              "color": "#EBF0F8"
             },
             "line": {
              "color": "white"
             }
            },
            "header": {
             "fill": {
              "color": "#C8D4E3"
             },
             "line": {
              "color": "white"
             }
            },
            "type": "table"
           }
          ]
         },
         "layout": {
          "annotationdefaults": {
           "arrowcolor": "#2a3f5f",
           "arrowhead": 0,
           "arrowwidth": 1
          },
          "autotypenumbers": "strict",
          "coloraxis": {
           "colorbar": {
            "outlinewidth": 0,
            "ticks": ""
           }
          },
          "colorscale": {
           "diverging": [
            [
             0,
             "#8e0152"
            ],
            [
             0.1,
             "#c51b7d"
            ],
            [
             0.2,
             "#de77ae"
            ],
            [
             0.3,
             "#f1b6da"
            ],
            [
             0.4,
             "#fde0ef"
            ],
            [
             0.5,
             "#f7f7f7"
            ],
            [
             0.6,
             "#e6f5d0"
            ],
            [
             0.7,
             "#b8e186"
            ],
            [
             0.8,
             "#7fbc41"
            ],
            [
             0.9,
             "#4d9221"
            ],
            [
             1,
             "#276419"
            ]
           ],
           "sequential": [
            [
             0,
             "#0d0887"
            ],
            [
             0.1111111111111111,
             "#46039f"
            ],
            [
             0.2222222222222222,
             "#7201a8"
            ],
            [
             0.3333333333333333,
             "#9c179e"
            ],
            [
             0.4444444444444444,
             "#bd3786"
            ],
            [
             0.5555555555555556,
             "#d8576b"
            ],
            [
             0.6666666666666666,
             "#ed7953"
            ],
            [
             0.7777777777777778,
             "#fb9f3a"
            ],
            [
             0.8888888888888888,
             "#fdca26"
            ],
            [
             1,
             "#f0f921"
            ]
           ],
           "sequentialminus": [
            [
             0,
             "#0d0887"
            ],
            [
             0.1111111111111111,
             "#46039f"
            ],
            [
             0.2222222222222222,
             "#7201a8"
            ],
            [
             0.3333333333333333,
             "#9c179e"
            ],
            [
             0.4444444444444444,
             "#bd3786"
            ],
            [
             0.5555555555555556,
             "#d8576b"
            ],
            [
             0.6666666666666666,
             "#ed7953"
            ],
            [
             0.7777777777777778,
             "#fb9f3a"
            ],
            [
             0.8888888888888888,
             "#fdca26"
            ],
            [
             1,
             "#f0f921"
            ]
           ]
          },
          "colorway": [
           "#636efa",
           "#EF553B",
           "#00cc96",
           "#ab63fa",
           "#FFA15A",
           "#19d3f3",
           "#FF6692",
           "#B6E880",
           "#FF97FF",
           "#FECB52"
          ],
          "font": {
           "color": "#2a3f5f"
          },
          "geo": {
           "bgcolor": "white",
           "lakecolor": "white",
           "landcolor": "#E5ECF6",
           "showlakes": true,
           "showland": true,
           "subunitcolor": "white"
          },
          "hoverlabel": {
           "align": "left"
          },
          "hovermode": "closest",
          "mapbox": {
           "style": "light"
          },
          "paper_bgcolor": "white",
          "plot_bgcolor": "#E5ECF6",
          "polar": {
           "angularaxis": {
            "gridcolor": "white",
            "linecolor": "white",
            "ticks": ""
           },
           "bgcolor": "#E5ECF6",
           "radialaxis": {
            "gridcolor": "white",
            "linecolor": "white",
            "ticks": ""
           }
          },
          "scene": {
           "xaxis": {
            "backgroundcolor": "#E5ECF6",
            "gridcolor": "white",
            "gridwidth": 2,
            "linecolor": "white",
            "showbackground": true,
            "ticks": "",
            "zerolinecolor": "white"
           },
           "yaxis": {
            "backgroundcolor": "#E5ECF6",
            "gridcolor": "white",
            "gridwidth": 2,
            "linecolor": "white",
            "showbackground": true,
            "ticks": "",
            "zerolinecolor": "white"
           },
           "zaxis": {
            "backgroundcolor": "#E5ECF6",
            "gridcolor": "white",
            "gridwidth": 2,
            "linecolor": "white",
            "showbackground": true,
            "ticks": "",
            "zerolinecolor": "white"
           }
          },
          "shapedefaults": {
           "line": {
            "color": "#2a3f5f"
           }
          },
          "ternary": {
           "aaxis": {
            "gridcolor": "white",
            "linecolor": "white",
            "ticks": ""
           },
           "baxis": {
            "gridcolor": "white",
            "linecolor": "white",
            "ticks": ""
           },
           "bgcolor": "#E5ECF6",
           "caxis": {
            "gridcolor": "white",
            "linecolor": "white",
            "ticks": ""
           }
          },
          "title": {
           "x": 0.05
          },
          "xaxis": {
           "automargin": true,
           "gridcolor": "white",
           "linecolor": "white",
           "ticks": "",
           "title": {
            "standoff": 15
           },
           "zerolinecolor": "white",
           "zerolinewidth": 2
          },
          "yaxis": {
           "automargin": true,
           "gridcolor": "white",
           "linecolor": "white",
           "ticks": "",
           "title": {
            "standoff": 15
           },
           "zerolinecolor": "white",
           "zerolinewidth": 2
          }
         }
        },
        "title": {
         "text": "Trajectory with Deadband Rest-Clamp & |a| in Hover"
        }
       }
      }
     },
     "metadata": {},
     "output_type": "display_data"
    }
   ],
   "source": [
    "import pandas as pd\n",
    "import numpy as np\n",
    "import plotly.graph_objects as go\n",
    "from scipy.spatial.transform import Rotation as R\n",
    "\n",
    "# ————— Extract raw accel and angles —————\n",
    "acc = df[['AccX', 'AccY', 'AccZ']].values\n",
    "rpy = df[['AngX', 'AngY', 'AngZ']].values\n",
    "\n",
    "# ————— Build orientation objects —————\n",
    "rot = R.from_euler('xyz', rpy, degrees=True)\n",
    "\n",
    "# ————— Per-sample gravity removal & world-frame accel —————\n",
    "g_world = np.array([0, 0, 9.81])\n",
    "n = len(acc)\n",
    "acc_world = np.zeros((n, 3))\n",
    "\n",
    "for i in range(n):\n",
    "    g_body_i     = rot[i].inv().apply(g_world)\n",
    "    a_dyn_body   = acc[i] - g_body_i\n",
    "    acc_world[i] = rot[i].apply(a_dyn_body)\n",
    "\n",
    "# ————— Remove mean residual to zero net accel —————\n",
    "residual_mean = np.mean(acc_world, axis=0)\n",
    "acc_world -= residual_mean\n",
    "\n",
    "# ————— Compute acceleration magnitude —————\n",
    "a_mag = np.linalg.norm(acc_world, axis=1)\n",
    "\n",
    "# ————— Manual trapezoidal integration at 100 Hz with deadband —————\n",
    "dt = 1.0 / 100.0  # 0.01 seconds\n",
    "vel = np.zeros_like(acc_world)\n",
    "pos = np.zeros_like(acc_world)\n",
    "\n",
    "deadband = 9  # m/s²\n",
    "\n",
    "for i in range(1, n):\n",
    "    # integrate normally\n",
    "    vel[i] = vel[i-1] + 0.5 * (acc_world[i] + acc_world[i-1]) * dt\n",
    "    pos[i] = pos[i-1] + 0.5 * (vel[i] + vel[i-1]) * dt\n",
    "\n",
    "    # if within deadband, force at-rest\n",
    "    if a_mag[i] < deadband:\n",
    "        vel[i] = 0\n",
    "        pos[i] = pos[i-1]\n",
    "\n",
    "# ————— Plot trajectory with |a| in hover —————\n",
    "fig = go.Figure([\n",
    "    go.Scatter3d(\n",
    "        x=pos[:, 0], y=pos[:, 1], z=pos[:, 2],\n",
    "        mode='lines',\n",
    "        line=dict(color='blue', width=4),\n",
    "        name='Trajectory',\n",
    "        customdata=a_mag[:, None],\n",
    "        hovertemplate=(\n",
    "            'X: %{x:.3f} m<br>'\n",
    "            'Y: %{y:.3f} m<br>'\n",
    "            'Z: %{z:.3f} m<br>'\n",
    "            '|a|: %{customdata[0]:.3f} m/s²'\n",
    "        )\n",
    "    ),\n",
    "    go.Scatter3d(\n",
    "        x=[0], y=[0], z=[0],\n",
    "        mode='markers',\n",
    "        marker=dict(color='green', size=8),\n",
    "        name='Start',\n",
    "        hovertemplate='Start<br>X: 0<br>Y: 0<br>Z: 0'\n",
    "    ),\n",
    "    go.Scatter3d(\n",
    "        x=[pos[-1, 0]], y=[pos[-1, 1]], z=[pos[-1, 2]],\n",
    "        mode='markers',\n",
    "        marker=dict(color='red', size=8),\n",
    "        name='End',\n",
    "        hovertemplate=(\n",
    "            'End<br>'\n",
    "            'X: %{x:.3f} m<br>'\n",
    "            'Y: %{y:.3f} m<br>'\n",
    "            'Z: %{z:.3f} m'\n",
    "        )\n",
    "    )\n",
    "])\n",
    "fig.update_layout(\n",
    "    scene=dict(\n",
    "        xaxis_title='X [m]',\n",
    "        yaxis_title='Y [m]',\n",
    "        zaxis_title='Z [m]',\n",
    "        aspectmode='data'\n",
    "    ),\n",
    "    title='Trajectory with Deadband Rest-Clamp & |a| in Hover',\n",
    "    margin=dict(l=0, r=0, b=0, t=30)\n",
    ")\n",
    "fig.show()\n"
   ]
  },
  {
   "cell_type": "code",
   "execution_count": 53,
   "id": "8337c137",
   "metadata": {},
   "outputs": [],
   "source": [
    "import pandas as pd\n",
    "import numpy as np\n",
    "import plotly.graph_objects as go\n",
    "from scipy.spatial.transform import Rotation as R\n",
    "\n",
    "def compute_trajectory(df, deadband=0.1, sample_rate=100):\n",
    "    \"\"\"\n",
    "    Computes world-frame trajectory, velocity, and acceleration magnitude \n",
    "    from raw IMU DataFrame.\n",
    "    \n",
    "    Parameters:\n",
    "    - df: DataFrame with columns ['AccX','AccY','AccZ','AngX','AngY','AngZ']\n",
    "    - deadband: threshold for |a| below which the device is considered at rest\n",
    "    - sample_rate: sampling frequency in Hz\n",
    "    \n",
    "    Returns:\n",
    "    - pos: (N,3) array of positions [m]\n",
    "    - vel: (N,3) array of velocities [m/s]\n",
    "    - a_mag: (N,) array of acceleration magnitudes [m/s²]\n",
    "    \"\"\"\n",
    "    # Extract raw accel and angles\n",
    "    acc = df[['AccX', 'AccY', 'AccZ']].values\n",
    "    rpy = df[['AngX', 'AngY', 'AngZ']].values\n",
    "    n = len(acc)\n",
    "    \n",
    "    # Build orientation objects\n",
    "    rot = R.from_euler('xyz', rpy, degrees=True)\n",
    "    \n",
    "    # Per-sample gravity removal & world-frame accel\n",
    "    g_world = np.array([0, 0, 9.81])\n",
    "    acc_world = np.zeros((n, 3))\n",
    "    for i in range(n):\n",
    "        g_body_i     = rot[i].inv().apply(g_world)\n",
    "        a_dyn_body   = acc[i] - g_body_i\n",
    "        acc_world[i] = rot[i].apply(a_dyn_body)\n",
    "    \n",
    "    # Remove mean residual to zero net accel\n",
    "    residual_mean = np.mean(acc_world, axis=0)\n",
    "    acc_world -= residual_mean\n",
    "    \n",
    "    # Compute acceleration magnitude\n",
    "    a_mag = np.linalg.norm(acc_world, axis=1)\n",
    "    \n",
    "    # Manual trapezoidal integration with deadband\n",
    "    dt = 1.0 / sample_rate\n",
    "    vel = np.zeros_like(acc_world)\n",
    "    pos = np.zeros_like(acc_world)\n",
    "    \n",
    "    for i in range(1, n):\n",
    "        # Integrate\n",
    "        vel[i] = vel[i-1] + 0.5 * (acc_world[i] + acc_world[i-1]) * dt\n",
    "        pos[i] = pos[i-1] + 0.5 * (vel[i] + vel[i-1]) * dt\n",
    "        \n",
    "        # Deadband rest clamp\n",
    "        if a_mag[i] < deadband:\n",
    "            vel[i] = 0\n",
    "            pos[i] = pos[i-1]\n",
    "    \n",
    "    return pos, vel, a_mag\n",
    "\n",
    "def plot_trajectory(pos, a_mag, title='Trajectory with Deadband & |a| in Hover'):\n",
    "    \"\"\"\n",
    "    Plots a 3D trajectory with acceleration magnitude in hover info.\n",
    "    \n",
    "    Parameters:\n",
    "    - pos: (N,3) array of positions [m]\n",
    "    - a_mag: (N,) array of acceleration magnitudes [m/s²]\n",
    "    - title: Figure title string\n",
    "    \"\"\"\n",
    "    fig = go.Figure([\n",
    "        go.Scatter3d(\n",
    "            x=pos[:,0], y=pos[:,1], z=pos[:,2],\n",
    "            mode='lines+markers',\n",
    "            line=dict(color='blue', width=2),\n",
    "            marker=dict(color='blue', size=2),\n",
    "            name='Trajectory',\n",
    "            customdata=a_mag[:, None],\n",
    "            hovertemplate=(\n",
    "                'X: %{x:.3f} m<br>'\n",
    "                'Y: %{y:.3f} m<br>'\n",
    "                'Z: %{z:.3f} m<br>'\n",
    "                '|a|: %{customdata[0]:.3f} m/s²'\n",
    "            )\n",
    "        ),\n",
    "        go.Scatter3d(\n",
    "            x=[0], y=[0], z=[0],\n",
    "            mode='markers',\n",
    "            marker=dict(color='green', size=8),\n",
    "            name='Start',\n",
    "            hovertemplate='Start<br>X: 0<br>Y: 0<br>Z: 0'\n",
    "        ),\n",
    "        go.Scatter3d(\n",
    "            x=[pos[-1,0]], y=[pos[-1,1]], z=[pos[-1,2]],\n",
    "            mode='markers',\n",
    "            marker=dict(color='red', size=8),\n",
    "            name='End',\n",
    "            hovertemplate=(\n",
    "                'End<br>'\n",
    "                'X: %{x:.3f} m<br>'\n",
    "                'Y: %{y:.3f} m<br>'\n",
    "                'Z: %{z:.3f} m'\n",
    "            )\n",
    "        )\n",
    "    ])\n",
    "    fig.update_layout(\n",
    "        scene=dict(\n",
    "            xaxis_title='X [m]',\n",
    "            yaxis_title='Y [m]',\n",
    "            zaxis_title='Z [m]',\n",
    "            aspectmode='data'\n",
    "        ),\n",
    "        title=title,\n",
    "        margin=dict(l=0, r=0, b=0, t=30)\n",
    "    )\n",
    "    fig.show()\n",
    "\n",
    "# Example usage:\n",
    "# df = pd.read_csv('your_data.csv')\n",
    "# pos, vel, a_mag = compute_trajectory(df, deadband=0.1, sample_rate=100)\n",
    "# plot_trajectory(pos, a_mag)\n"
   ]
  },
  {
   "cell_type": "code",
   "execution_count": 57,
   "id": "00cf4bc6",
   "metadata": {},
   "outputs": [
    {
     "data": {
      "application/vnd.plotly.v1+json": {
       "config": {
        "plotlyServerURL": "https://plot.ly"
       },
       "data": [
        {
         "customdata": {
          "bdata": "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",
          "dtype": "f8",
          "shape": "188, 1"
         },
         "hovertemplate": "X: %{x:.3f} m<br>Y: %{y:.3f} m<br>Z: %{z:.3f} m<br>|a|: %{customdata[0]:.3f} m/s²",
         "line": {
          "color": "blue",
          "width": 2
         },
         "marker": {
          "color": "blue",
          "size": 2
         },
         "mode": "lines+markers",
         "name": "Trajectory",
         "type": "scatter3d",
         "x": {
          "bdata": "AAAAAAAAAAAAAAAAAAAAAAAAAAAAAAAAAAAAAAAAAAAAAAAAAAAAAAAAAAAAAAAAAAAAAAAAAAAAAAAAAAAAAAAAAAAAAAAAAAAAAAAAAAAAAAAAAAAAAAAAAAAAAAAAAAAAAAAAAAAAAAAAAAAAAAAAAAAAAAAAAAAAAAAAAAAAAAAAAAAAAAAAAAAAAAAAAAAAAAAAAAAAAAAAAAAAAAAAAAAAAAAAAAAAAAAAAAAAAAAAAAAAAAAAAAAAAAAAAAAAAAAAAAAAAAAAAAAAAAAAAAAAAAAAAAAAAAAAAAAAAAAAAAAAAAAAAAAAAAAAAAAAAAAAAAAAAAAAAAAAAAAAAAAAAAAAAAAAAAAAAAAAAAAAAAAAAAAAAAAAAAAAAAAAAAAAAAAAAAAAAAAAAAAAAAAAAAAAAAAAAAAAAAAAAAAAAAAAAAAAAAAAAAAAAAAAAAAAAAAAAAAAAAAAAAAAAAAAAAAAAAAAAAAAAAAAAAAAAAAAAAAAAAAAAAAAAAAAAAAAAAAAAAAAAAAAAAAAAAAAAAAAAAAAAAAAAAAAAAAAAAAAAAAAAAAAAAAAAAAAAAAAAAAAAAAAAAAAAAAAAAAAAAAAAAAAAAAAAAAAAAAAAAAAAAAAAAAAAAAAAAAAAAAAAAAAAAAAAAAAAAAAAAAAAAAAAAAAAAAAAAAAAAAAAAAAAAAAAAAAAAAAAAAAAAAAAAAAAAAAAAAAAAAAAAAAAAAAAAAAAAAAAAAAAAAAAAAAAAAAAAAAAAAAAAAAAAAAAAAAAAAAAAAAAAAAAAAAAAAAAAAAAAAAAAAAAAAAAAAAAAAAAAAAAAAAAAAAAAAAAAAAAAAAAAAAAAAAAAAAAAAAAAAAAAAAAAAAAAAAAAAAAAAAAAAAAAAAAAAAAAAAAAAAAAAAAAAAAAAAAAAAAAAAAAAAAAAAAAAAAAAAAAAAAAAAAAAAAAAAAAAAAAAAAAAAAAAAAAAAAAAAAAAAAAAAAAAAAAAAAAAAAAAAAAAAAAAAAAAAAAAAAAAAAAAAAAAAAAAAAAAAACSYP5rPxSc/eEEJAWNnST+FljA/6npfP0jmA7Xr93E/ZK/fTjxogj+q7wwczJuPP6agVz4k+Zc/c4uCnnT4oD/3RHuoXdWmP3pBOkWwaa0/V806vQNKsj9Bj+GqBR62Pz5WyGuDI7o/Pq685vtKvj9txdadhTrBP/zT3Q4zOMM/tIIXJb4ExT93SbnSS4fGP+EJ5r6xocc/vl2dOws1yD/KLVHFpjPIP8/hwKIhnMc/P7pp2ixsxj8ZSDHUSKDEP/4IkY5zNcI/PMyvKSlUvj/V9UpxQ/62P4Jg8nmp3qw/enUKCEJpkz9uKqBmZGiVv0n44IMuKq+/euOY+yASub+AlBghnqzAvwsWHPj+IsS/DCpd4Mrpxr/9G0/xtgzJv0mHRsXXn8q/oDavm3a+y7+sndCVL4bMvxUWkuNqFs2/MkkX1PyFzb9SLBNRO+PNvxmkLnnXNM6/vi5s7+55zr8dAj/csrHOv+O3JShn286/TezoH/z2zr955AY9DwXPvzDv4QuTBc+/N/TnZ873zr839OdnzvfOvzf052fO986/N/TnZ873zr839OdnzvfOvzf052fO986/N/TnZ873zr839OdnzvfOvzf052fO986/N/TnZ873zr839OdnzvfOvzf052fO986/N/TnZ873zr839OdnzvfOvzf052fO986/N/TnZ873zr839OdnzvfOv3H492ykAM+/fJ5R0ekbz798nlHR6RvPv3yeUdHpG8+/fJ5R0ekbz798nlHR6RvPv3yeUdHpG8+/fJ5R0ekbz798nlHR6RvPv3yeUdHpG8+/fJ5R0ekbz798nlHR6RvPv3yeUdHpG8+/fJ5R0ekbz798nlHR6RvPv3yeUdHpG8+/fJ5R0ekbz798nlHR6RvPv3yeUdHpG8+/fJ5R0ekbz798nlHR6RvPv3yeUdHpG8+/fJ5R0ekbz798nlHR6RvPvw==",
          "dtype": "f8"
         },
         "y": {
          "bdata": "AAAAAAAAAAAAAAAAAAAAAAAAAAAAAAAAAAAAAAAAAAAAAAAAAAAAAAAAAAAAAAAAAAAAAAAAAAAAAAAAAAAAAAAAAAAAAAAAAAAAAAAAAAAAAAAAAAAAAAAAAAAAAAAAAAAAAAAAAAAAAAAAAAAAAAAAAAAAAAAAAAAAAAAAAAAAAAAAAAAAAAAAAAAAAAAAAAAAAAAAAAAAAAAAAAAAAAAAAAAAAAAAAAAAAAAAAAAAAAAAAAAAAAAAAAAAAAAAAAAAAAAAAAAAAAAAAAAAAAAAAAAAAAAAAAAAAAAAAAAAAAAAAAAAAAAAAAAAAAAAAAAAAAAAAAAAAAAAAAAAAAAAAAAAAAAAAAAAAAAAAAAAAAAAAAAAAAAAAAAAAAAAAAAAAAAAAAAAAAAAAAAAAAAAAAAAAAAAAAAAAAAAAAAAAAAAAAAAAAAAAAAAAAAAAAAAAAAAAAAAAAAAAAAAAAAAAAAAAAAAAAAAAAAAAAAAAAAAAAAAAAAAAAAAAAAAAAAAAAAAAAAAAAAAAAAAAAAAAAAAAAAAAAAAAAAAAAAAAAAAAAAAAAAAAAAAAAAAAAAAAAAAAAAAAAAAAAAAAAAAAAAAAAAAAAAAAAAAAAAAAAAAAAAAAAAAAAAAAAAAAAAAAAAAAAAAAAAAAAAAAAAAAAAAAAAAAAAAAAAAAAAAAAAAAAAAAAAAAAAAAAAAAAAAAAAAAAAAAAAAAAAAAAAAAAAAAAAAAAAAAAAAAAAAAAAAAAAAAAAAAAAAAAAAAAAAAAAAAAAAAAAAAAAAAAAAAAAAAAAAAAAAAAAAAAAAAAAAAAAAAAAAAAAAAAAAAAAAAAAAAAAAAAAAAAAAAAAAAAAAAAAAAAAAAAAAAAAAAAAAAAAAAAAAAAAAAAAAAAAAAAAAAAAAAAAAAAAAAAAAAAAAAAAAAAAAAAAAAAAAAAAAAAAAAAAAAAAAAAAAAAAAAAAAAAAAAAAAAAAAAAAAAAAAAAAAAAAAAAAAAAAAAAAAAAAAAAAAAAAAAAAAAAAAAAAAAAAAAAAAAAAAAFhLzXjc/iM/PbgQc5/qRD/mWIHnm0lYP6KrbB3zDWg/qLVS0h6ddT9Hzdq4R/6APwCTAgYbMog/r38fk35QkD+62vs/e26VPyQX8cFX6Js/dOSyh00coj9kG7OkvG6nP5nlWTYMQ64/JdmSYMaDsz/0xlE8Cha5Px8F0kcqBsA/+C2jd7RExD+p6cDQf03JP7OaLRECE88/oC5ViPW70j/0Cnvd+CnWP9Hoq3Zqu9k/T8RuHaVY3T8cfgB1fHTgP9RqEAxbKuI/mjoq3bDC4z9CgeVtiDTlP2BYy6o9eeY/bVgOlC2J5z+588xSo1voP29NV6GG8Og/v9XvSytR6T9lC2CNWIjpP+UdaTdboek/bEVt5iCl6T/84gZIJprpP3am6oBChek/KDT8d4Fp6T8qJFZdPUnpPwzBDNoiJuk/l+mHIcYB6T+iVCwvyt3oP+P3tM8Su+g/tnsaiNaZ6D/Ck9T8D3roP5zP+Zt9W+g/cHyCwQw+6D82oC9n2SHoP7IyTEQsB+g/dwI8Unvu5z93AjxSe+7nP3cCPFJ77uc/dwI8Unvu5z93AjxSe+7nP3cCPFJ77uc/dwI8Unvu5z93AjxSe+7nP3cCPFJ77uc/dwI8Unvu5z93AjxSe+7nP3cCPFJ77uc/dwI8Unvu5z93AjxSe+7nP3cCPFJ77uc/dwI8Unvu5z93AjxSe+7nP3CIryCR7uc/yCJMC6Hu5z/IIkwLoe7nP8giTAuh7uc/yCJMC6Hu5z/IIkwLoe7nP8giTAuh7uc/yCJMC6Hu5z/IIkwLoe7nP8giTAuh7uc/yCJMC6Hu5z/IIkwLoe7nP8giTAuh7uc/yCJMC6Hu5z/IIkwLoe7nP8giTAuh7uc/yCJMC6Hu5z/IIkwLoe7nP8giTAuh7uc/yCJMC6Hu5z/IIkwLoe7nP8giTAuh7uc/yCJMC6Hu5z/IIkwLoe7nPw==",
          "dtype": "f8"
         },
         "z": {
          "bdata": "AAAAAAAAAAAAAAAAAAAAAAAAAAAAAAAAAAAAAAAAAAAAAAAAAAAAAAAAAAAAAAAAAAAAAAAAAAAAAAAAAAAAAAAAAAAAAAAAAAAAAAAAAAAAAAAAAAAAAAAAAAAAAAAAAAAAAAAAAAAAAAAAAAAAAAAAAAAAAAAAAAAAAAAAAAAAAAAAAAAAAAAAAAAAAAAAAAAAAAAAAAAAAAAAAAAAAAAAAAAAAAAAAAAAAAAAAAAAAAAAAAAAAAAAAAAAAAAAAAAAAAAAAAAAAAAAAAAAAAAAAAAAAAAAAAAAAAAAAAAAAAAAAAAAAAAAAAAAAAAAAAAAAAAAAAAAAAAAAAAAAAAAAAAAAAAAAAAAAAAAAAAAAAAAAAAAAAAAAAAAAAAAAAAAAAAAAAAAAAAAAAAAAAAAAAAAAAAAAAAAAAAAAAAAAAAAAAAAAAAAAAAAAAAAAAAAAAAAAAAAAAAAAAAAAAAAAAAAAAAAAAAAAAAAAAAAAAAAAAAAAAAAAAAAAAAAAAAAAAAAAAAAAAAAAAAAAAAAAAAAAAAAAAAAAAAAAAAAAAAAAAAAAAAAAAAAAAAAAAAAAAAAAAAAAAAAAAAAAAAAAAAAAAAAAAAAAAAAAAAAAAAAAAAAAAAAAAAAAAAAAAAAAAAAAAAAAAAAAAAAAAAAAAAAAAAAAAAAAAAAAAAAAAAAAAAAAAAAAAAAAAAAAAAAAAAAAAAAAAAAAAAAAAAAAAAAAAAAAAAAAAAAAAAAAAAAAAAAAAAAAAAAAAAAAAAAAAAAAAAAAAAAAAAAAAAAAAAAAAAAAAAAAAAAAAAAAAAAAAAAAAAAAAAAAAAAAAAAAAAAAAAAAAAAAAAAAAAAAAAAAAAAAAAAAAAAAAAAAAAAAAAAAAAAAAAAAAAAAAAAAAAAAAAAAAAAAAAAAAAAAAAAAAAAAAAAAAAAAAAAAAAAAAAAAAAAAAAAAAAAAAAAAAAAAAAAAAAAAAAAAAAAAAAAAAAAAAAAAAAAAAAAAAAAAAAAAAAAAAAAAAAAAAAAAAAAAAAAAAAAAAAAADFqwumCpjS/lk+i7om8Vr++Dh/llgxuv9wdwE143IG/A2wVeC5wkr+AKkYYmMSfvxWf00ePM6i/moLI5aoxsb+sxo/tY063v+35OqY/f76/HEij1plhw7+cSOlx6APIvz1VSn3qFs2/MN7iOqRB0b+wWlWs5xTUv5K31B+78da/yxivX9q82b84bsR6y1Pcv02tNoiukt6/zsl5AtIq4L8VgQOB+sTgvyQUmJgdF+G/aZxwJfgh4b+BYlHkX+fgv0igj+iCa+C/EPvwvXVp379uLta/ppfdv3y2b6L3d9u/kAdniI4r2b9NDQpFAt7Wv3aFlTWWsNS/pUUDq5i50r8IdYiYQQLRv3WKmC6tEM+//lD48i6RzL8SR+hvqn3KvwNeralSy8i/PkglSl5rx7/Bkz3mwU/Gvwwpde9basW/6QFTX4GvxL8MEdDJbBbEv6zz9wTymsO/q2d2gM09w79eu1UX2v7Cv8aXuL8R3cK/Jhb+L6/Xwr+Rop12Mu7Cv6kDgm3lH8O/3EuDlt5rw7/cS4OW3mvDv9xLg5bea8O/3EuDlt5rw7/cS4OW3mvDv9xLg5bea8O/3EuDlt5rw7/cS4OW3mvDv9xLg5bea8O/3EuDlt5rw7/cS4OW3mvDv9xLg5bea8O/3EuDlt5rw7/cS4OW3mvDv9xLg5bea8O/3EuDlt5rw7/cS4OW3mvDvzD+85VAZsO/BDLv0NFUw78EMu/Q0VTDvwQy79DRVMO/BDLv0NFUw78EMu/Q0VTDvwQy79DRVMO/BDLv0NFUw78EMu/Q0VTDvwQy79DRVMO/BDLv0NFUw78EMu/Q0VTDvwQy79DRVMO/BDLv0NFUw78EMu/Q0VTDvwQy79DRVMO/BDLv0NFUw78EMu/Q0VTDvwQy79DRVMO/BDLv0NFUw78EMu/Q0VTDvwQy79DRVMO/BDLv0NFUw78EMu/Q0VTDvw==",
          "dtype": "f8"
         }
        },
        {
         "hovertemplate": "Start<br>X: 0<br>Y: 0<br>Z: 0",
         "marker": {
          "color": "green",
          "size": 8
         },
         "mode": "markers",
         "name": "Start",
         "type": "scatter3d",
         "x": [
          0
         ],
         "y": [
          0
         ],
         "z": [
          0
         ]
        },
        {
         "hovertemplate": "End<br>X: %{x:.3f} m<br>Y: %{y:.3f} m<br>Z: %{z:.3f} m",
         "marker": {
          "color": "red",
          "size": 8
         },
         "mode": "markers",
         "name": "End",
         "type": "scatter3d",
         "x": [
          -0.24303934784551362
         ],
         "y": [
          0.7478795262005287
         ],
         "z": [
          -0.15102598859665772
         ]
        }
       ],
       "layout": {
        "margin": {
         "b": 0,
         "l": 0,
         "r": 0,
         "t": 30
        },
        "scene": {
         "aspectmode": "data",
         "xaxis": {
          "title": {
           "text": "X [m]"
          }
         },
         "yaxis": {
          "title": {
           "text": "Y [m]"
          }
         },
         "zaxis": {
          "title": {
           "text": "Z [m]"
          }
         }
        },
        "template": {
         "data": {
          "bar": [
           {
            "error_x": {
             "color": "#2a3f5f"
            },
            "error_y": {
             "color": "#2a3f5f"
            },
            "marker": {
             "line": {
              "color": "#E5ECF6",
              "width": 0.5
             },
             "pattern": {
              "fillmode": "overlay",
              "size": 10,
              "solidity": 0.2
             }
            },
            "type": "bar"
           }
          ],
          "barpolar": [
           {
            "marker": {
             "line": {
              "color": "#E5ECF6",
              "width": 0.5
             },
             "pattern": {
              "fillmode": "overlay",
              "size": 10,
              "solidity": 0.2
             }
            },
            "type": "barpolar"
           }
          ],
          "carpet": [
           {
            "aaxis": {
             "endlinecolor": "#2a3f5f",
             "gridcolor": "white",
             "linecolor": "white",
             "minorgridcolor": "white",
             "startlinecolor": "#2a3f5f"
            },
            "baxis": {
             "endlinecolor": "#2a3f5f",
             "gridcolor": "white",
             "linecolor": "white",
             "minorgridcolor": "white",
             "startlinecolor": "#2a3f5f"
            },
            "type": "carpet"
           }
          ],
          "choropleth": [
           {
            "colorbar": {
             "outlinewidth": 0,
             "ticks": ""
            },
            "type": "choropleth"
           }
          ],
          "contour": [
           {
            "colorbar": {
             "outlinewidth": 0,
             "ticks": ""
            },
            "colorscale": [
             [
              0,
              "#0d0887"
             ],
             [
              0.1111111111111111,
              "#46039f"
             ],
             [
              0.2222222222222222,
              "#7201a8"
             ],
             [
              0.3333333333333333,
              "#9c179e"
             ],
             [
              0.4444444444444444,
              "#bd3786"
             ],
             [
              0.5555555555555556,
              "#d8576b"
             ],
             [
              0.6666666666666666,
              "#ed7953"
             ],
             [
              0.7777777777777778,
              "#fb9f3a"
             ],
             [
              0.8888888888888888,
              "#fdca26"
             ],
             [
              1,
              "#f0f921"
             ]
            ],
            "type": "contour"
           }
          ],
          "contourcarpet": [
           {
            "colorbar": {
             "outlinewidth": 0,
             "ticks": ""
            },
            "type": "contourcarpet"
           }
          ],
          "heatmap": [
           {
            "colorbar": {
             "outlinewidth": 0,
             "ticks": ""
            },
            "colorscale": [
             [
              0,
              "#0d0887"
             ],
             [
              0.1111111111111111,
              "#46039f"
             ],
             [
              0.2222222222222222,
              "#7201a8"
             ],
             [
              0.3333333333333333,
              "#9c179e"
             ],
             [
              0.4444444444444444,
              "#bd3786"
             ],
             [
              0.5555555555555556,
              "#d8576b"
             ],
             [
              0.6666666666666666,
              "#ed7953"
             ],
             [
              0.7777777777777778,
              "#fb9f3a"
             ],
             [
              0.8888888888888888,
              "#fdca26"
             ],
             [
              1,
              "#f0f921"
             ]
            ],
            "type": "heatmap"
           }
          ],
          "histogram": [
           {
            "marker": {
             "pattern": {
              "fillmode": "overlay",
              "size": 10,
              "solidity": 0.2
             }
            },
            "type": "histogram"
           }
          ],
          "histogram2d": [
           {
            "colorbar": {
             "outlinewidth": 0,
             "ticks": ""
            },
            "colorscale": [
             [
              0,
              "#0d0887"
             ],
             [
              0.1111111111111111,
              "#46039f"
             ],
             [
              0.2222222222222222,
              "#7201a8"
             ],
             [
              0.3333333333333333,
              "#9c179e"
             ],
             [
              0.4444444444444444,
              "#bd3786"
             ],
             [
              0.5555555555555556,
              "#d8576b"
             ],
             [
              0.6666666666666666,
              "#ed7953"
             ],
             [
              0.7777777777777778,
              "#fb9f3a"
             ],
             [
              0.8888888888888888,
              "#fdca26"
             ],
             [
              1,
              "#f0f921"
             ]
            ],
            "type": "histogram2d"
           }
          ],
          "histogram2dcontour": [
           {
            "colorbar": {
             "outlinewidth": 0,
             "ticks": ""
            },
            "colorscale": [
             [
              0,
              "#0d0887"
             ],
             [
              0.1111111111111111,
              "#46039f"
             ],
             [
              0.2222222222222222,
              "#7201a8"
             ],
             [
              0.3333333333333333,
              "#9c179e"
             ],
             [
              0.4444444444444444,
              "#bd3786"
             ],
             [
              0.5555555555555556,
              "#d8576b"
             ],
             [
              0.6666666666666666,
              "#ed7953"
             ],
             [
              0.7777777777777778,
              "#fb9f3a"
             ],
             [
              0.8888888888888888,
              "#fdca26"
             ],
             [
              1,
              "#f0f921"
             ]
            ],
            "type": "histogram2dcontour"
           }
          ],
          "mesh3d": [
           {
            "colorbar": {
             "outlinewidth": 0,
             "ticks": ""
            },
            "type": "mesh3d"
           }
          ],
          "parcoords": [
           {
            "line": {
             "colorbar": {
              "outlinewidth": 0,
              "ticks": ""
             }
            },
            "type": "parcoords"
           }
          ],
          "pie": [
           {
            "automargin": true,
            "type": "pie"
           }
          ],
          "scatter": [
           {
            "fillpattern": {
             "fillmode": "overlay",
             "size": 10,
             "solidity": 0.2
            },
            "type": "scatter"
           }
          ],
          "scatter3d": [
           {
            "line": {
             "colorbar": {
              "outlinewidth": 0,
              "ticks": ""
             }
            },
            "marker": {
             "colorbar": {
              "outlinewidth": 0,
              "ticks": ""
             }
            },
            "type": "scatter3d"
           }
          ],
          "scattercarpet": [
           {
            "marker": {
             "colorbar": {
              "outlinewidth": 0,
              "ticks": ""
             }
            },
            "type": "scattercarpet"
           }
          ],
          "scattergeo": [
           {
            "marker": {
             "colorbar": {
              "outlinewidth": 0,
              "ticks": ""
             }
            },
            "type": "scattergeo"
           }
          ],
          "scattergl": [
           {
            "marker": {
             "colorbar": {
              "outlinewidth": 0,
              "ticks": ""
             }
            },
            "type": "scattergl"
           }
          ],
          "scattermap": [
           {
            "marker": {
             "colorbar": {
              "outlinewidth": 0,
              "ticks": ""
             }
            },
            "type": "scattermap"
           }
          ],
          "scattermapbox": [
           {
            "marker": {
             "colorbar": {
              "outlinewidth": 0,
              "ticks": ""
             }
            },
            "type": "scattermapbox"
           }
          ],
          "scatterpolar": [
           {
            "marker": {
             "colorbar": {
              "outlinewidth": 0,
              "ticks": ""
             }
            },
            "type": "scatterpolar"
           }
          ],
          "scatterpolargl": [
           {
            "marker": {
             "colorbar": {
              "outlinewidth": 0,
              "ticks": ""
             }
            },
            "type": "scatterpolargl"
           }
          ],
          "scatterternary": [
           {
            "marker": {
             "colorbar": {
              "outlinewidth": 0,
              "ticks": ""
             }
            },
            "type": "scatterternary"
           }
          ],
          "surface": [
           {
            "colorbar": {
             "outlinewidth": 0,
             "ticks": ""
            },
            "colorscale": [
             [
              0,
              "#0d0887"
             ],
             [
              0.1111111111111111,
              "#46039f"
             ],
             [
              0.2222222222222222,
              "#7201a8"
             ],
             [
              0.3333333333333333,
              "#9c179e"
             ],
             [
              0.4444444444444444,
              "#bd3786"
             ],
             [
              0.5555555555555556,
              "#d8576b"
             ],
             [
              0.6666666666666666,
              "#ed7953"
             ],
             [
              0.7777777777777778,
              "#fb9f3a"
             ],
             [
              0.8888888888888888,
              "#fdca26"
             ],
             [
              1,
              "#f0f921"
             ]
            ],
            "type": "surface"
           }
          ],
          "table": [
           {
            "cells": {
             "fill": {
              "color": "#EBF0F8"
             },
             "line": {
              "color": "white"
             }
            },
            "header": {
             "fill": {
              "color": "#C8D4E3"
             },
             "line": {
              "color": "white"
             }
            },
            "type": "table"
           }
          ]
         },
         "layout": {
          "annotationdefaults": {
           "arrowcolor": "#2a3f5f",
           "arrowhead": 0,
           "arrowwidth": 1
          },
          "autotypenumbers": "strict",
          "coloraxis": {
           "colorbar": {
            "outlinewidth": 0,
            "ticks": ""
           }
          },
          "colorscale": {
           "diverging": [
            [
             0,
             "#8e0152"
            ],
            [
             0.1,
             "#c51b7d"
            ],
            [
             0.2,
             "#de77ae"
            ],
            [
             0.3,
             "#f1b6da"
            ],
            [
             0.4,
             "#fde0ef"
            ],
            [
             0.5,
             "#f7f7f7"
            ],
            [
             0.6,
             "#e6f5d0"
            ],
            [
             0.7,
             "#b8e186"
            ],
            [
             0.8,
             "#7fbc41"
            ],
            [
             0.9,
             "#4d9221"
            ],
            [
             1,
             "#276419"
            ]
           ],
           "sequential": [
            [
             0,
             "#0d0887"
            ],
            [
             0.1111111111111111,
             "#46039f"
            ],
            [
             0.2222222222222222,
             "#7201a8"
            ],
            [
             0.3333333333333333,
             "#9c179e"
            ],
            [
             0.4444444444444444,
             "#bd3786"
            ],
            [
             0.5555555555555556,
             "#d8576b"
            ],
            [
             0.6666666666666666,
             "#ed7953"
            ],
            [
             0.7777777777777778,
             "#fb9f3a"
            ],
            [
             0.8888888888888888,
             "#fdca26"
            ],
            [
             1,
             "#f0f921"
            ]
           ],
           "sequentialminus": [
            [
             0,
             "#0d0887"
            ],
            [
             0.1111111111111111,
             "#46039f"
            ],
            [
             0.2222222222222222,
             "#7201a8"
            ],
            [
             0.3333333333333333,
             "#9c179e"
            ],
            [
             0.4444444444444444,
             "#bd3786"
            ],
            [
             0.5555555555555556,
             "#d8576b"
            ],
            [
             0.6666666666666666,
             "#ed7953"
            ],
            [
             0.7777777777777778,
             "#fb9f3a"
            ],
            [
             0.8888888888888888,
             "#fdca26"
            ],
            [
             1,
             "#f0f921"
            ]
           ]
          },
          "colorway": [
           "#636efa",
           "#EF553B",
           "#00cc96",
           "#ab63fa",
           "#FFA15A",
           "#19d3f3",
           "#FF6692",
           "#B6E880",
           "#FF97FF",
           "#FECB52"
          ],
          "font": {
           "color": "#2a3f5f"
          },
          "geo": {
           "bgcolor": "white",
           "lakecolor": "white",
           "landcolor": "#E5ECF6",
           "showlakes": true,
           "showland": true,
           "subunitcolor": "white"
          },
          "hoverlabel": {
           "align": "left"
          },
          "hovermode": "closest",
          "mapbox": {
           "style": "light"
          },
          "paper_bgcolor": "white",
          "plot_bgcolor": "#E5ECF6",
          "polar": {
           "angularaxis": {
            "gridcolor": "white",
            "linecolor": "white",
            "ticks": ""
           },
           "bgcolor": "#E5ECF6",
           "radialaxis": {
            "gridcolor": "white",
            "linecolor": "white",
            "ticks": ""
           }
          },
          "scene": {
           "xaxis": {
            "backgroundcolor": "#E5ECF6",
            "gridcolor": "white",
            "gridwidth": 2,
            "linecolor": "white",
            "showbackground": true,
            "ticks": "",
            "zerolinecolor": "white"
           },
           "yaxis": {
            "backgroundcolor": "#E5ECF6",
            "gridcolor": "white",
            "gridwidth": 2,
            "linecolor": "white",
            "showbackground": true,
            "ticks": "",
            "zerolinecolor": "white"
           },
           "zaxis": {
            "backgroundcolor": "#E5ECF6",
            "gridcolor": "white",
            "gridwidth": 2,
            "linecolor": "white",
            "showbackground": true,
            "ticks": "",
            "zerolinecolor": "white"
           }
          },
          "shapedefaults": {
           "line": {
            "color": "#2a3f5f"
           }
          },
          "ternary": {
           "aaxis": {
            "gridcolor": "white",
            "linecolor": "white",
            "ticks": ""
           },
           "baxis": {
            "gridcolor": "white",
            "linecolor": "white",
            "ticks": ""
           },
           "bgcolor": "#E5ECF6",
           "caxis": {
            "gridcolor": "white",
            "linecolor": "white",
            "ticks": ""
           }
          },
          "title": {
           "x": 0.05
          },
          "xaxis": {
           "automargin": true,
           "gridcolor": "white",
           "linecolor": "white",
           "ticks": "",
           "title": {
            "standoff": 15
           },
           "zerolinecolor": "white",
           "zerolinewidth": 2
          },
          "yaxis": {
           "automargin": true,
           "gridcolor": "white",
           "linecolor": "white",
           "ticks": "",
           "title": {
            "standoff": 15
           },
           "zerolinecolor": "white",
           "zerolinewidth": 2
          }
         }
        },
        "title": {
         "text": "Trajectory with Deadband & |a| in Hover"
        }
       }
      }
     },
     "metadata": {},
     "output_type": "display_data"
    }
   ],
   "source": [
    "pos, vel, a_mag = compute_trajectory(df, deadband=6, sample_rate=100)\n",
    "plot_trajectory(pos, a_mag)\n"
   ]
  },
  {
   "cell_type": "code",
   "execution_count": 48,
   "id": "bbd7bd4d",
   "metadata": {},
   "outputs": [],
   "source": [
    "def plot_trajectory_with_dots(pos, a_mag, title='Trajectory with Dots & |a| in Hover'):\n",
    "    \"\"\"\n",
    "    Plots a 3D trajectory with small marker dots at every data point,\n",
    "    and acceleration magnitude in hover info.\n",
    "    \n",
    "    Parameters:\n",
    "    - pos: (N,3) array of positions [m]\n",
    "    - a_mag: (N,) array of acceleration magnitudes [m/s²]\n",
    "    - title: Figure title\n",
    "    \"\"\"\n",
    "    fig = go.Figure([\n",
    "        go.Scatter3d(\n",
    "            x=pos[:,0], y=pos[:,1], z=pos[:,2],\n",
    "            mode='lines+markers',\n",
    "            line=dict(color='blue', width=2),\n",
    "            marker=dict(color='blue', size=2),\n",
    "            name='Trajectory',\n",
    "            customdata=a_mag[:, None],\n",
    "            hovertemplate=(\n",
    "                'X: %{x:.3f} m<br>'\n",
    "                'Y: %{y:.3f} m<br>'\n",
    "                'Z: %{z:.3f} m<br>'\n",
    "                '|a|: %{customdata[0]:.3f} m/s²'\n",
    "            )\n",
    "        ),\n",
    "        go.Scatter3d(\n",
    "            x=[pos[0,0]], y=[pos[0,1]], z=[pos[0,2]],\n",
    "            mode='markers',\n",
    "            marker=dict(color='green', size=6),\n",
    "            name='Start',\n",
    "            hovertemplate='Start<br>X: %{x:.3f} m<br>Y: %{y:.3f} m<br>Z: %{z:.3f} m'\n",
    "        ),\n",
    "        go.Scatter3d(\n",
    "            x=[pos[-1,0]], y=[pos[-1,1]], z=[pos[-1,2]],\n",
    "            mode='markers',\n",
    "            marker=dict(color='red', size=6),\n",
    "            name='End',\n",
    "            hovertemplate='End<br>X: %{x:.3f} m<br>Y: %{y:.3f} m<br>Z: %{z:.3f} m'\n",
    "        )\n",
    "    ])\n",
    "    fig.update_layout(\n",
    "        scene=dict(\n",
    "            xaxis_title='X [m]',\n",
    "            yaxis_title='Y [m]',\n",
    "            zaxis_title='Z [m]',\n",
    "            aspectmode='data'\n",
    "        ),\n",
    "        title=title,\n",
    "        margin=dict(l=0, r=0, b=0, t=30)\n",
    "    )\n",
    "    fig.show()"
   ]
  },
  {
   "cell_type": "code",
   "execution_count": null,
   "id": "92a33899",
   "metadata": {},
   "outputs": [
    {
     "data": {
      "application/vnd.plotly.v1+json": {
       "config": {
        "plotlyServerURL": "https://plot.ly"
       },
       "data": [
        {
         "customdata": {
          "bdata": "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",
          "dtype": "f8",
          "shape": "188, 1"
         },
         "hovertemplate": "X: %{x:.3f} m<br>Y: %{y:.3f} m<br>Z: %{z:.3f} m<br>|a|: %{customdata[0]:.3f} m/s²",
         "line": {
          "color": "blue",
          "width": 2
         },
         "marker": {
          "color": "blue",
          "size": 2
         },
         "mode": "lines+markers",
         "name": "Trajectory",
         "type": "scatter3d",
         "x": {
          "bdata": "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",
          "dtype": "f8"
         },
         "y": {
          "bdata": "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",
          "dtype": "f8"
         },
         "z": {
          "bdata": "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",
          "dtype": "f8"
         }
        },
        {
         "hovertemplate": "Start<br>X: %{x:.3f} m<br>Y: %{y:.3f} m<br>Z: %{z:.3f} m",
         "marker": {
          "color": "green",
          "size": 6
         },
         "mode": "markers",
         "name": "Start",
         "type": "scatter3d",
         "x": [
          0
         ],
         "y": [
          0
         ],
         "z": [
          0
         ]
        },
        {
         "hovertemplate": "End<br>X: %{x:.3f} m<br>Y: %{y:.3f} m<br>Z: %{z:.3f} m",
         "marker": {
          "color": "red",
          "size": 6
         },
         "mode": "markers",
         "name": "End",
         "type": "scatter3d",
         "x": [
          -0.02831763067115506
         ],
         "y": [
          0.7231512302571207
         ],
         "z": [
          -0.20173919384904315
         ]
        }
       ],
       "layout": {
        "margin": {
         "b": 0,
         "l": 0,
         "r": 0,
         "t": 30
        },
        "scene": {
         "aspectmode": "data",
         "xaxis": {
          "title": {
           "text": "X [m]"
          }
         },
         "yaxis": {
          "title": {
           "text": "Y [m]"
          }
         },
         "zaxis": {
          "title": {
           "text": "Z [m]"
          }
         }
        },
        "template": {
         "data": {
          "bar": [
           {
            "error_x": {
             "color": "#2a3f5f"
            },
            "error_y": {
             "color": "#2a3f5f"
            },
            "marker": {
             "line": {
              "color": "#E5ECF6",
              "width": 0.5
             },
             "pattern": {
              "fillmode": "overlay",
              "size": 10,
              "solidity": 0.2
             }
            },
            "type": "bar"
           }
          ],
          "barpolar": [
           {
            "marker": {
             "line": {
              "color": "#E5ECF6",
              "width": 0.5
             },
             "pattern": {
              "fillmode": "overlay",
              "size": 10,
              "solidity": 0.2
             }
            },
            "type": "barpolar"
           }
          ],
          "carpet": [
           {
            "aaxis": {
             "endlinecolor": "#2a3f5f",
             "gridcolor": "white",
             "linecolor": "white",
             "minorgridcolor": "white",
             "startlinecolor": "#2a3f5f"
            },
            "baxis": {
             "endlinecolor": "#2a3f5f",
             "gridcolor": "white",
             "linecolor": "white",
             "minorgridcolor": "white",
             "startlinecolor": "#2a3f5f"
            },
            "type": "carpet"
           }
          ],
          "choropleth": [
           {
            "colorbar": {
             "outlinewidth": 0,
             "ticks": ""
            },
            "type": "choropleth"
           }
          ],
          "contour": [
           {
            "colorbar": {
             "outlinewidth": 0,
             "ticks": ""
            },
            "colorscale": [
             [
              0,
              "#0d0887"
             ],
             [
              0.1111111111111111,
              "#46039f"
             ],
             [
              0.2222222222222222,
              "#7201a8"
             ],
             [
              0.3333333333333333,
              "#9c179e"
             ],
             [
              0.4444444444444444,
              "#bd3786"
             ],
             [
              0.5555555555555556,
              "#d8576b"
             ],
             [
              0.6666666666666666,
              "#ed7953"
             ],
             [
              0.7777777777777778,
              "#fb9f3a"
             ],
             [
              0.8888888888888888,
              "#fdca26"
             ],
             [
              1,
              "#f0f921"
             ]
            ],
            "type": "contour"
           }
          ],
          "contourcarpet": [
           {
            "colorbar": {
             "outlinewidth": 0,
             "ticks": ""
            },
            "type": "contourcarpet"
           }
          ],
          "heatmap": [
           {
            "colorbar": {
             "outlinewidth": 0,
             "ticks": ""
            },
            "colorscale": [
             [
              0,
              "#0d0887"
             ],
             [
              0.1111111111111111,
              "#46039f"
             ],
             [
              0.2222222222222222,
              "#7201a8"
             ],
             [
              0.3333333333333333,
              "#9c179e"
             ],
             [
              0.4444444444444444,
              "#bd3786"
             ],
             [
              0.5555555555555556,
              "#d8576b"
             ],
             [
              0.6666666666666666,
              "#ed7953"
             ],
             [
              0.7777777777777778,
              "#fb9f3a"
             ],
             [
              0.8888888888888888,
              "#fdca26"
             ],
             [
              1,
              "#f0f921"
             ]
            ],
            "type": "heatmap"
           }
          ],
          "histogram": [
           {
            "marker": {
             "pattern": {
              "fillmode": "overlay",
              "size": 10,
              "solidity": 0.2
             }
            },
            "type": "histogram"
           }
          ],
          "histogram2d": [
           {
            "colorbar": {
             "outlinewidth": 0,
             "ticks": ""
            },
            "colorscale": [
             [
              0,
              "#0d0887"
             ],
             [
              0.1111111111111111,
              "#46039f"
             ],
             [
              0.2222222222222222,
              "#7201a8"
             ],
             [
              0.3333333333333333,
              "#9c179e"
             ],
             [
              0.4444444444444444,
              "#bd3786"
             ],
             [
              0.5555555555555556,
              "#d8576b"
             ],
             [
              0.6666666666666666,
              "#ed7953"
             ],
             [
              0.7777777777777778,
              "#fb9f3a"
             ],
             [
              0.8888888888888888,
              "#fdca26"
             ],
             [
              1,
              "#f0f921"
             ]
            ],
            "type": "histogram2d"
           }
          ],
          "histogram2dcontour": [
           {
            "colorbar": {
             "outlinewidth": 0,
             "ticks": ""
            },
            "colorscale": [
             [
              0,
              "#0d0887"
             ],
             [
              0.1111111111111111,
              "#46039f"
             ],
             [
              0.2222222222222222,
              "#7201a8"
             ],
             [
              0.3333333333333333,
              "#9c179e"
             ],
             [
              0.4444444444444444,
              "#bd3786"
             ],
             [
              0.5555555555555556,
              "#d8576b"
             ],
             [
              0.6666666666666666,
              "#ed7953"
             ],
             [
              0.7777777777777778,
              "#fb9f3a"
             ],
             [
              0.8888888888888888,
              "#fdca26"
             ],
             [
              1,
              "#f0f921"
             ]
            ],
            "type": "histogram2dcontour"
           }
          ],
          "mesh3d": [
           {
            "colorbar": {
             "outlinewidth": 0,
             "ticks": ""
            },
            "type": "mesh3d"
           }
          ],
          "parcoords": [
           {
            "line": {
             "colorbar": {
              "outlinewidth": 0,
              "ticks": ""
             }
            },
            "type": "parcoords"
           }
          ],
          "pie": [
           {
            "automargin": true,
            "type": "pie"
           }
          ],
          "scatter": [
           {
            "fillpattern": {
             "fillmode": "overlay",
             "size": 10,
             "solidity": 0.2
            },
            "type": "scatter"
           }
          ],
          "scatter3d": [
           {
            "line": {
             "colorbar": {
              "outlinewidth": 0,
              "ticks": ""
             }
            },
            "marker": {
             "colorbar": {
              "outlinewidth": 0,
              "ticks": ""
             }
            },
            "type": "scatter3d"
           }
          ],
          "scattercarpet": [
           {
            "marker": {
             "colorbar": {
              "outlinewidth": 0,
              "ticks": ""
             }
            },
            "type": "scattercarpet"
           }
          ],
          "scattergeo": [
           {
            "marker": {
             "colorbar": {
              "outlinewidth": 0,
              "ticks": ""
             }
            },
            "type": "scattergeo"
           }
          ],
          "scattergl": [
           {
            "marker": {
             "colorbar": {
              "outlinewidth": 0,
              "ticks": ""
             }
            },
            "type": "scattergl"
           }
          ],
          "scattermap": [
           {
            "marker": {
             "colorbar": {
              "outlinewidth": 0,
              "ticks": ""
             }
            },
            "type": "scattermap"
           }
          ],
          "scattermapbox": [
           {
            "marker": {
             "colorbar": {
              "outlinewidth": 0,
              "ticks": ""
             }
            },
            "type": "scattermapbox"
           }
          ],
          "scatterpolar": [
           {
            "marker": {
             "colorbar": {
              "outlinewidth": 0,
              "ticks": ""
             }
            },
            "type": "scatterpolar"
           }
          ],
          "scatterpolargl": [
           {
            "marker": {
             "colorbar": {
              "outlinewidth": 0,
              "ticks": ""
             }
            },
            "type": "scatterpolargl"
           }
          ],
          "scatterternary": [
           {
            "marker": {
             "colorbar": {
              "outlinewidth": 0,
              "ticks": ""
             }
            },
            "type": "scatterternary"
           }
          ],
          "surface": [
           {
            "colorbar": {
             "outlinewidth": 0,
             "ticks": ""
            },
            "colorscale": [
             [
              0,
              "#0d0887"
             ],
             [
              0.1111111111111111,
              "#46039f"
             ],
             [
              0.2222222222222222,
              "#7201a8"
             ],
             [
              0.3333333333333333,
              "#9c179e"
             ],
             [
              0.4444444444444444,
              "#bd3786"
             ],
             [
              0.5555555555555556,
              "#d8576b"
             ],
             [
              0.6666666666666666,
              "#ed7953"
             ],
             [
              0.7777777777777778,
              "#fb9f3a"
             ],
             [
              0.8888888888888888,
              "#fdca26"
             ],
             [
              1,
              "#f0f921"
             ]
            ],
            "type": "surface"
           }
          ],
          "table": [
           {
            "cells": {
             "fill": {
              "color": "#EBF0F8"
             },
             "line": {
              "color": "white"
             }
            },
            "header": {
             "fill": {
              "color": "#C8D4E3"
             },
             "line": {
              "color": "white"
             }
            },
            "type": "table"
           }
          ]
         },
         "layout": {
          "annotationdefaults": {
           "arrowcolor": "#2a3f5f",
           "arrowhead": 0,
           "arrowwidth": 1
          },
          "autotypenumbers": "strict",
          "coloraxis": {
           "colorbar": {
            "outlinewidth": 0,
            "ticks": ""
           }
          },
          "colorscale": {
           "diverging": [
            [
             0,
             "#8e0152"
            ],
            [
             0.1,
             "#c51b7d"
            ],
            [
             0.2,
             "#de77ae"
            ],
            [
             0.3,
             "#f1b6da"
            ],
            [
             0.4,
             "#fde0ef"
            ],
            [
             0.5,
             "#f7f7f7"
            ],
            [
             0.6,
             "#e6f5d0"
            ],
            [
             0.7,
             "#b8e186"
            ],
            [
             0.8,
             "#7fbc41"
            ],
            [
             0.9,
             "#4d9221"
            ],
            [
             1,
             "#276419"
            ]
           ],
           "sequential": [
            [
             0,
             "#0d0887"
            ],
            [
             0.1111111111111111,
             "#46039f"
            ],
            [
             0.2222222222222222,
             "#7201a8"
            ],
            [
             0.3333333333333333,
             "#9c179e"
            ],
            [
             0.4444444444444444,
             "#bd3786"
            ],
            [
             0.5555555555555556,
             "#d8576b"
            ],
            [
             0.6666666666666666,
             "#ed7953"
            ],
            [
             0.7777777777777778,
             "#fb9f3a"
            ],
            [
             0.8888888888888888,
             "#fdca26"
            ],
            [
             1,
             "#f0f921"
            ]
           ],
           "sequentialminus": [
            [
             0,
             "#0d0887"
            ],
            [
             0.1111111111111111,
             "#46039f"
            ],
            [
             0.2222222222222222,
             "#7201a8"
            ],
            [
             0.3333333333333333,
             "#9c179e"
            ],
            [
             0.4444444444444444,
             "#bd3786"
            ],
            [
             0.5555555555555556,
             "#d8576b"
            ],
            [
             0.6666666666666666,
             "#ed7953"
            ],
            [
             0.7777777777777778,
             "#fb9f3a"
            ],
            [
             0.8888888888888888,
             "#fdca26"
            ],
            [
             1,
             "#f0f921"
            ]
           ]
          },
          "colorway": [
           "#636efa",
           "#EF553B",
           "#00cc96",
           "#ab63fa",
           "#FFA15A",
           "#19d3f3",
           "#FF6692",
           "#B6E880",
           "#FF97FF",
           "#FECB52"
          ],
          "font": {
           "color": "#2a3f5f"
          },
          "geo": {
           "bgcolor": "white",
           "lakecolor": "white",
           "landcolor": "#E5ECF6",
           "showlakes": true,
           "showland": true,
           "subunitcolor": "white"
          },
          "hoverlabel": {
           "align": "left"
          },
          "hovermode": "closest",
          "mapbox": {
           "style": "light"
          },
          "paper_bgcolor": "white",
          "plot_bgcolor": "#E5ECF6",
          "polar": {
           "angularaxis": {
            "gridcolor": "white",
            "linecolor": "white",
            "ticks": ""
           },
           "bgcolor": "#E5ECF6",
           "radialaxis": {
            "gridcolor": "white",
            "linecolor": "white",
            "ticks": ""
           }
          },
          "scene": {
           "xaxis": {
            "backgroundcolor": "#E5ECF6",
            "gridcolor": "white",
            "gridwidth": 2,
            "linecolor": "white",
            "showbackground": true,
            "ticks": "",
            "zerolinecolor": "white"
           },
           "yaxis": {
            "backgroundcolor": "#E5ECF6",
            "gridcolor": "white",
            "gridwidth": 2,
            "linecolor": "white",
            "showbackground": true,
            "ticks": "",
            "zerolinecolor": "white"
           },
           "zaxis": {
            "backgroundcolor": "#E5ECF6",
            "gridcolor": "white",
            "gridwidth": 2,
            "linecolor": "white",
            "showbackground": true,
            "ticks": "",
            "zerolinecolor": "white"
           }
          },
          "shapedefaults": {
           "line": {
            "color": "#2a3f5f"
           }
          },
          "ternary": {
           "aaxis": {
            "gridcolor": "white",
            "linecolor": "white",
            "ticks": ""
           },
           "baxis": {
            "gridcolor": "white",
            "linecolor": "white",
            "ticks": ""
           },
           "bgcolor": "#E5ECF6",
           "caxis": {
            "gridcolor": "white",
            "linecolor": "white",
            "ticks": ""
           }
          },
          "title": {
           "x": 0.05
          },
          "xaxis": {
           "automargin": true,
           "gridcolor": "white",
           "linecolor": "white",
           "ticks": "",
           "title": {
            "standoff": 15
           },
           "zerolinecolor": "white",
           "zerolinewidth": 2
          },
          "yaxis": {
           "automargin": true,
           "gridcolor": "white",
           "linecolor": "white",
           "ticks": "",
           "title": {
            "standoff": 15
           },
           "zerolinecolor": "white",
           "zerolinewidth": 2
          }
         }
        },
        "title": {
         "text": "Trajectory with Dots & |a| in Hover"
        }
       }
      }
     },
     "metadata": {},
     "output_type": "display_data"
    }
   ],
   "source": [
    "plot_trajectory_with_dots(pos, a_mag,)\n"
   ]
  }
 ],
 "metadata": {
  "kernelspec": {
   "display_name": ".venv",
   "language": "python",
   "name": "python3"
  },
  "language_info": {
   "codemirror_mode": {
    "name": "ipython",
    "version": 3
   },
   "file_extension": ".py",
   "mimetype": "text/x-python",
   "name": "python",
   "nbconvert_exporter": "python",
   "pygments_lexer": "ipython3",
   "version": "3.11.9"
  }
 },
 "nbformat": 4,
 "nbformat_minor": 5
}
